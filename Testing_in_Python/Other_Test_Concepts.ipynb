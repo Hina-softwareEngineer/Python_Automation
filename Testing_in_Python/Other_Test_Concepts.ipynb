{
 "cells": [
  {
   "cell_type": "markdown",
   "metadata": {},
   "source": [
    "## Black Box vs. White Box\n",
    "\n",
    " One interesting concept is whether our test is a white-box test or a black-box test. \n",
    "    \n",
    "White-box testing also sometimes called clear-box or transparent testing relies on the test creators knowledge of the software being tested to construct the test cases.\n",
    "\n",
    "On the other hand, in black-box testing, the software being tested is treated like an opaque box. In other words, the tester doesn't know the internals of how the software works. Black-box tests are written with an awareness of what the program is supposed to do, its requirements or specifications, but not how it does it.\n",
    "\n",
    "Black-box tests are useful because they don't rely on the knowledge of how the system works\n",
    "\n",
    " We can write unit tests that are either white or black-box, depending on which testing methodology is chosen. \n",
    "    \n",
    "If the unit tests are created before any code is written based on specifications of what the code is supposed to do, they can be considered black-box unit test. \n",
    "\n",
    "If unit tests are run alongside or after the code has been developed, the test cases are made with a knowledge of how software works"
   ]
  },
  {
   "cell_type": "markdown",
   "metadata": {},
   "source": [
    "## Other Test Types\n",
    "\n",
    "**1. Unit Test**\n",
    "\n",
    "    This allows the test to verify the unit provides expected functionality regardless of the rest of the environment.\n",
    "\n",
    "\n",
    "**2. Integration Test**\n",
    "\n",
    "    Integration tests verify that the interactions between the different pieces of code in integrated environments are working the way we expect them to. While unit tests shouldn't cross boundaries to do things like make a network request or integrate with an API or database, the goal of an integration test is to verify these kinds of interactions and make sure the whole system works how you expect it to. \n",
    "    \n",
    "    Integration test, usually take the individual modules of code that unit test verify then combine them into a group to test.\n",
    "    \n",
    "\n",
    "**3. Regression Test**\n",
    "    \n",
    "     A variant of unit tests our regression tests. They're usually written as part of a debugging and troubleshooting process to verify that an issue or error has been fixed once it's been identified.\n",
    "     \n",
    "     Say our script has a bug and we're trying to fix it. A good approach to doing this would be the first right to test fails by triggering the buggy behavior, then fix the bug so that a test passes. \n",
    "     \n",
    "     Regression tests are useful part of a test suite because they ensure that the same mistake doesn't happen twice. The same bug can't be reintroduced into the code because introducing it will cause the regression test to fail.\n",
    "     \n",
    "\n",
    "**4. Smoke Test**\n",
    "    \n",
    "    Smoke test sometimes called build verification test, get their name from a concept that comes from testing hardware equipment. \n",
    "    \n",
    "    When writing software smoke test serve as a kind of sanity check to find major bugs in a program. \n",
    "    \n",
    "    Smoke test answer basic questions like, does the program run? These tests are usually run before more refined testing takes place\n",
    "    \n",
    "   \n",
    "**5. Load Test**\n",
    "\n",
    "     Other types of tests our load tests. These tests verify that the system behaves well when it's under significant load. \n",
    "     \n",
    "     To actually perform these tests will need to generate traffic to our application simulating typical usage of the service. \n",
    "     \n",
    "   \n",
    "**6. Test Suite**\n",
    "\n",
    "    Taking together a group of tests of one or many kinds is commonly referred to as a test suite."
   ]
  },
  {
   "cell_type": "markdown",
   "metadata": {},
   "source": [
    "## Test-Driven Development\n",
    "\n",
    "A process called **test-driven development or TDD** calls for creating the test before writing the code. This might seem a bit counter-intuitive, but it can make for more thoughtful well-written programs.\n",
    "\n",
    "The test-driven development cycle typically involves first writing a test then running it to make sure it fails. After all, you haven't written the code to make it passed yet. Once you've verified it fails, you write the code that will satisfy the test then run the tests again. If it passes you can continue on to the next part of your program. If it fails you Debug and run the test again. The cycle is repeated for each new feature of your script until it's up and running.\n",
    "\n",
    "When engineers submit their code, it's integrated into the main repository and tests are automatically run against it to spot bugs and errors in a process called **Continuous Integration.**\n"
   ]
  },
  {
   "cell_type": "markdown",
   "metadata": {},
   "source": [
    "## Cheat Sheet\n",
    "\n",
    "Check out the following links for more information:\n",
    "\n",
    "- https://landing.google.com/sre/sre-book/chapters/monitoring-distributed-systems/\n",
    "- https://landing.google.com/sre/sre-book/chapters/testing-reliability/\n",
    "- https://testing.googleblog.com/2007/10/performance-testing.html\n",
    "- https://www.guru99.com/smoke-testing.html\n",
    "- https://www.guru99.com/exploratory-testing.html\n",
    "- https://testing.googleblog.com/2008/09/test-first-is-fun_08.html"
   ]
  },
  {
   "cell_type": "code",
   "execution_count": null,
   "metadata": {},
   "outputs": [],
   "source": []
  }
 ],
 "metadata": {
  "kernelspec": {
   "display_name": "Python 3",
   "language": "python",
   "name": "python3"
  },
  "language_info": {
   "codemirror_mode": {
    "name": "ipython",
    "version": 3
   },
   "file_extension": ".py",
   "mimetype": "text/x-python",
   "name": "python",
   "nbconvert_exporter": "python",
   "pygments_lexer": "ipython3",
   "version": "3.7.4"
  }
 },
 "nbformat": 4,
 "nbformat_minor": 2
}
