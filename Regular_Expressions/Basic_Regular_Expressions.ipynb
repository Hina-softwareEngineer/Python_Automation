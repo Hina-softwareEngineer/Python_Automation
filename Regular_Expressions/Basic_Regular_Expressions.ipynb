{
 "cells": [
  {
   "cell_type": "code",
   "execution_count": 4,
   "metadata": {},
   "outputs": [
    {
     "name": "stdout",
     "output_type": "stream",
     "text": [
      "<re.Match object; span=(2, 5), match='aza'>\n",
      "None\n"
     ]
    }
   ],
   "source": [
    "import re\n",
    "\n",
    "result=re.search(r\"aza\",\"plaza\")\n",
    "print(result)\n",
    "# r means raw string. which is equal to normal string\n",
    "\n",
    "# Always use raw string.\n",
    "\n",
    "# above result gives match object\n",
    "\n",
    "res=re.search(r\"hina\",\"bazaar\")\n",
    "print(res)"
   ]
  },
  {
   "cell_type": "code",
   "execution_count": 7,
   "metadata": {},
   "outputs": [
    {
     "name": "stdout",
     "output_type": "stream",
     "text": [
      "<re.Match object; span=(0, 1), match='x'>\n"
     ]
    }
   ],
   "source": [
    "print(re.search(r\"^x\",\"xenon\"))\n",
    "\n",
    "print(re.search(r\"p.ng\",\"Pangarea\",re.IGNORECASE))"
   ]
  },
  {
   "cell_type": "markdown",
   "metadata": {},
   "source": [
    "# WILDCARDS"
   ]
  },
  {
   "cell_type": "markdown",
   "metadata": {},
   "source": [
    "- **CHARACTER CLASSES**\n",
    "\n",
    "> [a-z]\n",
    "> [A-Z]"
   ]
  },
  {
   "cell_type": "code",
   "execution_count": null,
   "metadata": {},
   "outputs": [],
   "source": [
    "print(re.search(r\"[Pp]ython\",\"python\"))\n",
    "\n",
    "print(re.search(r\"[a-z]way\",\"What a way to go highway?\"))\n",
    "\n",
    "print(re.search(r\"cloud[a-zA-Z0-9]\",\"cloud9\"))\n",
    "\n",
    "print(re.search(r\"[a-zA-Z]\",\"This a sentence.\"))# matches all characters except letters whther space\n",
    "\n",
    "print(re.search(r\"[a-zA-Z ]\",\"This a sentence.\"))# matches all characters except letters with space\n",
    "\n",
    "print(re.search(r\"[cat|dog]\",\"This a cat dog sentence.\"))# matches either cat or dog\n",
    "# but got the first one\n",
    "\n",
    "print(re.findall(r\"[cat|dog]\",\"This a cat dog sentence.\"))\n",
    "# both will get cat and dog."
   ]
  },
  {
   "cell_type": "markdown",
   "metadata": {},
   "source": [
    "# Repetition Quantifiers\n",
    "\n",
    "It include a dot followed by a star. This means that it matches any character repeated as many times as possible including zero"
   ]
  },
  {
   "cell_type": "code",
   "execution_count": null,
   "metadata": {},
   "outputs": [],
   "source": [
    "print(re.search(r\"Py.*n\",\"Python Programming Pygamilon\"))\n",
    "\n",
    "#* behaviour is greedy. It means as many as character insted of this\n",
    "\n",
    "print(re.search(r\"Py[a-z]*n\",\"Python Programming Pygamilon\"))\n"
   ]
  },
  {
   "cell_type": "markdown",
   "metadata": {},
   "source": [
    "# +\n",
    "\n",
    "The plus character matches one or more occurrences of the character that comes before it.\n",
    "\n",
    "# ?\n",
    "The qu\n",
    "estion mark symbol is yet another multiplier. It means either zero or one occurrence of the character before it. "
   ]
  },
  {
   "cell_type": "code",
   "execution_count": null,
   "metadata": {},
   "outputs": [],
   "source": [
    "print(re.search(r'o+l+',\"goldfish\"))\n",
    "print(re.search(r'o+l+','wolly'))\n",
    "print(re.search(r'o+l+','boil'))# None\n",
    "\n",
    "print(re.search(r'p?each','To each their own'))\n",
    "print(re.search(r'p?each','I like peaches'))"
   ]
  },
  {
   "cell_type": "markdown",
   "metadata": {},
   "source": [
    "# Escaping Characters '\\'\n",
    "\n",
    "-**\\w matches any alphanumeric character e.g alphabets, numbers, underscores**\n",
    "\n",
    "**\\d** for matching digits\n",
    "\n",
    "**\\s** for matching whitespace characters like space, tab or new line\n",
    "\n",
    "**\\b** for word boundaries and a few others"
   ]
  },
  {
   "cell_type": "code",
   "execution_count": null,
   "metadata": {},
   "outputs": [],
   "source": [
    "print(re.search(r'\\.com','wellcome')\n",
    "print(re.search(r'\\.com','mydomain.com')\n",
    "\n",
    "print(re.search(r'\\w*','This is an example')\n",
    "print(re.search(r'\\w*','and_this_is_another_example')"
   ]
  },
  {
   "cell_type": "markdown",
   "metadata": {},
   "source": [
    "# regex101.com"
   ]
  },
  {
   "cell_type": "markdown",
   "metadata": {},
   "source": [
    "# Regular Expressions in Action"
   ]
  },
  {
   "cell_type": "code",
   "execution_count": null,
   "metadata": {},
   "outputs": [],
   "source": [
    "print(re.search(r'A.*a\",\"Argentina\"))\n",
    "print(re.search(r'A.*a\",\"Azarbaijan\"))\n",
    "                \n",
    "print(re.search(r\"^A.*a$\",\"Azarbaijan\"))\n",
    "print(re.search(r\"A.*a\",\"Australia\"))\n",
    "                \n",
    "print(re.search(r'^[A-Za-z_][a-zA-Z0-9_]*$','_this_is_a_valid_variable_name'))\n",
    "print(re.search(r'^[A-Za-z_][a-zA-Z0-9_]*$','_this is a valid variable name'))\n",
    "                "
   ]
  },
  {
   "cell_type": "markdown",
   "metadata": {},
   "source": [
    "# quiz "
   ]
  },
  {
   "cell_type": "markdown",
   "metadata": {},
   "source": [
    "#### Q1. The check_web_address function checks if the text passed qualifies as a top-level web address, meaning that it contains alphanumeric characters (which includes letters, numbers, and underscores), as well as periods, dashes, and a plus sign, followed by a period and a character-only top-level domain such as \".com\", \".info\", \".edu\", etc. Fill in the regular expression to do that, using escape characters, wildcards, repetition qualifiers, beginning and end-of-line characters, and character classes."
   ]
  },
  {
   "cell_type": "code",
   "execution_count": null,
   "metadata": {},
   "outputs": [],
   "source": [
    "import re\n",
    "def check_web_address(text):\n",
    "    pattern = \"^\\S+\\.[a-zA-Z]+$\"\n",
    "    result = re.search(pattern, text)\n",
    "    return result != None\n",
    "\n",
    "print(check_web_address(\"gmail.com\")) # True\n",
    "print(check_web_address(\"www@google\")) # False\n",
    "print(check_web_address(\"www.Coursera.org\")) # True\n",
    "print(check_web_address(\"web-address.com/homepage\")) # False\n",
    "print(check_web_address(\"My_Favorite-Blog.US\")) # True\n"
   ]
  },
  {
   "cell_type": "markdown",
   "metadata": {},
   "source": [
    "#### Q2. The check_time function checks for the time format of a 12-hour clock, as follows: the hour is between 1 and 12, with no leading zero, followed by a colon, then minutes between 00 and 59, then an optional space, and then AM or PM, in upper or lower case. Fill in the regular expression to do that. How many of the concepts that you just learned can you use here?"
   ]
  },
  {
   "cell_type": "code",
   "execution_count": null,
   "metadata": {},
   "outputs": [],
   "source": [
    "import re\n",
    "def check_time(text):\n",
    "    pattern = \"^([1-9]|(1[0-2]))\\:[0-5][0-9]+([ AM| PM]|[ am| pm])\"\n",
    "    result = re.search(pattern, text, re.IGNORECASE)\n",
    "    return result != None\n",
    "\n",
    "print(check_time(\"12:45pm\")) # True\n",
    "print(check_time(\"9:59 AM\")) # True\n",
    "print(check_time(\"6:60am\")) # False\n",
    "print(check_time(\"16:40pm\"))\n",
    "print(check_time(\"five o'clock\")) # False"
   ]
  }
 ],
 "metadata": {
  "kernelspec": {
   "display_name": "Python 3",
   "language": "python",
   "name": "python3"
  },
  "language_info": {
   "codemirror_mode": {
    "name": "ipython",
    "version": 3
   },
   "file_extension": ".py",
   "mimetype": "text/x-python",
   "name": "python",
   "nbconvert_exporter": "python",
   "pygments_lexer": "ipython3",
   "version": "3.7.4"
  }
 },
 "nbformat": 4,
 "nbformat_minor": 2
}
