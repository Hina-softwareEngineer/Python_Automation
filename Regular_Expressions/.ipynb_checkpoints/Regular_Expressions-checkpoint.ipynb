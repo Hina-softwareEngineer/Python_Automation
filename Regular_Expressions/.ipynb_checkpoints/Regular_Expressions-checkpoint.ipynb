{
 "cells": [
  {
   "cell_type": "markdown",
   "metadata": {},
   "source": [
    "# Regular Expressions\n",
    "\n",
    "It is basically a search query for text that's expressed by string pattern.\n",
    "\n",
    "\n",
    "pyenchant lib"
   ]
  },
  {
   "cell_type": "markdown",
   "metadata": {},
   "source": [
    "# Re-Module\n",
    "\n",
    "- **re.search**"
   ]
  },
  {
   "cell_type": "code",
   "execution_count": null,
   "metadata": {},
   "outputs": [],
   "source": [
    "import re\n",
    "log=\"July 31 07:51:48 mycomputer bad_process[12345]: ERROR performing package upgrade\"\n",
    "\n",
    "regex=r\"\\[(d+)\\]\"\n",
    "result=res.search(regex,log)\n",
    "print(result)"
   ]
  },
  {
   "cell_type": "markdown",
   "metadata": {},
   "source": [
    "# Grep\n",
    "\n",
    " We can also use regular expressions with a bunch of command line tools. \n",
    " \n",
    "**Grep** is an especially easy to use yet extremely powerful tool for applying regexes\n",
    "\n",
    "Usage:\n",
    "\n",
    "- grep ***-i*** word_to_find /path/usr\n",
    "It finds word case insensitive\n",
    "\n",
    "- grep word_to_find /usr/path/of/file\n",
    "\n",
    "#### The circumflex indicates the beginning and the dollar sign indicates the end of the line.\n",
    "\n",
    "- grep ^python /usr/fipath/filenaem.txt\n",
    "It finds all words that start with python\n",
    "\n",
    "- grep cat$ /usr/fipath/file,csv\n",
    "It finds all words that ends with word cat\n",
    "\n",
    "- grep s.ing /usr/path\n",
    "It gives all words e.g string, sling, sming, etc.\n",
    "**.** means any character"
   ]
  },
  {
   "cell_type": "code",
   "execution_count": null,
   "metadata": {},
   "outputs": [],
   "source": []
  }
 ],
 "metadata": {
  "kernelspec": {
   "display_name": "Python 3",
   "language": "python",
   "name": "python3"
  },
  "language_info": {
   "codemirror_mode": {
    "name": "ipython",
    "version": 3
   },
   "file_extension": ".py",
   "mimetype": "text/x-python",
   "name": "python",
   "nbconvert_exporter": "python",
   "pygments_lexer": "ipython3",
   "version": "3.7.4"
  }
 },
 "nbformat": 4,
 "nbformat_minor": 2
}
