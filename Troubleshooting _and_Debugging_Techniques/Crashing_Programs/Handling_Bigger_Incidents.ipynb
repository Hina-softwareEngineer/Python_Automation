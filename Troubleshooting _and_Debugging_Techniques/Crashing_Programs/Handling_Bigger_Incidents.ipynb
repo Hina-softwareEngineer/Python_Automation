{
 "cells": [
  {
   "cell_type": "markdown",
   "metadata": {},
   "source": [
    "## Crashes in complex systems\n",
    "\n",
    "We've covered a bunch of techniques that you can use when facing a problem in a complex system. Looking at the available logs, figuring out what changed since the system was last working, rolling back to a previous state, removing faulty servers from the pool, or deploying new servers on demand. This could be achieved by either keeping standy servers or having tested pipeline that deploy new servers.\n",
    "\n",
    "## Communication and Documentation During Incidents\n",
    "\n",
    "When working on a problem, it's always a good idea to document what you're doing in a bug or ticket. If there's no such system at your company, then use a doc, a text file, or Wiki, or whatever you have access to. Documenting what you do, lets you keep track of what you've tried and what the results were\n",
    "\n",
    " If the issue is big enough that you're involving more people in finding a solution, you should agree on who's going to work on which tasks.\n",
    " \n",
    " On top of people looking for the root cause and a solution, you want to have a person in charge of communicating with the people affected.\n",
    " \n",
    "#### This communications lead needs to know what's going on and provide timely updates on the current state and how long until the problem's resolved.\n",
    "\n",
    "They can act as a shield for questions from users letting the rest of the team focus on the actual problem. \n",
    "\n",
    "Similarly, there should be one person in charge of delegating the different tasks to the team members. This person sometimes called the **Incident Commander or Incident Controller needs to look at the big picture and decide what's the best use of the available resources**. They can make sure that there's no duplication of work among team members and that only one person is modifying the production system at a time. Having multiple people make overlapping changes to the system could lead to confusing results, making the outage even longer. \n",
    "\n",
    "\n",
    "Once the issue has been resolved, it's super-important to sum up the information that was helpful. \n",
    "\n",
    "The most important information that you'll want to include are the root cause,\n",
    "\n",
    "how you diagnose the problem and found that root cause, \n",
    "\n",
    "what you did to fix the issue and \n",
    "\n",
    "what needs to be done to prevent the problem from happening again. \n",
    "\n",
    "Depending on the size of the issue and the number of people affected, this summary could just be the last update to the bug or ticket that you use to keep track of your work, or it could be a full postmortem."
   ]
  },
  {
   "cell_type": "markdown",
   "metadata": {},
   "source": [
    "## Writing Effective Postmortems\n",
    "\n",
    " **Postmortems** are documents that describe details of incidence to help us learn from our mistakes. When writing a postmortem, the goal isn't to blame whoever caused the incident, but to learn from what happened to prevent the same issue from happening again.\n",
    " \n",
    "  To do this, we usually document what happened, why it happened, how it was diagnosed, how it was fixed, and finally figure out what we can do to avoid the same event happening in the future. Remember the main goal is to learn from our mistakes.\n",
    "  \n",
    "So what should you write in a postmortem? The exact structure might vary depending on preference and the type of incident that you're dealing with. \n",
    "\n",
    "In general, you'll want to include the details of - what caused the issue, \n",
    "- what the impact of the issue was, \n",
    "- how it got diagnosed, \n",
    "- the short-term remediation you applied, and \n",
    "- the long-term remediation you recommend. \n",
    "\n",
    "If the document is long and you're going to share it with a lot of people, you want to include a summary that highlights the root cause, the impact, and what needs to be done to prevent the issue from happening again\n",
    "\n",
    "**Once again, remember that the most important part of the postmortem is what we can learn for the future. So if instead of writing a whole document you're creating a one paragraph summary of the incident.**"
   ]
  }
 ],
 "metadata": {
  "kernelspec": {
   "display_name": "Python 3",
   "language": "python",
   "name": "python3"
  },
  "language_info": {
   "codemirror_mode": {
    "name": "ipython",
    "version": 3
   },
   "file_extension": ".py",
   "mimetype": "text/x-python",
   "name": "python",
   "nbconvert_exporter": "python",
   "pygments_lexer": "ipython3",
   "version": "3.7.4"
  }
 },
 "nbformat": 4,
 "nbformat_minor": 2
}
