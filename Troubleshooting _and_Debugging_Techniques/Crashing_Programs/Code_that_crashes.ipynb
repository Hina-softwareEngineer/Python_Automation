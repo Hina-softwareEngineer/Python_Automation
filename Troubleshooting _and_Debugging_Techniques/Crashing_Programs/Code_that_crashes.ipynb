{
 "cells": [
  {
   "cell_type": "markdown",
   "metadata": {},
   "source": [
    "## Accessing Invalid Memory\n",
    "\n",
    "accessing invalid memory means that the process tried to access a portion of the system's memory that wasn't assigned to it.\n",
    "\n",
    "It typically happens with low-level languages like C or C++ where the programmer needs to take care of requesting the memory that the program is going to use and then giving that memory back once it's not needed anymore. In these languages, the variables that store memory addresses are called pointers.\n",
    "\n",
    "ommon programming errors that lead to segmentation faults or segfaults include forgetting to initialize a variable, trying to access a list element outside of the valid range, trying to use a portion of memory after having given it back, and trying to write more data than the requested portion of memory can hold. So what can you do if you have a program that's said vaulting? The best way to understand what's going on is to attach a debugger to the faulty program.\n",
    "\n",
    "For this to be possible, we'll need our program to be compiled with debugging symbols. This means that on top of the information that the computer uses to execute the program, the executable binary needs to include extra information needed for debugging, like the names of the variables and functions being used. These symbols are usually stripped away from the binaries that we run to make them smaller\n",
    "\n",
    "When doing this, we might find that the crash happens inside a call to a library function. This is separate from the application itself, so we need to install the debugging symbols for that library. \n",
    "\n",
    "\n",
    "**Microsoft compilers can also generate debugging symbols in a separate PDB file**. Some Windows software providers let users download the PDP files that correspond to their binaries to let them properly debug failures. One of the trickiest things about this invalid memory business is that we're usually dealing with **undefined behavior** .This means that the code is doing something that's not valid in the programming language. \n",
    "\n",
    "When trying to understand problems related to handling invalid memory, **valgrind** can help us a lot. Valgrind is a very powerful tool that can tell us if the code is doing any invalid operations no matter if it crashes are not. Valgrind lets us know if the code is accessing variables before initializing them. \n",
    "\n",
    "Valgrind is available on Linux and Mac OS, and **Dr. Memory** is a similar tool that can be used on both Windows and Linux. \n",
    "\n"
   ]
  }
 ],
 "metadata": {
  "kernelspec": {
   "display_name": "Python 3",
   "language": "python",
   "name": "python3"
  },
  "language_info": {
   "codemirror_mode": {
    "name": "ipython",
    "version": 3
   },
   "file_extension": ".py",
   "mimetype": "text/x-python",
   "name": "python",
   "nbconvert_exporter": "python",
   "pygments_lexer": "ipython3",
   "version": "3.7.4"
  }
 },
 "nbformat": 4,
 "nbformat_minor": 2
}
