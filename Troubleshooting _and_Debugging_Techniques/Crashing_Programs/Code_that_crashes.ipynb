{
 "cells": [
  {
   "cell_type": "markdown",
   "metadata": {},
   "source": [
    "## Accessing Invalid Memory\n",
    "\n",
    "accessing invalid memory means that the process tried to access a portion of the system's memory that wasn't assigned to it.\n",
    "\n",
    "It typically happens with low-level languages like C or C++ where the programmer needs to take care of requesting the memory that the program is going to use and then giving that memory back once it's not needed anymore. In these languages, the variables that store memory addresses are called pointers.\n",
    "\n",
    "ommon programming errors that lead to segmentation faults or segfaults include forgetting to initialize a variable, trying to access a list element outside of the valid range, trying to use a portion of memory after having given it back, and trying to write more data than the requested portion of memory can hold. So what can you do if you have a program that's said vaulting? The best way to understand what's going on is to attach a debugger to the faulty program.\n",
    "\n",
    "For this to be possible, we'll need our program to be compiled with debugging symbols. This means that on top of the information that the computer uses to execute the program, the executable binary needs to include extra information needed for debugging, like the names of the variables and functions being used. These symbols are usually stripped away from the binaries that we run to make them smaller\n",
    "\n",
    "When doing this, we might find that the crash happens inside a call to a library function. This is separate from the application itself, so we need to install the debugging symbols for that library. \n",
    "\n",
    "\n",
    "**Microsoft compilers can also generate debugging symbols in a separate PDB file**. Some Windows software providers let users download the PDP files that correspond to their binaries to let them properly debug failures. One of the trickiest things about this invalid memory business is that we're usually dealing with **undefined behavior** .This means that the code is doing something that's not valid in the programming language. \n",
    "\n",
    "When trying to understand problems related to handling invalid memory, **valgrind** can help us a lot. Valgrind is a very powerful tool that can tell us if the code is doing any invalid operations no matter if it crashes are not. Valgrind lets us know if the code is accessing variables before initializing them. \n",
    "\n",
    "Valgrind is available on Linux and Mac OS, and **Dr. Memory** is a similar tool that can be used on both Windows and Linux. \n",
    "\n"
   ]
  },
  {
   "cell_type": "markdown",
   "metadata": {},
   "source": [
    "## Unhandled exceptions and Errors\n",
    "\n",
    "We might get a type error or an attribute error if we try to take an action on a variable that wasn't properly initialized or division by zero error if we tried to well, divide by zero.\n",
    "\n",
    "When the code generates one of these errors without handling it properly, the program will finish unexpectedly. \n",
    "\n",
    "In general, **unhandled errors** happen because the codes making wrong assumptions maybe the program's trying to access a resource that's not present or the code assumes that the user will enter a value but the user entered and empty string instead.\n",
    "\n",
    "\n",
    "The **traceback** shows the lines of the different functions that were being executed when the problem happened.\n",
    "\n",
    " So when the error message isn't enough, we'll need to debug the code to find out where things are going wrong. For that, we can use the **debugging tools available for the application's language. For a Python, program we can use the BDB interactive debugger which lets us do all the typical debugging actions like executing lines of code one-by-one or looking at how the variables change values.**\n",
    " \n",
    " \n",
    "Statements like these could show the contents of variables, the return values of functions or metadata like the length of a list or size of a file. This technique is called **print f debugging**. The name comes from the print f function used to print messages to the screen in the C programming language.\n",
    "\n",
    "### Logging\n",
    "\n",
    "When changing code to print messages to the screen, the best approach is to add the messages in a way that can be easily enabled or disabled depending on whether we want the debug info or not. In Python, we can do this using the logging module. This module, lets us set how comprehensive we want our code to be. We can say whether we want to include all debug messages, or only info warning or error messages. Then when printing the message, we specify what type of message we're printing.\n",
    "\n",
    "\n",
    "### Instead of crashing unexpectedly, you want the program to inform the user of the problem and tell them what they need to do.\n",
    "\n",
    "For example, say you have an application that crashes with a permission denied error. Rather than the program finishing unexpectedly, you'll want to modify the code to catch that error and tell the user what the permission problem is so they can fix it.\n",
    "\n"
   ]
  }
 ],
 "metadata": {
  "kernelspec": {
   "display_name": "Python 3",
   "language": "python",
   "name": "python3"
  },
  "language_info": {
   "codemirror_mode": {
    "name": "ipython",
    "version": 3
   },
   "file_extension": ".py",
   "mimetype": "text/x-python",
   "name": "python",
   "nbconvert_exporter": "python",
   "pygments_lexer": "ipython3",
   "version": "3.7.4"
  }
 },
 "nbformat": 4,
 "nbformat_minor": 2
}
