{
 "cells": [
  {
   "cell_type": "markdown",
   "metadata": {},
   "source": [
    "## Crashing Programs\n",
    "\n",
    "The cause of these crashes is that the software ran into an unexpected situation, a state that the developers didn't anticipate.\n",
    "\n",
    "## System that crashes\n",
    "\n",
    "you need to do is reduce the scope of the problem, and remember, you want to start with the actions that are easier and faster to check. As a first step, you tried looking at the logs to see if there's any error that may point to what's happening, but you only find an error saying application terminated and no useful information. \n",
    "\n",
    "\n",
    "#### Ram Chips\n",
    "If some hardware component is at fault. The next step is to find out which one. Given the random crashes, one thing to check would be the RAM. Memory chips deteriorate over time. When they do, the computer might write data to some part of the memory and then get a totally different value when trying to read it back. \n",
    "\n",
    "**To check the health of our RAM, we can use the memtest 86 tool to look for errors**. We run this tool on boot instead of the normal operating system so that it can access all of the available memory and verify if the data written\n",
    "\n",
    "to memory is the same when it tries to read it back. If the RAM is fine, you can check if the computer's overheating by looking at the sensor data provided by the OS. If that's not the case, check if there's a problem with external devices like a graphics card or sound card.\n",
    "\n",
    "#### Operating system problem\n",
    "\n",
    "Each OS ships its own battery of hard drive checking tools, and you should familiarize yourself with ones in the OS you're working with\n",
    "\n",
    "You'll want to look at the output of the tools that check the disk for bad sectors, and you'll also want to use these **S.M.A.R.T tools which can help detect errors and even try to anticipate problems before they affect the computer's performance**\n",
    "\n",
    "## Understanding Crashing Applications\n",
    "\n",
    "To look at logs on **Linux will open the system log files and VAR log or the user log files and dot accession errors file**. \n",
    "On *Mac OS we generally use the console app to look at logs and the event Viewer on Windows*. \n",
    "\n",
    "If there are no errors or the errors aren't useful we can try to find out more info by enabling **sling debug logging. Many applications generate a lot more output when debugging logging is enabled**. We might need to enable it from a setting in the applications **configuration file or a command line parameter to pass** when running the application manually. By enabling this extra logging information, we can get a better idea of what's actually causing the problem.\n",
    "\n",
    "### If no error messages or logs\n",
    "\n",
    "On Linux we use **S Trace to see what system calls a programs doin**g. The equivalent tool is called de trois on Mac OS process monitor is a Windows tool that can also take a peek inside what's going on inside a process on Windows?\n",
    "\n",
    "\n",
    "By tracing which system calls a program is doing we can see what files and directories it's trying open what network connections it's trying to make and what information it's trying to read or write. T\n",
    "\n",
    "#### Recently started crashing applications\n",
    "\n",
    "If the application used to work fine and recently started crashing. It's useful to look into what changed in between. The first thing is to check if the issue is caused by a new version of the application itself. Maybe there's a bug in the new version that causes the crash or maybe the way that we're using the application is no longer supported. But that's not the only possible change that could trigger crashes. It could also be that a library or service used by our application changed and they no longer work well together or it could be that there was a configuration change in the overall environment\n",
    "\n",
    "When trying to figure out what changed logs can also be a useful source of information. In the system log we can check which programs and libraries were recently updated checking for configuration changes might be harder depending on how you manage that configuration. If the settings are managed through a configuration management system and the values are stored in a Version Control System\n",
    "\n",
    "When we're trying to debug an application that crashes finding a reproduction case can help us both understand what's causing the crash and figure out what we can do to fix it. So it's valuable to spend some time figuring out the state that triggers the crash.\n",
    "\n",
    " And remember we want to make the reproduction case as small as possible this lets us better understand the problem and also quickly check if its present or not when we attempt to fix it. \n",
    " \n",
    "**To find the root cause of a crashing application will want to look at all available logs figure out what changed trace the system or library calls the program makes and create the smallest possible reproduction case.**"
   ]
  }
 ],
 "metadata": {
  "kernelspec": {
   "display_name": "Python 3",
   "language": "python",
   "name": "python3"
  },
  "language_info": {
   "codemirror_mode": {
    "name": "ipython",
    "version": 3
   },
   "file_extension": ".py",
   "mimetype": "text/x-python",
   "name": "python",
   "nbconvert_exporter": "python",
   "pygments_lexer": "ipython3",
   "version": "3.7.4"
  }
 },
 "nbformat": 4,
 "nbformat_minor": 2
}
