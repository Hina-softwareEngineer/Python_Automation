{
 "cells": [
  {
   "cell_type": "markdown",
   "metadata": {},
   "source": [
    "## CPU Bound\n",
    "\n",
    "CPU bound means the program is bottlenecked by the CPU (Central Processing Unit). When your program is waiting for I/O (e.g., disk read/write, network read/write), the CPU is free to do other tasks, even if your program is stopped. The speed of your program will mostly depend on how fast that I/O can happen; if you want to speed it up, you'll need to speed up the I/O. If your program is running lots of program instructions and not waiting for I/O, then it's CPU bound. Speeding up the CPU will make the program run faster.\n",
    "\n"
   ]
  },
  {
   "cell_type": "markdown",
   "metadata": {},
   "source": [
    "#!/usr/bin/env python3\n",
    "from multiprocessing import Pool\n",
    "def run(task):\n",
    "  # Do something with task here\n",
    "    print(\"Handling {}\".format(task))\n",
    "if __name__ == \"__main__\":\n",
    "  tasks = ['task1', 'task2', 'task3']\n",
    "  # Create a pool of specific number of CPUs\n",
    "  p = Pool(len(tasks))\n",
    "  # Start each task within the pool\t\n",
    "  p.map(run, tasks)\n",
    "\n",
    "\n",
    "\n",
    "#!/usr/bin/env python\n",
    "import subprocess\n",
    "from multiprocessing import Pool\n",
    "import subprocess\n",
    "import os\n",
    "\n",
    "src = \"/home/student-03-df56f5637327/data/prod/\"\n",
    "dest = \"/home/student-03-df56f5637327/data/prod_backup/\"\n",
    "\n",
    "def run(directory):\n",
    "\tprint(\"Handling {}\".format(directory))\n",
    "\tsubprocess.call([\"rsync\", \"-arq\", src, dest])\n",
    "\n",
    "if __name__== \"__main__\":\n",
    "\tp= Pool(len(os.listdir(src)))\n",
    "\tp.map(run, os.listdir(src))\n"
   ]
  }
 ],
 "metadata": {
  "kernelspec": {
   "display_name": "Python 3",
   "language": "python",
   "name": "python3"
  },
  "language_info": {
   "codemirror_mode": {
    "name": "ipython",
    "version": 3
   },
   "file_extension": ".py",
   "mimetype": "text/x-python",
   "name": "python",
   "nbconvert_exporter": "python",
   "pygments_lexer": "ipython3",
   "version": "3.7.4"
  }
 },
 "nbformat": 4,
 "nbformat_minor": 2
}
