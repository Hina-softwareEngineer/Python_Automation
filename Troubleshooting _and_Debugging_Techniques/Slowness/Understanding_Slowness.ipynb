{
 "cells": [
  {
   "cell_type": "markdown",
   "metadata": {},
   "source": [
    "## Why is my computer slow?\n",
    "\n",
    "The general strategy for addressing slowness is to identify the **BottleNeck** for addressing slowness in our device, our script, or our system to run slowly. \n",
    "\n",
    "The bottleneck could be the CPU time as we just mentioned. But it could also be time spent reading data from disk waiting for data transmitted over the network, moving data from disk to RAM, or some other resource that's limiting the overall performance.\n",
    "\n",
    "This only helps us if the issue is that there are too many processes trying to use the same resource. If we've closed everything that wasn't needed and the computer is still slow, we need to look into other possible explanations.\n",
    "\n",
    "### Hardware Problems\n",
    "\n",
    "What if the hardware we're using just isn't good enough for the applications we're trying to run on it? In cases like these, will have to upgrade the underlying hardware.\n",
    "\n",
    "But to make a difference in the resulting performance, we need to make sure that we're actually improving the bottleneck and not just wasting our money on new hardware that will go unused. So how can we tell which piece of hardware needs to be changed? We need to monitor the usage of our resources to know which of them as being exhausted. \n",
    "\n",
    "\n",
    "### For Linux\n",
    "\n",
    "To find out, we use the tools available in our operating system, monitor the usage of each resource, and then work out which one is blocking our programs for running faster. We've already talked about using **top on Linux systems**. This tool lets us see which currently running processes are using the most CPU time. If we start by memory, which ones are using the most memory. It also shows a bunch of other load information related to the current state of the computer, like how many processes are running and how the CPU time or memory is being used.\n",
    "\n",
    "\n",
    "We also called out in earlier videos a couple of other programs like iotop and iftop. They can help us see which processes are currently using the most disk IO usage or the most network bandwidth. \n",
    "\n",
    "\n",
    "### For MacOs and Windows Users\n",
    "\n",
    "On MacOS, the OS ships with a tool called Activity Monitor which lets us see what's using the most CPU, memory, energy, disk, or network. On Windows, there's a couple of OS tools called Resource Monitor and Performance Monitor which also let us analyze what's going on with the different resources on the computer including CPU, memory, disk and network.\n"
   ]
  },
  {
   "cell_type": "markdown",
   "metadata": {},
   "source": [
    "## How Computer Use Resources\n",
    "\n",
    "if you can create a cache, **a cache** stores data in a form that's faster to access than its original form. There's a ton of examples of caches in IT. A web proxy is a form of cash. It stores websites, images, or videos that are accessed often by users behind the proxy. So they don't need to be downloaded from the Internet every time.\n",
    "\n",
    " If there's still not enough RAM after that, the operating system will put the parts of the memory that aren't currently in use onto the hard drive in a space called **swap**. Reading and writing from disk is much slower than reading and writing from RAM. \n",
    " \n",
    "The swapping implementation varies across the different operating systems, but the concept is always the same. The information that's not needed right now is removed from RAM and put onto the disk, while the information that's needed now is put into RAM. \n",
    "\n",
    "So what do you do if you find that your machine is slow because it's spending a lot of time swapping? There are basically three possible reasons for this.\n",
    "\n",
    "1- First, if there are too many open applications and some can be closed, close the ones that aren't needed. \n",
    "\n",
    "2- if the available memory is just too small for the amount that computer is using, add more RAM to the computer. \n",
    "\n",
    "3- The third reason is that one of the running programs may have a memory leak, causing it to take all the available memory. **A memory leak** means that memory which is no longer needed is not getting released.\n",
    "\n"
   ]
  },
  {
   "cell_type": "markdown",
   "metadata": {},
   "source": [
    "## Possible Causes of Slowness\n",
    "\n",
    ". If the file is a log file, you can use a program like logrotate to do this for you"
   ]
  }
 ],
 "metadata": {
  "kernelspec": {
   "display_name": "Python 3",
   "language": "python",
   "name": "python3"
  },
  "language_info": {
   "codemirror_mode": {
    "name": "ipython",
    "version": 3
   },
   "file_extension": ".py",
   "mimetype": "text/x-python",
   "name": "python",
   "nbconvert_exporter": "python",
   "pygments_lexer": "ipython3",
   "version": "3.7.4"
  }
 },
 "nbformat": 4,
 "nbformat_minor": 2
}
