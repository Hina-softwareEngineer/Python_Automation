{
 "cells": [
  {
   "cell_type": "markdown",
   "metadata": {},
   "source": [
    "## Parallelizing Operations\n",
    "\n",
    "One way we can make this better is to do operations in **parallel**. That way, while the computer is waiting for the slow IO, other work can take place. \n",
    "\n",
    "\n",
    "The tricky part is dividing up the tasks so that we get the same result in the end. There's actually a whole field of computer science called **concurrency, dedicated to how we write programs that do operations in parallel. **\n",
    "\n",
    "When using the OS to split the work and the processes, these processes don't share any memory, and sometimes we might need to have some shared data. In that case, we'd use threads. **Threads let us run parallel tasks inside a process. This allows threads to share some of the memory with other threads in the same process.**\n",
    "\n",
    "In Python, we can use the **Threading or AsyncIO** modules to do this. These modules let us specify which parts of the code we want to run in separate threads or as separate asynchronous events, and how we want the results of each to be combined in the end.\n",
    "\n",
    "One thing to watch out for is that depending on the **actual threading implementation for the language you're using, it might happen that all threads get executed in the same CPU processor**. \n",
    "\n",
    "\n",
    "In that case, if you want to use more processors, you'll need to split the code into fully separate processes. \n",
    "\n",
    "\n",
    "**If your script is mostly just waiting on input or output, also known as I/O bound**, it might matter if it's executed on one processor or eight. But you might be doing this in parallel because you're using all of the available CPU time. In other words, your script is **CPU bound**. In this case, you'll definitely want to split your execution across processors. "
   ]
  },
  {
   "cell_type": "markdown",
   "metadata": {},
   "source": [
    "## Slowly Growing in complexity\n",
    "\n",
    "you could decide to store your data in a **SQLite file**. This is a lightweight database system that lets you query the information stored in the file without needing to run a database server. \n",
    "\n",
    "If the service becomes really really popular, you might notice that your database isn't fast enough to serve all the queries being requested. In that case, you can add a **caching service** like **memcached which keeps the most commonly used results in RAM to avoid querying the database unnecessarily**.\n",
    "\n",
    "Initially, this could just be running on a web server on the same machine as the data. If the website gets used a lot, you might need to add a **caching service like Varnish**. This would speed up the load of dynamically created pages"
   ]
  }
 ],
 "metadata": {
  "kernelspec": {
   "display_name": "Python 3",
   "language": "python",
   "name": "python3"
  },
  "language_info": {
   "codemirror_mode": {
    "name": "ipython",
    "version": 3
   },
   "file_extension": ".py",
   "mimetype": "text/x-python",
   "name": "python",
   "nbconvert_exporter": "python",
   "pygments_lexer": "ipython3",
   "version": "3.7.4"
  }
 },
 "nbformat": 4,
 "nbformat_minor": 2
}
