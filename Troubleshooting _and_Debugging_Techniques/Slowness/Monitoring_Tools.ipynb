{
 "cells": [
  {
   "cell_type": "markdown",
   "metadata": {},
   "source": [
    "Check out the following links for more information:\n",
    "\n",
    "- https://docs.microsoft.com/en-us/sysinternals/downloads/procmon \n",
    "- http://www.brendangregg.com/linuxperf.html\n",
    "- http://brendangregg.com/usemethod.html\n",
    "\n",
    "\n",
    "- [Activity Monitor in Mac:](https://support.apple.com/en-us/HT201464)\n",
    "- [Performance Monitor on Windows](https://www.windowscentral.com/how-use-performance-monitor-windows-10)\n",
    "- https://www.digitalcitizen.life/how-use-resource-monitor-windows-7\n",
    "- https://docs.microsoft.com/en-us/sysinternals/downloads/process-explorer\n",
    "- https://en.wikipedia.org/wiki/Cache_(computing)\n",
    "- https://www.reddit.com/r/linux/comments/d7hx2c/why_nice_levels_are_a_placebo_and_have_been_for_a/"
   ]
  },
  {
   "cell_type": "code",
   "execution_count": null,
   "metadata": {},
   "outputs": [],
   "source": []
  }
 ],
 "metadata": {
  "kernelspec": {
   "display_name": "Python 3",
   "language": "python",
   "name": "python3"
  },
  "language_info": {
   "codemirror_mode": {
    "name": "ipython",
    "version": 3
   },
   "file_extension": ".py",
   "mimetype": "text/x-python",
   "name": "python",
   "nbconvert_exporter": "python",
   "pygments_lexer": "ipython3",
   "version": "3.7.4"
  }
 },
 "nbformat": 4,
 "nbformat_minor": 2
}
