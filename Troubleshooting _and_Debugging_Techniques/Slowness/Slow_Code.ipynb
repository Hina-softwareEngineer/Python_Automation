{
 "cells": [
  {
   "cell_type": "markdown",
   "metadata": {},
   "source": [
    "## Writing Efficient Code\n",
    "\n",
    "One important thing to keep in mind though is that we should always start by writing clear code that does what it should and only try to make it faster if we realize that it's not fast enough.\n",
    "\n",
    "if the script will be executed frequently enough that making it faster will save you more time than the time you spend optimizing it. But remember, **trying to optimize every second out of a script is probably not worth your time.**\n",
    "\n",
    "If we want our code to finish faster, we need to make our computer do less work, and to do this, we'll have to avoid doing work that isn't really needed.\n",
    "\n",
    "Here's a bunch of different things to do. The most common ones include storing data that was already calculated to avoid calculating it again using the right data structures for the problem and reorganizing the code so that the computer can stay busy while waiting for information from slow sources like disk or over the network. \n",
    "\n",
    "There's a bunch of tools that can help us with that called **profilers. A profiler is a tool that measures the resources that our code is using, giving us a better understanding of what's going on**.\n",
    "\n",
    "In particular, they help us see how the memory is allocated and how the time spent. Because of how profilers work, they are specific to each programming language. So we would use **gprof to analyze a C program** but use the **c-Profile module to analyze a Python program**. \n",
    "\n",
    "Using tools like these, we can see which functions are called by our program, how many times each function was called and how much time are programs spent on each of them.\n",
    "\n",
    "**Expensive operations include parsing a file, reading data over the network or iterating through a whole list**."
   ]
  },
  {
   "cell_type": "markdown",
   "metadata": {},
   "source": [
    "## Using the Right Data Structures\n",
    "\n",
    "### Lists\n",
    "\n",
    " Lists are sequences of elements. We can add, remove, or modify the elements in them. We can iterate through the whole list to operate on each of the elements. Different programming languages call them differently.\n",
    " \n",
    "### Dictionaries\n",
    "\n",
    " Dictionary store key value pairs. We add data by associating a value to a key. Then, we retrieve a value by looking up a specific key.\n",
    " \n",
    "**So as a rule of thumb, if you need to access elements by position or will always iterate through all the elements, use a list to store them**\n",
    "\n",
    "**On the flip side, if we need to look up the elements using a key, we'll use a dictionary.**\n",
    "\n",
    "## Expensive Loops\n",
    "\n",
    "**Whenever you have a loop in your code, make sure to check what actions you're doing, and see if there are operations you can take out of the loop to do them just once. Instead of making one network call for each element, make one call before the loop**. \n",
    "\n",
    "Make sure that the list of elements that you're iterating through is only as long as you really need it to be. \n",
    "\n",
    " Another thing to remember about loops is to break out of the loop once you found what you were looking for.\n",
    " \n",
    "  Another thing to remember about loops is to break out of the loop once you found what you were looking for."
   ]
  },
  {
   "cell_type": "markdown",
   "metadata": {},
   "source": [
    "## Keeping Local Results\n",
    "\n",
    "So how can we avoid expensive operations like parsing a file, downloading data over the network, or going through a long list? If the script gets executed fairly regularly, it's common to create a **local cache.**\n",
    "\n",
    "o if we're parsing a large file and only keeping a few key pieces of information from it, we can create a cache to store only that information, or if we're getting some information over the network, we can keep a local copy of the file to avoid downloading it over and over again.\n",
    "\n"
   ]
  },
  {
   "cell_type": "markdown",
   "metadata": {},
   "source": [
    "## Slow Script  with Extensive Loops\n",
    "\n",
    "We'll measure the script speed using the time command.\n",
    "\n",
    "```\n",
    "    time ./filename.py \"user given commands\"\n",
    "```\n",
    "\n",
    "\n",
    "There's three different values. **Real, user, and sys.** Real is the amount of actual time that it took to execute the command. This value is sometimes called wall-clock time because it's how much time a clock hanging on the wall would measure no matter what the computer's doing. User is the time spent doing operations in the user space. Sys is the time spent doing system level operations.\n",
    "\n",
    "**Profiler**\n",
    "\n",
    "But in this case we want to use a profiler to get some data about what's going on. So let's try that. There's a bunch of different profilers available for Python that work for different use cases. Here, we'll use the one called **pprofile 3**. \n",
    "\n",
    "```\n",
    "    pprofile3 -f callgrind -o profile.out\n",
    "\n",
    "```\n",
    "\n",
    "\n",
    "We use the dash f flag to tell it to use the call grind file format and the dash o flag to tell it to store the output in the profile dot out file. This generated a file that we can open with any tool that supports the call grand format. We're going to use **kcachegrind** to look at the contents, which is a graphical interface for looking into these files.\n",
    "\n",
    "```\n",
    "    kcachegrind profile.out\n",
    "```\n",
    "\n",
    "Check out the following links for more information:\n",
    "\n",
    "https://en.wikipedia.org/wiki/Profiling_(computer_programming)\n",
    "\n",
    "\n"
   ]
  },
  {
   "cell_type": "code",
   "execution_count": null,
   "metadata": {},
   "outputs": [],
   "source": []
  }
 ],
 "metadata": {
  "kernelspec": {
   "display_name": "Python 3",
   "language": "python",
   "name": "python3"
  },
  "language_info": {
   "codemirror_mode": {
    "name": "ipython",
    "version": 3
   },
   "file_extension": ".py",
   "mimetype": "text/x-python",
   "name": "python",
   "nbconvert_exporter": "python",
   "pygments_lexer": "ipython3",
   "version": "3.7.4"
  }
 },
 "nbformat": 4,
 "nbformat_minor": 2
}
