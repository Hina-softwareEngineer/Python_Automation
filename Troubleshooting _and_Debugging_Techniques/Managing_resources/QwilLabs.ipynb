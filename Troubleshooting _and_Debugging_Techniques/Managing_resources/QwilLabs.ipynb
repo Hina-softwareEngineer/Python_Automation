{
 "cells": [
  {
   "cell_type": "code",
   "execution_count": null,
   "metadata": {},
   "outputs": [],
   "source": [
    "#!/usr/bin/env python3\n",
    "import csv\n",
    "import datetime\n",
    "import requests\n",
    "\n",
    "FILE_URL=\"http://marga.com.ar/employees-with-date.csv\"\n",
    "\n",
    "def get_start_date():\n",
    "    \"\"\"Interactively get the start date to query for.\"\"\"\n",
    "\n",
    "    print()\n",
    "    print('Getting the first start date to query for.')\n",
    "    print()\n",
    "    print('The date must be greater than Jan 1st, 2018')\n",
    "    year = int(input('Enter a value for the year: '))\n",
    "    month = int(input('Enter a value for the month: '))\n",
    "    day = int(input('Enter a value for the day: '))\n",
    "    print()\n",
    "\n",
    "    return datetime.datetime(year, month, day)\n",
    "\n",
    "def get_file_content(url):\n",
    "    \"\"\"Download the file over the internet and\n",
    "    convert needed columns into sorted dictionary.\"\"\"\n",
    "\n",
    "    my_dict = {}\n",
    "    with requests.get(url, stream=True) as r:\n",
    "        lines = (line.decode('utf-8') for line in r.iter_lines())\n",
    "        reader = csv.reader(lines)\n",
    "        next(reader)\n",
    "        for row in reader:\n",
    "            my_dict[row[3]] = [row[0] + \" \" + row[1]]\n",
    "    return dict(sorted(my_dict.items()))\n",
    "\n",
    "def get_same_or_newer(start_date, data):\n",
    "    \"\"\"Go through all the data and find the employees that started on the given date, or the closest one. Do not include dates after today.\"\"\"\n",
    "\n",
    "    my_date_employees = {}\n",
    "    for key in data:\n",
    "        name = data[key]\n",
    "        date = datetime.datetime.strptime(key, '%Y-%m-%d')\n",
    "        if date >= start_date and date <= datetime.datetime.today():\n",
    "            my_date_employees[date] = name\n",
    "    return my_date_employees\n",
    "\n",
    "def list_newer(start_date, data):\n",
    "    employees = get_same_or_newer(start_date, data)\n",
    "    for key in employees:\n",
    "        print(\"Started on {}: {}\".format(key.strftime(\"%b %d, %Y\"), employees[key]))\n",
    "\n",
    "def main():\n",
    "    data = get_file_content(FILE_URL)\n",
    "    start_date = get_start_date()\n",
    "    list_newer(start_date, data)\n",
    "\n",
    "if __name__ == \"__main__\":\n",
    "    main()"
   ]
  },
  {
   "cell_type": "code",
   "execution_count": null,
   "metadata": {},
   "outputs": [],
   "source": []
  }
 ],
 "metadata": {
  "kernelspec": {
   "display_name": "Python 3",
   "language": "python",
   "name": "python3"
  },
  "language_info": {
   "codemirror_mode": {
    "name": "ipython",
    "version": 3
   },
   "file_extension": ".py",
   "mimetype": "text/x-python",
   "name": "python",
   "nbconvert_exporter": "python",
   "pygments_lexer": "ipython3",
   "version": "3.7.4"
  }
 },
 "nbformat": 4,
 "nbformat_minor": 2
}
