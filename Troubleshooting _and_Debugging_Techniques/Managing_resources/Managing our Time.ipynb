{
 "cells": [
  {
   "cell_type": "markdown",
   "metadata": {},
   "source": [
    "## Getting to the Important Tasks\n",
    "\n",
    "There's lots of different ways to optimize our time. One that's super effective when working in IT is the **Eisenhower Decision Matrix**. When using this method, we split tasks into two different categories: urgent and important. There are tasks that are important and urgent. \n",
    "\n",
    "if the company's Internet connection is down, it's both urgent and important to get it back up as soon as possible. \n",
    "\n",
    "\n",
    "Some tasks are important, but not urgent, so they need to get done at some point even if it takes a while to complete them. For example, as a follow-up to the network being down, it would be important to make sure that there's a backup network connection so that if the existing one is ever down again, the company can stay connected using the backup.\n",
    "\n",
    "Other tasks might seem urgent, but aren't really important. A lot of the interruptions that we need to deal with are in this category. Answering email, phone calls, texts, or instant messages feel like something that we need to do right away. But most of the time are not really the best use of our time. \n",
    "\n",
    "Finally, there's a whole category of tasks that are neither important nor urgent. These are distractions and time wasters, they shouldn't be done at all.\n",
    "\n",
    "In general, **to make the most of our time, we need to make sure that we're spending the majority of it on tasks that are important**. Of course we'll want to get to the urgent tasks as soon as possible, but we need to block some time for long-term planning and execution. Spending time on long-term tasks might not bear fruit right away, but it can be critical when dealing with a large incident. \n",
    "\n",
    "Researching new technologies is another task in this category. IT is always evolving and it's important to have time set aside to stay up to date\n",
    "\n",
    " Another important task that might not necessarily be urgent is solving technical debt. When you work in IT, you waste time a lot. What does it mean? **Technical debt is the pending work that accumulates when we choose a quick-and-easy solution instead of applying a sustainable long-term one.**\n",
    " \n",
    "  Whenever we go for short-term solution and leave the long-term solution for later, we're creating technical debt. This might be the right decision in the moment to get us out of a crisis and let our users get back to work, but we need to unscheduled time to apply the long-term solution that will make our future lives easier."
   ]
  }
 ],
 "metadata": {
  "kernelspec": {
   "display_name": "Python 3",
   "language": "python",
   "name": "python3"
  },
  "language_info": {
   "codemirror_mode": {
    "name": "ipython",
    "version": 3
   },
   "file_extension": ".py",
   "mimetype": "text/x-python",
   "name": "python",
   "nbconvert_exporter": "python",
   "pygments_lexer": "ipython3",
   "version": "3.7.4"
  }
 },
 "nbformat": 4,
 "nbformat_minor": 2
}
