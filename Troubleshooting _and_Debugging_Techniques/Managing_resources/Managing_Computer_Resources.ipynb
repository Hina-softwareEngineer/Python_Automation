{
 "cells": [
  {
   "cell_type": "markdown",
   "metadata": {},
   "source": [
    "## Memory Leaks and How to prevent Them\n",
    "\n",
    "Since we're human, we might sometimes forget to free memory that isn't in use anymore, this is what we call a **Memory leak**. A memory leak, happens when a chunk of memory that's no longer needed is not released.\n",
    "\n",
    "#### Garbage Collector\n",
    "\n",
    "First, they request the necessary memory when we create variables, and then they run a tool called Garbage collector, that's in charge of freeing the memory that's no longer in use. To detect when that's the case, the garbage collector looks at the variables in use and the memory assigned to them and then checks if there any portions of the memory that aren't being referenced by any variables.\n",
    "\n",
    "So let's jog its memory, what can we do if we suspect a program has a memory leak? We can use a memory profiler to figure out how the memory is being used\n",
    "\n",
    "### Profilers in Python\n",
    "\n",
    "For profiling C and C plus plus programs, we'll use Valgrind which we mentioned in an earlier video. For profiling a Python, there are bunch of different tools that are disposal, depending on what exactly we want to profile."
   ]
  },
  {
   "cell_type": "markdown",
   "metadata": {},
   "source": [
    "## Managing Disk Space\n",
    "\n",
    "Another resource that might need our attention is the disk usage of our computer.\n",
    "\n",
    "Programs may need disk space for lots of different reasons. Installed binaries and libraries, data stored by the applications, cached information, logs, temporary files or even backups.\n",
    "\n",
    "```\n",
    "sudo lsof | grep deleted\n",
    "```\n",
    "\n",
    "## Network Saturation\n",
    "\n",
    "#### Latency and Bandwidth\n",
    "The two most important factors that determine the time it takes to get the data over the network are the latency and the bandwidth of the connection. The **latency is the delay between sending a byte of data from one point and receiving it on the other**. This value is directly affected by the physical distance between the two points and how many intermediate devices there are between them. **The bandwidth is how much data can be sent or received in a second. This is effectively the data capacity of the connection**. Internet connections are usually sold by the amount of bandwidth the customer will see.\n",
    "\n",
    "If the available bandwidth between the two points is 10 megabits per second, you'll be able to receive 1.25 megabytes every second. So for a website of about one megabyte of content, that large initial latency will be noticeable, since it's an extra 20 percent on top of the total time to download it. But if the content is 10 megabytes or more, the initial latency will be less than five percent of the total time to download it. So it matters less\n",
    "\n",
    "if you're transmitting a lot of small pieces of data, **you care more about latency than bandwidth**. In this case, you want to make sure that the server is as close as possible to the users of the service, aiming for a latency of less than 50 milliseconds if possible, and up to a 100 milliseconds in the **worst-case**. On the flip side, **if you're transmitting large chunks of data, you care more about the bandwidth than the latency**. In this case, you want to have as much bandwidth available as possible regardless of where the server is hosted. What do we mean by **bandwidth available? Computers can transmit data to and from many different points of the Internet at the same time, but all those separate connections share the same bandwidth**. Each connection will get a portion of the bandwidth, but the split isn't necessarily even. If one connection is transmitting a lot of data, there may be no bandwidth left for the other connections.\n",
    "\n",
    "When these traffic jams happen, the latency can increase a lot because packets might get held back until there's enough bandwidth to send them.\n",
    "\n",
    "You can check out which processes are using the network connection by running a program like **iftop. This shows how much data each active connection is sending over the network.**\n",
    "\n",
    "If some applications are using so much bandwidth that others can't transmit anymore data, it's possible to restrict how much each connection takes by using **traffic shaping. This is a way of marking the data packets sent over the network with different priorities**\n",
    "\n",
    "## Dealing with Memory Leaks\n",
    "\n",
    "First, let's trigger the misbehavior ourselves to see what this looks like. We'll use a terminal called **uxterm** for that.\n",
    "\n",
    "We've configured this terminal to have a really long scroll buffer. **The scroll buffer is that nifty feature that lets us scroll up and see the things that we executed and their output**. The contents of the buffer are kept in memory. So if we make it really long and we managed to fill it, will cause our computer to run out of memory. \n",
    "\n",
    "Say we run a command like **od-cx/dev/urandom**. This command will take the random numbers generated by the urandom device and show them as both characters and hexadecimal numbers. \n",
    "\n",
    " In a different terminal, let's open top and check out what's going on.\n",
    " \n",
    "Pressing **\"Shift M\"** we tell ton that we want to order the programs by how much memory they are using. We see that the percentage of memory used by uxterm is going up super quickly\n",
    "\n",
    "In the top,\n",
    "\n",
    "The column labeled **RES is the dynamic memory** that's preserved for the specific process. The one labeled **SHR is for memory that's shared across processes**, and the one labeled **VIRT lists all the virtual memory** allocated for each process. This includes; process specific memory, shared memory, and other shared resources that are stored on disk but maps into the memory of the process. It's usually fine for a process to have a high value in the VIRT column. The one that usually indicates a problem is the RES column.\n",
    "\n",
    "We'll be using a module called memory profiler. This is one of the many different memory profilers available for Python.\n",
    "\n",
    "This type of label is called a decorator and it's used in Python to add extra behavior to functions without having to modify the code. In this case, the extra behavior is measuring the use of memory. \n",
    "\n",
    "```\n",
    "    @profiler\n",
    "```\n",
    "\n",
    "Check out the following links for more information:\n",
    "\n",
    "- https://realpython.com/python-concurrency/\n",
    "- https://hackernoon.com/threaded-asynchronous-magic-and-how-to-wield-it-bba9ed602c32\n",
    "- https://www.pluralsight.com/blog/tutorials/how-to-profile-memory-usage-in-python\n",
    "- https://www.linuxjournal.com/content/troubleshooting-network-problems\n",
    "\n"
   ]
  },
  {
   "cell_type": "code",
   "execution_count": null,
   "metadata": {},
   "outputs": [],
   "source": []
  }
 ],
 "metadata": {
  "kernelspec": {
   "display_name": "Python 3",
   "language": "python",
   "name": "python3"
  },
  "language_info": {
   "codemirror_mode": {
    "name": "ipython",
    "version": 3
   },
   "file_extension": ".py",
   "mimetype": "text/x-python",
   "name": "python",
   "nbconvert_exporter": "python",
   "pygments_lexer": "ipython3",
   "version": "3.7.4"
  }
 },
 "nbformat": 4,
 "nbformat_minor": 2
}
