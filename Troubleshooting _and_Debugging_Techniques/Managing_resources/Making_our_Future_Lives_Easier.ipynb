{
 "cells": [
  {
   "cell_type": "markdown",
   "metadata": {},
   "source": [
    "## Dealing with Hard Problems\n",
    "\n",
    "You might be wondering, why is debugging so hard that we need an entire course on it? Brian Kernighan, one of the first contributors to the Unix operating system and co-author of the famous C programming language book, among many other things, once said, everyone knows that debugging is twice as hard as writing a program in the first place\n",
    "\n",
    "So that when something goes wrong, we can figure out how to fix them quickly. So how do we do this? One piece of advice I found really valuable is to develop code in small, digestible chunks.\n",
    "\n",
    "Another lesson that's super useful is to keep your goal clear. If you're writing code, try writing the tests for the program before the actual code to help you keep focus on your goal. If you're building a system or deploying an application, having documentation that states what the end goal should be, and the steps you took to get there can be really helpful.\n",
    "\n",
    "If you're in a sticky situation, the main thing to do is to remain calm. We need our creative skills to solve problems, and the worst enemy of creativity is anxiety. \n",
    "\n",
    "That's why it's better to focus first on the short-term solution, and then look for the long-term remediation once those affected are able to get back to work. And don't be afraid to ask for help. \n",
    "Sometimes just the act of explaining the problem to someone else can help us realize what we're missing. There's a technique called rubber duck debugging, which is simply explaining the problem to a rubber duck.\n",
    "\n",
    "## Proactive Practices\n",
    "\n",
    " If we're the ones writing the code, one thing we can do is to make sure that our code has good unit tests and integration tests.\n",
    " \n",
    " Another step in this direction is to have a test environment, where we can deploy new code before shipping it to the rest of our users. This serves two purposes. First, we can do a thorough check of the software as it will be seen by the users. \n",
    " \n",
    "We can try possible solutions and new features without affecting the production environment. Taking this even further, another recommended practice when managing a fleet of computers is to deploy software in phases or canaries\n",
    "\n",
    "Even with all these preventative measures, bugs will still filter through and problems will occur. We can make our troubleshooting easier by including good debug logging in the code. \n",
    "\n",
    "That way, whenever we have to figure out an issue, we can look at the logs and get a pretty good idea of what's going on. Another method that can help us is having centralized logs collection. This means there's a special server that gathers all the logs from all the servers or even all the computers in the network. \n",
    "\n",
    "\n",
    "Similarly, having a good monitoring system can be super helpful. We can use it to catch issues early before they affect too many users.\n",
    "\n",
    " We called out ticketing systems a few times already, because we can't stress their importance enough. Making good use of them can help us save a lot of time when trying to get to the bottom of a problem. If we ask users to provide the needed information up front, we don't have to waste time and go back and forth. \n",
    " \n",
    " "
   ]
  },
  {
   "cell_type": "code",
   "execution_count": null,
   "metadata": {},
   "outputs": [],
   "source": []
  }
 ],
 "metadata": {
  "kernelspec": {
   "display_name": "Python 3",
   "language": "python",
   "name": "python3"
  },
  "language_info": {
   "codemirror_mode": {
    "name": "ipython",
    "version": 3
   },
   "file_extension": ".py",
   "mimetype": "text/x-python",
   "name": "python",
   "nbconvert_exporter": "python",
   "pygments_lexer": "ipython3",
   "version": "3.7.4"
  }
 },
 "nbformat": 4,
 "nbformat_minor": 2
}
