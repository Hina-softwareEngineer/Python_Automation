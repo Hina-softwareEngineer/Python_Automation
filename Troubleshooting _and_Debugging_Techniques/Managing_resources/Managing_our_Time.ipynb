{
 "cells": [
  {
   "cell_type": "markdown",
   "metadata": {},
   "source": [
    "## Getting to the Important Tasks\n",
    "\n",
    "There's lots of different ways to optimize our time. One that's super effective when working in IT is the **Eisenhower Decision Matrix**. When using this method, we split tasks into two different categories: urgent and important. There are tasks that are important and urgent. \n",
    "\n",
    "if the company's Internet connection is down, it's both urgent and important to get it back up as soon as possible. \n",
    "\n",
    "\n",
    "Some tasks are important, but not urgent, so they need to get done at some point even if it takes a while to complete them. For example, as a follow-up to the network being down, it would be important to make sure that there's a backup network connection so that if the existing one is ever down again, the company can stay connected using the backup.\n",
    "\n",
    "Other tasks might seem urgent, but aren't really important. A lot of the interruptions that we need to deal with are in this category. Answering email, phone calls, texts, or instant messages feel like something that we need to do right away. But most of the time are not really the best use of our time. \n",
    "\n",
    "Finally, there's a whole category of tasks that are neither important nor urgent. These are distractions and time wasters, they shouldn't be done at all.\n",
    "\n",
    "In general, **to make the most of our time, we need to make sure that we're spending the majority of it on tasks that are important**. Of course we'll want to get to the urgent tasks as soon as possible, but we need to block some time for long-term planning and execution. Spending time on long-term tasks might not bear fruit right away, but it can be critical when dealing with a large incident. \n",
    "\n",
    "Researching new technologies is another task in this category. IT is always evolving and it's important to have time set aside to stay up to date\n",
    "\n",
    " Another important task that might not necessarily be urgent is solving technical debt. When you work in IT, you waste time a lot. What does it mean? **Technical debt is the pending work that accumulates when we choose a quick-and-easy solution instead of applying a sustainable long-term one.**\n",
    " \n",
    "  Whenever we go for short-term solution and leave the long-term solution for later, we're creating technical debt. This might be the right decision in the moment to get us out of a crisis and let our users get back to work, but we need to unscheduled time to apply the long-term solution that will make our future lives easier."
   ]
  },
  {
   "cell_type": "markdown",
   "metadata": {},
   "source": [
    "## Prioritizing Tasks\n",
    "\n",
    "The basic structure that can help us get organized and prioritize our tasks. The first step is to make a list of all of the tasks that need to get done.\n",
    "You can make this list on a piece of paper, a text file in your computer, a bug tracking system, or a ticket management system.\n",
    "\n",
    "Even when it looks like everything is important, you should be able to tell that some things are more important than others. For example, a task that will benefit more people is more important than a task that will benefit less people\n",
    "\n",
    "Once you have the list, you can check the real urgency of the tasks. \n",
    "Once you're done with the most critically urgent tasks, you can look at the rest of the list and assess the importance of each issue.\n",
    "\n",
    "You can try dividing the tasks into groups of most important, important, and not so important.\n",
    "Once you have a list of the most important tasks to work on, you'll want to have a rough idea of how much effort they'll take.\n",
    "\n",
    "the complex tasks will never get done. **The key here is to always work on important tasks**. If a task is not important, it shouldn't be done at all. Really, we live by this rule here at Google.\n",
    "\n",
    "Then select which task you're going to deal with depending on urgency and how much time you can devote to it, starting with the biggest tasks that you can fit in the time you have available. But keep in mind, this shouldn't stop you from taking a break or working on experimental projects.\n",
    "\n",
    "The first thing to know is this is normal, most people working in IT have too much to do and can't get all the things they want done. Unfortunately, us humans can't multiply ourselves on command yet and working extra hours is not sustainable long-term. Which means there are basically two options, either you get extra help from other team members or you decide that some tasks weren't really that important, and they won't get done. \n",
    "\n"
   ]
  },
  {
   "cell_type": "markdown",
   "metadata": {},
   "source": [
    "## Estimating Time Tasks will take\n",
    "\n",
    "The best way to estimate time on a new project is to compare your estimate to similar tasks or projects completed previously.\n",
    "\n",
    "## Communicating Expectations\n",
    "\n",
    "Try to be clear and upfront about when you expect the issue will be resolved, and if for any reason the issue isn't solved by then, explain why and what the new expectation should be.\n",
    "\n",
    "\n",
    "## More about Making the Best Use of Our time\n",
    "\n",
    "Check out the following link for more information:\n",
    "\n",
    "https://blog.rescuetime.com/how-to-prioritize/"
   ]
  }
 ],
 "metadata": {
  "kernelspec": {
   "display_name": "Python 3",
   "language": "python",
   "name": "python3"
  },
  "language_info": {
   "codemirror_mode": {
    "name": "ipython",
    "version": 3
   },
   "file_extension": ".py",
   "mimetype": "text/x-python",
   "name": "python",
   "nbconvert_exporter": "python",
   "pygments_lexer": "ipython3",
   "version": "3.7.4"
  }
 },
 "nbformat": 4,
 "nbformat_minor": 2
}
