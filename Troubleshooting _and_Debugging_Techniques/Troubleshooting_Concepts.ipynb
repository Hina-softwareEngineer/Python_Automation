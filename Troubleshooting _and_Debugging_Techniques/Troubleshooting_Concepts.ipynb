{
 "cells": [
  {
   "cell_type": "markdown",
   "metadata": {},
   "source": [
    "# INTRODUCTION TO DEBUGGING\n",
    "\n",
    "## Troubleshooting\n",
    "\n",
    " Troubleshooting is the process of identifying, analyzing, and solving problems\n",
    " \n",
    "## Debugging\n",
    "\n",
    "Debugging is the process of identifying, analyzing, and removing bugs in a system. \n",
    "\n",
    "## Difference\n",
    "\n",
    " Troubleshooting when we're fixing problems in the system running the application, and debugging when we're fixing the bugs in the actual code of the application\n",
    " \n",
    "## Tools\n",
    "\n",
    " Tools like tcpdump and Wireshark can show us ongoing network connections, and help us analyze the traffic going over our cables. Tools like ps, top, or free can show us the number and types of resources used in the system. We can use a tool like strace to look at the system calls made by a program, or ltrace to look at the library calls made by the software. \n",
    " \n",
    " Debuggers let us follow the code line by line, inspect changes in variable assignments, interrupt the program when a specific condition is met, and more. "
   ]
  },
  {
   "cell_type": "markdown",
   "metadata": {},
   "source": [
    "## Problem Solving\n",
    "\n",
    "There's a set of steps that you can usually take to solve almost any technical problem.\n",
    "\n",
    "1- Getting Information\n",
    "    To get this information, we can use any existing documentation that might help. This can be internal documentation, manual pages, or even questions asked on the Internet. One super important resource to solve a problem is the **reproduction case, which is a clear description of how and when the problem appears.**\n",
    "\n",
    "2- Finding the root cause of the problem\n",
    "     The key here is to get to the bottom of what's going on, what triggered the problem, and how we can change that. \n",
    "     \n",
    "3- The final step is performing the necessary remediation.\n",
    "\n",
    "This might include an immediate remediation to get the system back to health, and then a medium or long-term remediation to avoid the problem in the future. While these are three basic steps of problem-solving, they don't always happen sequentially.\n",
    "\n",
    "It's pretty common that while trying to find the root cause, we discover that we need even more info about the current state. "
   ]
  },
  {
   "cell_type": "markdown",
   "metadata": {},
   "source": [
    "### Silently Crashing Applications\n",
    "\n",
    "Among these tools as **strace** lets us look more deeply at what the program is doing.\n",
    "\n",
    "It will trace a system calls made by the program and tell us what the result of each of these calls was.\n",
    "\n",
    "**System Calls**\n",
    " System calls are the calls that the programs running on our computer make to the running kernel.\n",
    " \n",
    "We could pipe the output to the **less** command which we could use to scroll through a lot of texts or we could use the **-o** flag of the strace command to store the output into a file and then browse the contents of that file. The -o flag, lets us refer back to the file later if we need to."
   ]
  }
 ],
 "metadata": {
  "kernelspec": {
   "display_name": "Python 3",
   "language": "python",
   "name": "python3"
  },
  "language_info": {
   "codemirror_mode": {
    "name": "ipython",
    "version": 3
   },
   "file_extension": ".py",
   "mimetype": "text/x-python",
   "name": "python",
   "nbconvert_exporter": "python",
   "pygments_lexer": "ipython3",
   "version": "3.7.4"
  }
 },
 "nbformat": 4,
 "nbformat_minor": 2
}
