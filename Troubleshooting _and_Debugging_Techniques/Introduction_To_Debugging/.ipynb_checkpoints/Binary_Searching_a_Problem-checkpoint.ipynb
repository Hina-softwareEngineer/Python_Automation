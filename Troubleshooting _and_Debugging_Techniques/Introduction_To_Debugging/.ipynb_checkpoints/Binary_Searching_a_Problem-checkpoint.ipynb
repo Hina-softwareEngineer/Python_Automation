{
 "cells": [
  {
   "cell_type": "markdown",
   "metadata": {},
   "source": [
    "## What is binary Search?\n",
    "\n",
    "One possible approach would be to start from the first entry and then check if the name is the one that we're looking for. If it doesn't match, move to the second element and check again, and keep going until we find the employee with the name we're looking for, or we get to the end of the list. This is called a **linear search**.\n",
    "\n",
    " If the list is sorted, we can use an alternative algorithm for searching called **binary search**. Because the list is sorted, we can make decisions about the position of the elements in the list.\n",
    "\n",
    "\n",
    "### Benefits\n",
    "\n",
    "Using linear search, going through a list with 1000 elements might take up to 1,000 comparisons if the element we're looking for is the last one in the list or isn't present at all. \n",
    "\n",
    "Using binary search for the same list of 1,000 elements, the worst-case is only 10 comparisons.\n",
    "\n",
    "This is calculated as the base two logarithm of the lists length, and the benefits get more and more significant the longer the list."
   ]
  }
 ],
 "metadata": {
  "kernelspec": {
   "display_name": "Python 3",
   "language": "python",
   "name": "python3"
  },
  "language_info": {
   "codemirror_mode": {
    "name": "ipython",
    "version": 3
   },
   "file_extension": ".py",
   "mimetype": "text/x-python",
   "name": "python",
   "nbconvert_exporter": "python",
   "pygments_lexer": "ipython3",
   "version": "3.7.4"
  }
 },
 "nbformat": 4,
 "nbformat_minor": 2
}
