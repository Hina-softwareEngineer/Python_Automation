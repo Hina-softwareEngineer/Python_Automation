{
 "cells": [
  {
   "cell_type": "markdown",
   "metadata": {},
   "source": [
    "## What is binary Search?\n",
    "\n",
    "One possible approach would be to start from the first entry and then check if the name is the one that we're looking for. If it doesn't match, move to the second element and check again, and keep going until we find the employee with the name we're looking for, or we get to the end of the list. This is called a **linear search**.\n",
    "\n",
    " If the list is sorted, we can use an alternative algorithm for searching called **binary search**. Because the list is sorted, we can make decisions about the position of the elements in the list.\n",
    "\n",
    "\n",
    "### Benefits\n",
    "\n",
    "Using linear search, going through a list with 1000 elements might take up to 1,000 comparisons if the element we're looking for is the last one in the list or isn't present at all. \n",
    "\n",
    "Using binary search for the same list of 1,000 elements, the worst-case is only 10 comparisons.\n",
    "\n",
    "This is calculated as the base two logarithm of the lists length, and the benefits get more and more significant the longer the list."
   ]
  },
  {
   "cell_type": "markdown",
   "metadata": {},
   "source": [
    "## Linear Search Algorithm\n",
    "\n",
    "```\n",
    "    def linear_search(list, key):\n",
    "    \"\"\"If key is in the list returns its position in the list,\n",
    "       otherwise returns -1.\"\"\"\n",
    "    for i, item in enumerate(list):\n",
    "        if item == key:\n",
    "            return i\n",
    "    return -1\n",
    "\n",
    "\n",
    "```"
   ]
  },
  {
   "cell_type": "markdown",
   "metadata": {},
   "source": [
    "## Binary Search Algorithm\n",
    "\n",
    "```\n",
    "    def binary_search(list, key):\n",
    "    \"\"\"Returns the position of key in the list if found, -1 otherwise.\n",
    "\n",
    "    List must be sorted.\n",
    "    \"\"\"\n",
    "    left = 0\n",
    "    right = len(list) - 1\n",
    "    while left <= right:\n",
    "        middle = (left + right) // 2\n",
    "        \n",
    "        if list[middle] == key:\n",
    "            return middle\n",
    "        if list[middle] > key:\n",
    "            right = middle - 1\n",
    "        if list[middle] < key:\n",
    "            left = middle + 1\n",
    "    return -1\n",
    "\n",
    "```"
   ]
  },
  {
   "cell_type": "markdown",
   "metadata": {},
   "source": [
    "## Apply Binary Search in Toubleshooting\n",
    "\n",
    "\n",
    "The list of elements could be entries in a file, extensions enabled, boards connected to a server, or even lines of code added to a faulty release. With each iteration, the problem is cut in half. This approach is sometimes called **bisecting** which means dividing in two.\n",
    "\n",
    "When using Git for version control, we can use a Git command called **bisect**. \n",
    "\n",
    "Bisect receives two points in time in the Git history and repeatedly lets us try the code at the middle point between them until we find the commit that caused the breakage. \n",
    "\n",
    "\n",
    "\n",
    "## Finding invalid data\n",
    "\n",
    "Before we run the command, it's a good time to remember that we shouldn't **test in production**.\n",
    "\n",
    "And since this script is going to be trying to import data into a database, we should run it against the test database instead of the production database. \n",
    "\n",
    "To do that, we'll use the **--server flag that takes the name of the database server**, and then we'll pass the test as the parameter.\n",
    "\n",
    "e.g: cat contacts.csv | ./import.py --server test\n",
    "\n",
    "We can use the **wc** command that counts characters, words, and lines in a file. \n",
    "\n",
    "In particular, **wc -l** will print the amount of lines in a file.\n",
    "\n",
    "We can use the **head command** to print the first lines in the file, and the **tail command** to print the last lines.\n",
    "\n",
    "Using the bisect method, we very quickly found which line out of 100 lines contained the corrupt data. \n",
    "\n",
    "e.g: head -50 contacts.csv | tail -25 | tail -12 | head -6 | head -3  | ./import.py --server test\n",
    "\n",
    "**The short-term remediation** here is to tell our user about what we found and how to fix it, so that they can import the data into the production database. \n",
    "\n",
    "**The long-term remediation** is to figure out why the file was generated with the invalid field in the first place, and make sure that it doesn't happen again."
   ]
  }
 ],
 "metadata": {
  "kernelspec": {
   "display_name": "Python 3",
   "language": "python",
   "name": "python3"
  },
  "language_info": {
   "codemirror_mode": {
    "name": "ipython",
    "version": 3
   },
   "file_extension": ".py",
   "mimetype": "text/x-python",
   "name": "python",
   "nbconvert_exporter": "python",
   "pygments_lexer": "ipython3",
   "version": "3.7.4"
  }
 },
 "nbformat": 4,
 "nbformat_minor": 2
}
