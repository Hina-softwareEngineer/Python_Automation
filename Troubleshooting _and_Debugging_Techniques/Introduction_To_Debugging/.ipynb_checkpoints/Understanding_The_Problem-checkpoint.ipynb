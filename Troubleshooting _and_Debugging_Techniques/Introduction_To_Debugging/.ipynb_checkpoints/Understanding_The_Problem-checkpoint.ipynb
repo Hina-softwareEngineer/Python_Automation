{
 "cells": [
  {
   "cell_type": "markdown",
   "metadata": {},
   "source": [
    "## It Doesn't Work\n",
    "\n",
    " When working with users, it's pretty common to receive reports of failures that just boil down to, \"It doesn't work.\" \n",
    " \n",
    " These reports usually don't include a lot of useful information but it's still important that the problem gets reported and solved. Which information is useful or not might depend on the problem. \n",
    " \n",
    " But there are some common questions that we can ask a user that simply report something doesn't work. \n",
    " \n",
    " 1- What were you trying to do? \n",
    " \n",
    " 2- What steps did you follow? \n",
    " \n",
    " 3- What was the expected result? \n",
    " \n",
    " 4- What was the actual result? \n",
    " \n",
    " 3- If the ticketing system your company uses allows this, it's a good idea to include these questions in the form that users have to fill out when reporting an issue. "
   ]
  },
  {
   "cell_type": "markdown",
   "metadata": {},
   "source": [
    "## Creating a Reproduction Case\n",
    "\n",
    " A reproduction case is a way to verify if the problem is present or not.\n",
    " \n",
    " The first step is to read the logs available to you. Which logs to read, will depend on the operating system and the application that you're trying to debug.\n",
    " \n",
    " **On Linux**, you'd read system logs like **/var/log/syslog** and user-specific logs like the **.xsession-errors** file located in the user's home directory**. \n",
    " \n",
    " On MacOs, on top of the system logs, you'd go through the logs stored in the library logs directory.\n",
    " \n",
    " **On Windows, you'd use the Event Viewer tool to go through the event logs**\n",
    " \n",
    "If there's no error message, or the error message is super unhelpful like internal system error. \n",
    "\n",
    "The next step is to try to isolate the conditions that trigger the issue. \n",
    "\n",
    "Do other users in the same office also experienced the problem? Does the same thing happen if the same user logs into a different computer? \n",
    "\n",
    "Does the problem happen if the applications config directory is moved away?"
   ]
  },
  {
   "cell_type": "markdown",
   "metadata": {},
   "source": [
    "## Finding the root Cause\n",
    "\n",
    "**Understanding the root cause is essential for performing the long-term remediation.**\n",
    "\n",
    "We need to come up with an idea of a possible cause, check if it's correct and if not, come up with a different idea until we find one that explains the problem. Our ideas don't come out of a void.\n",
    "\n",
    "Whenever possible, we should check our hypothesis in a test environment, instead of the production environment that our users are working with. T\n",
    "\n",
    "How do we find the root cause? One possible culprit could be too much disk input and output. To get more info on this, we could use **iotop**, which is a tool similar to top that lets us see which processes are using the most input and output. Other related tools are **iostat and vmstat**, these tools show statistics on the input/output operations and the virtual memory operations. If the issue is that the process generates too much input or output, we could use a command like **ionice** to make our backup system reduce its priority to access the disk and let the web services use it too. \n",
    "\n",
    "Another option would be that the service is using too much network because it's transmitting the data to be backed up to a central server and that transmission blocks everything else. We can check this using **iftop**, yet another tool similar to top that shows the current traffic on the network interfaces. If the backup is eating all the network bandwidth, we could look at the documentation for the backup software and check if it already includes an option to limit the bandwidth. The **rsync** command, which is often used for backing up data, includes a **-bwlimit**, just for this purpose. If that option isn't available, we can use a program like Trickle to limit the bandwidth being used.\n"
   ]
  },
  {
   "cell_type": "markdown",
   "metadata": {},
   "source": [
    "## Dealing with Intermittent Issues\n",
    "\n",
    "Many applications and services already include a debugging mode that generates a lot more output then the default mode. By enabling the debug information in advance, you can get a better picture of what's going on the next time the problem happens.\n",
    "\n",
    "we add extra logging information, or when we follow the code step by step using a debugger. This is an especially annoying type of intermittent issue, nicknamed **Heisenbug**, in honor of Werner Heisenberg. He's the scientist that first described the observer effect, where just observing a phenomenon alters the phenomenon. Heisenbugs are extra hard to understand, because when we meddle with them, the bug goes away. \n",
    "**These bugs usually point to bad resource management. Maybe the memory was wrongly allocated, the network connections weren't correctly initialized, or the open files weren't properly handled.**\n",
    "\n",
    "So if an issue goes away after a restart, it's a good idea to try to figure out why that is, and see if it's possible to fix it in a way that doesn't require turning it off and on again."
   ]
  },
  {
   "cell_type": "code",
   "execution_count": null,
   "metadata": {},
   "outputs": [],
   "source": []
  }
 ],
 "metadata": {
  "kernelspec": {
   "display_name": "Python 3",
   "language": "python",
   "name": "python3"
  },
  "language_info": {
   "codemirror_mode": {
    "name": "ipython",
    "version": 3
   },
   "file_extension": ".py",
   "mimetype": "text/x-python",
   "name": "python",
   "nbconvert_exporter": "python",
   "pygments_lexer": "ipython3",
   "version": "3.7.4"
  }
 },
 "nbformat": 4,
 "nbformat_minor": 2
}
