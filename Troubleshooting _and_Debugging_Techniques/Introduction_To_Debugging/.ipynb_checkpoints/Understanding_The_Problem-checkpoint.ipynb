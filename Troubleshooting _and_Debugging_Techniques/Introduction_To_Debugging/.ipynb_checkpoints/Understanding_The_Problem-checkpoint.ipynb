{
 "cells": [
  {
   "cell_type": "markdown",
   "metadata": {},
   "source": [
    "## It Doesn't Work\n",
    "\n",
    " When working with users, it's pretty common to receive reports of failures that just boil down to, \"It doesn't work.\" \n",
    " \n",
    " These reports usually don't include a lot of useful information but it's still important that the problem gets reported and solved. Which information is useful or not might depend on the problem. \n",
    " \n",
    " But there are some common questions that we can ask a user that simply report something doesn't work. \n",
    " \n",
    " 1- What were you trying to do? \n",
    " \n",
    " 2- What steps did you follow? \n",
    " \n",
    " 3- What was the expected result? \n",
    " \n",
    " 4- What was the actual result? \n",
    " \n",
    " 3- If the ticketing system your company uses allows this, it's a good idea to include these questions in the form that users have to fill out when reporting an issue. "
   ]
  },
  {
   "cell_type": "markdown",
   "metadata": {},
   "source": [
    "## Creating a Reproduction Case\n",
    "\n",
    " A reproduction case is a way to verify if the problem is present or not.\n",
    " \n",
    " The first step is to read the logs available to you. Which logs to read, will depend on the operating system and the application that you're trying to debug.\n",
    " \n",
    " **On Linux**, you'd read system logs like **/var/log/syslog** and user-specific logs like the **.xsession-errors** file located in the user's home directory**. \n",
    " \n",
    " On MacOs, on top of the system logs, you'd go through the logs stored in the library logs directory.\n",
    " \n",
    " **On Windows, you'd use the Event Viewer tool to go through the event logs**\n",
    " \n",
    "If there's no error message, or the error message is super unhelpful like internal system error. \n",
    "\n",
    "The next step is to try to isolate the conditions that trigger the issue. \n",
    "\n",
    "Do other users in the same office also experienced the problem? Does the same thing happen if the same user logs into a different computer? \n",
    "\n",
    "Does the problem happen if the applications config directory is moved away?"
   ]
  },
  {
   "cell_type": "markdown",
   "metadata": {},
   "source": [
    "## Finding the root Cause\n",
    "\n",
    "**Understanding the root cause is essential for performing the long-term remediation.**\n",
    "\n",
    "We need to come up with an idea of a possible cause, check if it's correct and if not, come up with a different idea until we find one that explains the problem. Our ideas don't come out of a void.\n",
    "\n",
    "Whenever possible, we should check our hypothesis in a test environment, instead of the production environment that our users are working with. T\n",
    "\n",
    "How do we find the root cause? One possible culprit could be too much disk input and output. To get more info on this, we could use **iotop**, which is a tool similar to top that lets us see which processes are using the most input and output. Other related tools are **iostat and vmstat**, these tools show statistics on the input/output operations and the virtual memory operations. If the issue is that the process generates too much input or output, we could use a command like **ionice** to make our backup system reduce its priority to access the disk and let the web services use it too. \n",
    "\n",
    "Another option would be that the service is using too much network because it's transmitting the data to be backed up to a central server and that transmission blocks everything else. We can check this using **iftop**, yet another tool similar to top that shows the current traffic on the network interfaces. If the backup is eating all the network bandwidth, we could look at the documentation for the backup software and check if it already includes an option to limit the bandwidth. The **rsync** command, which is often used for backing up data, includes a **-bwlimit**, just for this purpose. If that option isn't available, we can use a program like Trickle to limit the bandwidth being used.\n"
   ]
  },
  {
   "cell_type": "markdown",
   "metadata": {},
   "source": [
    "## Dealing with Intermittent Issues\n",
    "\n",
    "Many applications and services already include a debugging mode that generates a lot more output then the default mode. By enabling the debug information in advance, you can get a better picture of what's going on the next time the problem happens.\n",
    "\n",
    "we add extra logging information, or when we follow the code step by step using a debugger. This is an especially annoying type of intermittent issue, nicknamed **Heisenbug**, in honor of Werner Heisenberg. He's the scientist that first described the observer effect, where just observing a phenomenon alters the phenomenon. Heisenbugs are extra hard to understand, because when we meddle with them, the bug goes away. \n",
    "**These bugs usually point to bad resource management. Maybe the memory was wrongly allocated, the network connections weren't correctly initialized, or the open files weren't properly handled.**\n",
    "\n",
    "So if an issue goes away after a restart, it's a good idea to try to figure out why that is, and see if it's possible to fix it in a way that doesn't require turning it off and on again."
   ]
  },
  {
   "cell_type": "markdown",
   "metadata": {},
   "source": [
    "## Intermittently Failing Script\n",
    "\n"
   ]
  },
  {
   "cell_type": "markdown",
   "metadata": {},
   "source": [
    "#### The compare_strings function is supposed to compare just the alphanumeric content of two strings, ignoring upper vs lower case and punctuation. But something is not working. Fill in the code to try to find the problems, then fix the problems.\n",
    "\n",
    "```\n",
    "    import re\n",
    "def compare_strings(string1, string2):\n",
    "  #Convert both strings to lowercase \n",
    "  #and remove leading and trailing blanks\n",
    "  string1 = string1.lower().strip()\n",
    "  string2 = string2.lower().strip()\n",
    "  print(string1, string2)\n",
    "  #Ignore punctuation\n",
    "  punctuation = r\"[\\.?!,;:\\-\\']\"\n",
    "  string1 = re.sub(punctuation, \"\", string1)\n",
    "  string2 = re.sub(punctuation, \"\", string2)\n",
    "\n",
    "  #DEBUG CODE GOES HERE\n",
    "  print(string1, string2)\n",
    "\n",
    "  return string1 == string2\n",
    "\n",
    "print(compare_strings(\"Have a Great Day!\", \"Have a great day?\")) # True\n",
    "print(compare_strings(\"It's raining again.\", \"its raining, again\")) # True\n",
    "print(compare_strings(\"Learn to count: 1, 2, 3.\", \"Learn to count: one, two, three.\")) # False\n",
    "print(compare_strings(\"They found some body.\", \"They found somebody.\")) # False\n",
    "\n",
    "```"
   ]
  },
  {
   "cell_type": "markdown",
   "metadata": {},
   "source": [
    "#### The datetime module supplies classes for manipulating dates and times, and contains many types, objects, and methods. You've seen some of them used in the dow function, which returns the day of the week for a specific date. We'll use them again in the next_date function, which takes the date_string parameter in the format of \"year-month-day\", and uses the add_year function to calculate the next year that this date will occur (it's 4 years later for the 29th of February during Leap Year, and 1 year later for all other dates). Then it returns the value in the same format as it receives the date: \"year-month-day\".\n",
    "\n",
    "#### Can you find the error in the code? Is it in the next_date function or the add_year function? How can you determine if the add_year function returns what it's supposed to? Add debug lines as necessary to find the problems, then fix the code to work as indicated above.\n",
    "\n",
    "```\n",
    "   import datetime\n",
    "from datetime import date\n",
    "\n",
    "def add_year(date_obj):\n",
    "  try:\n",
    "    new_date_obj = date_obj.replace(year = date_obj.year + 1)\n",
    "  except ValueError:\n",
    "    # This gets executed when the above method fails, \n",
    "    # which means that we're making a Leap Year calculation\n",
    "    new_date_obj = date_obj.replace(year = date_obj.year + 4)\n",
    "  \n",
    "  return new_date_obj\n",
    "\n",
    "def next_date(date_string):\n",
    "  # Convert the argument from string to date object\n",
    "  date_obj = datetime.datetime.strptime(date_string, r\"%Y-%m-%d\").date()\n",
    "  \n",
    "  next_date_obj = add_year(date_obj)\n",
    "  \n",
    "  # Convert the datetime object to string, \n",
    "  # in the format of \"yyyy-mm-dd\"\n",
    "  next_date_string = next_date_obj.strftime(\"%Y-%m-%d\")\n",
    "  return next_date_string\n",
    "\n",
    "today = date.today()  # Get today's date\n",
    "print(next_date(str(today))) \n",
    "# Should return a year from today, unless today is Leap Day\n",
    "\n",
    "print(next_date(\"2021-01-01\")) # Should return 2022-01-01\n",
    "print(next_date(\"2020-02-29\")) # Should return 2024-02-29\n",
    "```"
   ]
  }
 ],
 "metadata": {
  "kernelspec": {
   "display_name": "Python 3",
   "language": "python",
   "name": "python3"
  },
  "language_info": {
   "codemirror_mode": {
    "name": "ipython",
    "version": 3
   },
   "file_extension": ".py",
   "mimetype": "text/x-python",
   "name": "python",
   "nbconvert_exporter": "python",
   "pygments_lexer": "ipython3",
   "version": "3.7.4"
  }
 },
 "nbformat": 4,
 "nbformat_minor": 2
}
