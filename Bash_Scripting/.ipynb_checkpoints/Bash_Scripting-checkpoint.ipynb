{
 "cells": [
  {
   "cell_type": "markdown",
   "metadata": {},
   "source": [
    "## Bash\n",
    "\n",
    "Bash is the most commonly used shell on Linux. Bash is not only the interpreter that runs our commands, it's also a scripting language. We can use Bash to write simple scripts when we need to use a lot of commands.\n",
    "\n",
    "\n",
    "bashfile.sh\n",
    "\n",
    "```\n",
    "    echo \"Starting at: $(date)\"\n",
    "    echo\n",
    "    \n",
    "    echo \"Uptime\"\n",
    "    uptime\n",
    "    echo\n",
    "    \n",
    "    echo \"FREE\"\n",
    "    free\n",
    "    echo\n",
    "    \n",
    "    echo \"WHO\"\n",
    "    who\n",
    "    echo\n",
    "    \n",
    "    echo \"Finishing at: $(date)\"\n",
    "\n",
    "```"
   ]
  },
  {
   "cell_type": "markdown",
   "metadata": {},
   "source": [
    "## Using Variables and globs\n",
    "\n",
    "These are variables that are set in the environment in which the command is executing. \n",
    "\n",
    "We mentioned that we set these variables using the equals sign. When we want to access the value of a variable in bash, we need to prefix the name of the variable with the dollar sign.\n",
    "\n",
    "On top of the predefined environment variables, we can also define our own variables for our scripts.\n",
    "There can be no spaces between the name of the variable and the equal sign, or between the equal sign and the value.\n",
    "\n",
    "\n",
    "Globs are characters that allow us to create list of files. The star and question mark are the most common globs.\n",
    "\n",
    "We can also put the star at the end of an expression to get the list of all files that start with a certain prefix.\n",
    "\n",
    "The question mark symbol can be used to match exactly one character instead of any amount of characters, and we can repeat it as many times as we need."
   ]
  },
  {
   "cell_type": "code",
   "execution_count": null,
   "metadata": {},
   "outputs": [],
   "source": [
    "bash.sh\n",
    "\n",
    "line=\"----------------------------------\"\n",
    "echo \"starting at:  $(date)\"; echo $line\n",
    "\n",
    "echo \"UPTIME:\"; uptime; echo $line\n",
    "\n",
    "echo \"FREE\"; free; echo $line\n",
    "\n",
    "echo \"WHO\"; who; echo $line\n",
    "\n",
    "echo \"Finishing at : $(date)\""
   ]
  },
  {
   "cell_type": "markdown",
   "metadata": {},
   "source": [
    "#### globs\n",
    "\n",
    "write in terminal\n",
    "\n",
    "echo *.py\n",
    "echo c*.py\n",
    "echo *\n",
    "echo ?????.py"
   ]
  },
  {
   "cell_type": "markdown",
   "metadata": {},
   "source": [
    "## Conditional Execution in Bash\n",
    "\n",
    "In bash scripting, the condition used is based on the exit status of commands.**we check the exit status for command using the dollar sign question mark**. And we called out that in bash scripting an exit value of zero means success. \n",
    "\n",
    "This logic is used by the if operator in bash. To create a conditional expression, we're going to call a command and if the exit status of that command is zero, then the condition will be considered true.\n",
    "\n",
    "#### Test\n",
    "\n",
    "Test is a command that evaluates the conditions received and exits with zero when they are true and with one when they're false."
   ]
  },
  {
   "cell_type": "code",
   "execution_count": null,
   "metadata": {},
   "outputs": [],
   "source": [
    "#!bin/bash bash.py\n",
    "if grep '127.0.0.1' /etc/hosts; then\n",
    "    echo \"Everything ok\"\n",
    "else\n",
    "    echo \"ERROR! 127.0.0.1 is not in /etc/hosts\"\n",
    "fi # reverse of if indicates that if condition ended\n",
    "\n",
    "\n",
    "## write in terminal\n",
    "if test -n \"$PATH\"; then echo 'Your path is not empty'; fi\n",
    "#We're using the -n option for the test command, which checks if a string variable is empty or not. In this case, path is an empty, so we get the message\n",
    "if test [ -n \"$PATH\" ]; then echo 'Your path is not empty'; fi"
   ]
  },
  {
   "cell_type": "markdown",
   "metadata": {},
   "source": [
    "## Resources\n",
    "\n",
    "Check out the following links for more information:\n",
    "\n",
    "- https://ryanstutorials.net/bash-scripting-tutorial/\n",
    "- https://linuxconfig.org/bash-scripting-tutorial-for-beginners\n",
    "- https://www.shellscript.sh\n"
   ]
  },
  {
   "cell_type": "code",
   "execution_count": null,
   "metadata": {},
   "outputs": [],
   "source": []
  }
 ],
 "metadata": {
  "kernelspec": {
   "display_name": "Python 3",
   "language": "python",
   "name": "python3"
  },
  "language_info": {
   "codemirror_mode": {
    "name": "ipython",
    "version": 3
   },
   "file_extension": ".py",
   "mimetype": "text/x-python",
   "name": "python",
   "nbconvert_exporter": "python",
   "pygments_lexer": "ipython3",
   "version": "3.7.4"
  }
 },
 "nbformat": 4,
 "nbformat_minor": 2
}
