{
 "cells": [
  {
   "cell_type": "markdown",
   "metadata": {},
   "source": [
    "## While Loops in Bash Scripts\n",
    "\n",
    "```\n",
    "    n=1\n",
    "    while [ $n -le 5];do\n",
    "        echo \"Iteration number $5\"\n",
    "        ((n+=1))\n",
    "    done;\n",
    "    \n",
    "    \n",
    "    \n",
    "    n=0\n",
    "    command=$1   // it is in python sys.argv[1]\n",
    "    while ! $command && [$n -le 5 ]; do\n",
    "        sleep $n\n",
    "        ((n+=1))\n",
    "        echo \"Retry #$n\"\n",
    "     done;\n",
    "```\n",
    "\n",
    "\n",
    "we check if the variable N is less than or equal to five using the _le operator. The loop itself starts with the do keyword and finishes with a done keyword. To increment the value of the variable N, we're using a bash construct of double parentheses that lets us do arithmetic operations with our variables"
   ]
  },
  {
   "cell_type": "markdown",
   "metadata": {},
   "source": [
    "## For loops in Bash Scripts\n",
    "\n",
    "```\n",
    "    for fruit in peach orange apple; do\n",
    "        echo \"$fruit\"\n",
    "    done\n",
    "    \n",
    "    for file in *.HTM; do\n",
    "        name=$(basename \"$file\" .HTM)\n",
    "        mv \"$file\" \"$name.html\"\n",
    "    done\n",
    "\n",
    "```\n",
    "\n",
    "how can we extract the part before the extension? There's a command called basename that can help us with that."
   ]
  },
  {
   "cell_type": "markdown",
   "metadata": {},
   "source": [
    "## Advanced Command Iteration\n",
    "\n",
    "the **tail** command to look at the last 10 lines from the file right now.\n",
    "\n",
    "we need to extract the part of the line that has the actual event without the date and time. We can use a command called **cut** to help us with that. This command, let's us take only bits of each line using a field delimiter. In this example, we can split the line using spaces.\n",
    "\n",
    "write in terminal\n",
    "tail /var/log/syslog | cut -d' ' -f5-\n",
    "\n",
    "we're passing dash d space to cut to tell it that we want to use a space as a delimiter, and dash f5 dash that tell it that we want to print the field number 5 and everything that comes after it. With that, we remove the date and the name of the computer keeping only the process and the event message,"
   ]
  }
 ],
 "metadata": {
  "kernelspec": {
   "display_name": "Python 3",
   "language": "python",
   "name": "python3"
  },
  "language_info": {
   "codemirror_mode": {
    "name": "ipython",
    "version": 3
   },
   "file_extension": ".py",
   "mimetype": "text/x-python",
   "name": "python",
   "nbconvert_exporter": "python",
   "pygments_lexer": "ipython3",
   "version": "3.7.4"
  }
 },
 "nbformat": 4,
 "nbformat_minor": 2
}
