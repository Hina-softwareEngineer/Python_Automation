{
 "cells": [
  {
   "cell_type": "markdown",
   "metadata": {},
   "source": [
    "## Basic Linux Commands\n",
    "\n",
    "mkdir   #### made a directory\n",
    "cd      #### change directory\n",
    "pwd     #### print the current directory\n",
    "cp ../spider.txt .   ####.. shows reverses a parent directory(previous dir and absolute path) while lst dot reverses the current directory\n",
    "touch      #### creates an empty file\n",
    "cat      #### shows the content of files\n",
    "ls -l #### shows the contents of directory, we got alot of information\n",
    "ls -la    #### shows hidden files\n",
    "mv myfile.txt empty.file    #### move/rename  a file\n",
    "cp spider.txt yetanotherfile.txt  ####copy a file\n",
    "rm *   #### delete all files in directory.\n",
    "cd ..   #### to move to previous directory\n",
    "rmdir     #### to delete directory"
   ]
  },
  {
   "cell_type": "markdown",
   "metadata": {},
   "source": [
    "## Redirecting Streams\n",
    "\n",
    "**Redirection**\n",
    "\n",
    "The process of sending a stream to diffferent destination\n",
    "Usnig '>' commands\n",
    "\n",
    "e.g: cat stdout_file.py > new_file.py\n",
    "    cat new_file.py\n",
    "    \n",
    "**Append**\n",
    "\n",
    "./stdout_example.py >> new_file.txt\n",
    "\n",
    "**redirected of standard input**\n",
    "\n",
    ".streams_errr.py < new_file.txt\n",
    "\n",
    "**File Descriptor**\n",
    "\n",
    "Redirecting error output to separate file\n",
    "./streams_err.py < new_file.txt 2>error_file.txt"
   ]
  },
  {
   "cell_type": "markdown",
   "metadata": {},
   "source": [
    "## Pipe and Pipelines\n",
    "\n",
    "Pipings\n",
    "\n",
    "\n",
    "ls -l | less\n",
    "\n",
    "cat spider.txt | tr ' ' '\\n' | sort | uniq -c | sort -nr | head"
   ]
  }
 ],
 "metadata": {
  "kernelspec": {
   "display_name": "Python 3",
   "language": "python",
   "name": "python3"
  },
  "language_info": {
   "codemirror_mode": {
    "name": "ipython",
    "version": 3
   },
   "file_extension": ".py",
   "mimetype": "text/x-python",
   "name": "python",
   "nbconvert_exporter": "python",
   "pygments_lexer": "ipython3",
   "version": "3.7.4"
  }
 },
 "nbformat": 4,
 "nbformat_minor": 2
}
