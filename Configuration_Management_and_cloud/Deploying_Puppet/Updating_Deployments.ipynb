{
 "cells": [
  {
   "cell_type": "markdown",
   "metadata": {},
   "source": [
    "## Modifying and Testing Manifests\n",
    "\n",
    "Say you're trying to use puppet to change the permissions of some files on the nose locking down some paths that you don't think that your users will need. Now imagine you try out the rules on your computer and discover you made a mistake and locked yourself out. Oops. So what can you do instead? There's a bunch of things to consider. **A simple first step is to use the puppet parser validate command that checks that the syntax of the manifests is correct on top of that we can also run the rules using the --noop parameter the name comes from no operations and it makes puppet simulate what it would do without actually doing it**. You can look at the list of actions that it would take and check that they're exactly what you wanted puppet to do.\n",
    "\n",
    "But if the change is complex, it's likely that we'll miss something important when looking at the planned actions, **another option you could use is having test machines that are used only for testing out changes.** \n",
    "\n",
    "You can apply the rules there and after a puppet has run check that everything's working correctly. But again, this is a manual process and we might forget to verify something important. \n",
    "\n",
    "**Puppet also lets us test our manifests automatically by using R-Spec tests in these tests**. We can set the facts involved different values and check that the catalog ends up stating what we wanted it to, let's check out an example.\n",
    "\n",
    "```\n",
    "describe 'gksu', :type => :class do\n",
    "    let (:facts) { { 'is_virtual' => 'false' } }\n",
    "    it { should contain_package('gksu').with_ensure('latest') }\n",
    "    end\n",
    "\n",
    "```\n",
    "\n",
    "Here we're setting the is virtual fact to false. And then we asked the test infrastructure to verify that the gks you package is included with the ensurer parameter set to latest tests. Test like this one can be a useful way to check that.\n",
    "\n",
    "## Safely Rolling Out Changes and Validating Them\n",
    "\n",
    "#### Production\n",
    "\n",
    "**In an infrastructure context, production is the parts of the infrastructure where a service is executed and served to its users**. If you host a website, the servers that deliver the website content to the users are the production servers.\n",
    "\n",
    "So how can we roll out changes safely? The key is to always run them through a test environment first. The test environment should have one or more machines running the exact same configuration as the production environment. But these machines aren't actually serving any users of the service. This way, there's a problem when deploying the changes should be able to fix it without any actual users seeing it.\n",
    "\n",
    " Puppet has environments picked in. Each environment has its own directory with its own set of manifests and modules. Puppet environments lets us fully isolate the configurations that the agency depending on what environment they're running. This isn't just what nodes install which modules, it's also the whole contents of the modules.\n",
    " \n",
    "You could have a development environment for IT specialists to try out new Puppet rules before they even reach the test environment, or say you're developing a very tricky new feature for your system and you don't know when it'll be ready. You could have an environment for testing just that specific feature.\n",
    "\n",
    "It's always possible that we missed some special case when preparing the change which wasn't part of our test environment and suddenly, half our fleet is offline. So instead of pushing the changes to all nodes, we usually do it in batches. \n",
    "\n",
    "You could have some machines with the fact that marks them as early adopters or canaries. Like the canaries that coal miners used to detect toxic gases in the mines, these nodes detect potential issues before they reach the other computers. So you could push the changes to the canaries on one day, check that everything's working fine, and then deploy them to the rest of the fleet on the next day. \n",
    "\n",
    "### More Information About Updating Deployments\n",
    "\n",
    "Check out the following links for more information:\n",
    "\n",
    "- https://rspec-puppet.com/tutorial/\n",
    "- http://puppet-lint.com/"
   ]
  },
  {
   "cell_type": "code",
   "execution_count": null,
   "metadata": {},
   "outputs": [],
   "source": []
  }
 ],
 "metadata": {
  "kernelspec": {
   "display_name": "Python 3",
   "language": "python",
   "name": "python3"
  },
  "language_info": {
   "codemirror_mode": {
    "name": "ipython",
    "version": 3
   },
   "file_extension": ".py",
   "mimetype": "text/x-python",
   "name": "python",
   "nbconvert_exporter": "python",
   "pygments_lexer": "ipython3",
   "version": "3.7.4"
  }
 },
 "nbformat": 4,
 "nbformat_minor": 2
}
