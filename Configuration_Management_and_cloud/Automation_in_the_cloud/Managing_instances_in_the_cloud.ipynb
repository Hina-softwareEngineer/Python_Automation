{
 "cells": [
  {
   "cell_type": "markdown",
   "metadata": {},
   "source": [
    "## Spinning up VMs in the cloud\n",
    "\n",
    "All Cloud providers give you a console that lets you manage the services that you're using. This console includes pointers to a lot of different services that the providers offer.\n",
    "\n",
    "it's a good idea to start just by familiarizing yourself with the platform before you try to do something with it. This can mean, for example, looking at the available menus and options, and figuring out where the sections that let you use infrastructure-as-a-service are located. No matter the exact menu entries, when you want to create a VM running in the Cloud, there are a bunch of parameters that you need to set. These parameters are used by the Cloud infrastructure to spin up the machine with the settings that we want. You'll start by choosing the name assigned to the instance. This name will later let you identify the instance if you want to connect to it, modify it, or even delete it.\n",
    "\n",
    "You'll also have to choose the region and zone where the instance is running.Another important option that you'll need to select is the machine type for your VM. Cloud providers allow users to configure the characteristics of their virtual machines to fit their needs. This means selecting how many processing units, or virtual CPUs, and how much memory the virtual machine will be allocated.\n",
    "\n",
    "On top of the CPU and memory available, you'll also need to select the boot disk that the VM will use. Each virtual machine running in the Cloud has an associated disk that contains the operating system it runs and some extra disk space. When you create the VM, you select both how much space you want to allocate for the virtual disk and what operating system you want the machine to run. \n",
    "\n",
    "To create these resources, we can use the web interface or the command line interface. The web UI can be very useful for quickly inspecting the parameters that we need to set.\n",
    "\n",
    "This is great for experimenting, but it doesn't scale well if we need to quickly create a bunch of machines or if we want to automate the creation. In those cases, we'll use the command line interface, which lets us specify what we want once, and then use the same parameters many times. Using the command line interface lets us create, modify, and even delete virtual machines from our scripts. This is a great step towards automation, but it doesn't stop there. We can also automate the preparation of the contents of those virtual machines. \n",
    "\n",
    "You install any necessary software, you modify any configuration settings, and then make sure that it's working correctly. But it would be hard to reproduce this exactly on another machine, and impossible to do it on thousands of machines. **This is where reference images and templating come into play. Reference images store the contents of a machine in a reusable format, while templating is the process of capturing all of the system configuration to let us create VMS in a repeatable way**. That exact format of the reference image will depend on the vendor. But often, the result is a file called a disk image. **A disk image is a snapshot of a virtual machine's disk at a given point in time**. Good templating software lets you copy an entire virtual machine and use that copy to generate new ones. Depending on the software, the disk image might not be an exact copy of the original machine because some machine data changes, like the hostname and IP address.\n",
    "\n",
    "\n",
    "\n",
    "## Creating a New VM using the GCP Web Ui\n",
    "\n",
    "\n",
    "## Customizing VMs in GCP\n",
    "\n",
    "a reference image is just a file or configuration that we can deploy repeatedly and with automated tools. This is important because it lets us build scalable services very quickly.\n",
    "\n",
    "ust notice that the configuration expects the script that we want to execute to be in /usr/local/bin. We need to copy that file over to there and then copy the service file to /etc/systemd/system, which is the directory used for configuring systemd services. And finally, we need to tell the systemctl command that we want to enable this service so that it runs automatically. \n",
    "\n",
    "Over the last few videos we learned how to create and use virtual machines running on GCP. We then explored how we can use one VM as a template for creating many more VMs with the same setup. You can find a lot more information about this in the following tutorials:\n",
    "\n",
    "- https://cloud.google.com/compute/docs/quickstart-linux\n",
    "- https://cloud.google.com/compute/docs/instances/create-vm-from-instance-template\n",
    "- https://cloud.google.com/sdk/docs"
   ]
  }
 ],
 "metadata": {
  "kernelspec": {
   "display_name": "Python 3",
   "language": "python",
   "name": "python3"
  },
  "language_info": {
   "codemirror_mode": {
    "name": "ipython",
    "version": 3
   },
   "file_extension": ".py",
   "mimetype": "text/x-python",
   "name": "python",
   "nbconvert_exporter": "python",
   "pygments_lexer": "ipython3",
   "version": "3.7.4"
  }
 },
 "nbformat": 4,
 "nbformat_minor": 2
}
