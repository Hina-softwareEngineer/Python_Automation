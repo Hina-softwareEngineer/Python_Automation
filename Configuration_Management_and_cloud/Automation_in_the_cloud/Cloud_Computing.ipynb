{
 "cells": [
  {
   "cell_type": "markdown",
   "metadata": {},
   "source": [
    "## Automation in the cloud\n",
    "\n",
    "Even if you've never worked with the cloud directly, you've certainly interacted with the services running in the cloud. \n",
    "\n",
    "\n",
    "## Cloud Services Overview\n",
    "\n",
    "When we say that a service is running in the Cloud, what do we actually mean? It has nothing to do with those white fluffy things in the sky, **it simply means that the service is running somewhere else either in a data center or in other remote servers that we can reach over the Internet**. \n",
    "\n",
    "Cloud providers typically offer a bunch of different service types, the ones used most by users are in the **Software as a Service** category. **Software as a Service or SaaS, is when a Cloud provider delivers an entire application or program to the customer. If you choose a Cloud e-mail solution like Gmail, a Cloud storage solution like Dropbox, or a Cloud productivity suite like Microsoft Office 365, there are only a small number of options for you to select or customize**.\n",
    "\n",
    "Not all of our needs can be solved by prepackaged software, sometimes we need to develop our own. **For some of the components of our software, we might choose to use Platform as a Service. Platform as a Service or PaaS, is when a Cloud provider offers a preconfigured platform to the customer**.\n",
    "\n",
    "Say you need an SQL database to store some of your applications data, you could choose to host the database in your own hardware. To do this, you'd need to install an operating system on that computer and then install the SQL software on top of the chosen OS. This requires a basic understanding of all of these different pieces just to get the database running. There's a bunch of things that could go wrong and even if you can eventually solve all of them, it can take awhile. Instead, **you could decide to use a Cloud provider that offers an SQL database as a service, that way you can just focus on writing SQL queries and using the platform, and let the Cloud provider take care of the rest.**\n",
    "\n",
    "\n",
    "If you need a high level of control over the software you're running and how it interacts with other pieces in your system, you might want to choose **Infrastructure as a Service. Infrastructure as a Service or IaaS, is when a Cloud provider supplies only the bare-bones computing experience. Generally, this means a virtual machine environment and any networking components needed to connect virtual machines, the Cloud provider won't care what you're using the VMs for. **\n",
    "\n",
    "You could use them to host a web server, a mail server, your own SQL database with your own configuration settings, or a whole lot more possibilities. Running your IT infrastructure on the Cloud provider's IaaS offering is a very popular choice.\n",
    "\n",
    "**Some IaaS products include: Amazon's EC2, Google Compute Engine, and Microsoft Azure Compute**. Now no matter the service model and the provider you use, when you set up Cloud resources you'll need to consider regions. A region is a geographical location containing a number of data centers, regions contain zones and zones can contain one or more physical data centers.\n",
    "\n",
    "Large Cloud providers usually offer their services in lots of different regions around the world.\n",
    "\n",
    "Latency isn't the only factor to take into account when selecting a region or zone, some organizations require their data to be stored in specific cities or countries for legal or policy reasons. If your service uses other services as dependencies, it's a good idea to host the service physically close to its dependencies.\n",
    "\n",
    "Qwiklabs is a service using Cloud infrastructure. So what kind of Cloud service does Qwiklabs use? Qwiklabs uses Infrastructure as a Service, the VMs get provisioned with just the OS and the lab automation then deploys any additional files and software into the OS"
   ]
  },
  {
   "cell_type": "markdown",
   "metadata": {},
   "source": [
    "## Scaling in the Cloud\n",
    "\n"
   ]
  }
 ],
 "metadata": {
  "kernelspec": {
   "display_name": "Python 3",
   "language": "python",
   "name": "python3"
  },
  "language_info": {
   "codemirror_mode": {
    "name": "ipython",
    "version": 3
   },
   "file_extension": ".py",
   "mimetype": "text/x-python",
   "name": "python",
   "nbconvert_exporter": "python",
   "pygments_lexer": "ipython3",
   "version": "3.7.4"
  }
 },
 "nbformat": 4,
 "nbformat_minor": 2
}
