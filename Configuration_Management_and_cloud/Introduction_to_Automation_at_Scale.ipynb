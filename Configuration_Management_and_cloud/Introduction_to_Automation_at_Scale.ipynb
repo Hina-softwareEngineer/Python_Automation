{
 "cells": [
  {
   "cell_type": "markdown",
   "metadata": {},
   "source": [
    "## Automating with Configuration Management\n",
    "\n",
    "**SRE is focused on the reliability and maintainability of large systems. We apply tons of automation techniques to manage them**. This let's teams with only a handful of engineers have a big impact, scaling our support as our service grows. We're small, but mighty. My job includes a lot of different tasks. Sometimes I spend my time collaborating with partner teams on the reliability aspects of a cool new feature, like scheduling emails to send at a later time on G-mail. Other days, I write software, creating tools that help automate how we manage the service. When I'm not doing that, I might do research or architectural design for a new project. I'm also part of the on-call rotation for the service. If problems come up when I'm on call, I'm in charge of fixing them or finding the right person to fix them if I can't. So what will we cover in this course? We'll start by looking into an automation technique called configuration management, which lets us manage the configuration of our computers at scale.\n",
    "\n",
    "\n",
    " I discovered I was interested in IT and technology as a teenager. So when I decided to enlist in the Navy right after high school, I signed up to be an Information Systems Technician there. I served in the Navy for four years supporting IT and networks resources around the world. After leaving the Navy, I went to college and then joined Google in the IT support department. The transition from working in a very structured environment like the military to a place like Google was initially a bit hard to wrap my head around. I had to become much more comfortable in dealing with ambiguity in the problem spaces that I was working in, which meant learning to trust my own sense of judgment and prioritization. All along the way, I kept learning new skills and growing as a person and an engineer.\n",
    "\n",
    "\n",
    "## What is Scale?\n",
    "\n",
    "So what do we mean when we talk about scale? Being able to scale what we do means that we can keep achieving larger impacts with the same amount of effort when a system scales.\n",
    "\n",
    "A scalable system is a flexible one. \n",
    "\n",
    "To figure out how scalable your current setup is, you can ask yourself questions like will \n",
    "1. adding more servers increase the capacity of the service? \n",
    "2. How are new servers prepared, installed, and configured? \n",
    "3. How quickly can you set up new computers to get them ready to be used? \n",
    "4. Could you deploy a hundred servers with the same IT team that you have today? Or \n",
    "5. would you need to hire more people to get it done faster? \n",
    "6. Would all the deployed servers be configured exactly the same way? \n",
    "\n",
    "Scaling isn't just about website serving content of course. If your company is rapidly hiring a lot of new employees, you'll need to have an onboarding process that can scale as needed.\n",
    "\n",
    "Automation is an essential tool for keeping up with the infrastructure needs of a growing business. By using the right automation tools, we can get a lot more done in the same amount of time.\n",
    "\n",
    "\n",
    "## Configuration Management\n",
    "\n",
    "**By manually deploying the installation and configuring the computer, we see that we're using unmanaged configuration.**\n",
    "\n",
    " For example, a network switch might use a config file to set up each of its ports.\n",
    " \n",
    "So what would **it mean for the configuration to be managed? It means using a configuration management system to handle all of the configuration of the devices in your fleet, also known as nodes**. There's a bunch of different tools available depending on the devices and services involved. Typically you'll define a set of rules that have to be applied to the nodes you want to manage and then have a process that ensures that those settings are true on each of the nodes.\n",
    "\n",
    "The more servers that you need to deploy, the more time it will take you to do it manually. And when things go wrong, and they often do, it can take a lot of time to recover and have the servers back online. Configuration management systems aim to solve this scaling problem. \n",
    "\n",
    "You edit the configuration management rules and then let the automation apply those rules in the affected machines. This way the changes you make to a system or group of systems are done in a systematic, repeatable way. Being repeatable is important because it means that the results will be the same on all the devices. **A configuration management tool can take the rules you define and apply them to the systems that it manages, making changes efficient and consistent.** \n",
    "\n",
    "There are lots of configuration management systems available in the IT industry today. \n",
    "\n",
    "**Some popular systems include Puppet, Chef, Ansible, and CFEngine**. \n",
    "These tools can be used to manage locally hosted infrastructure. \n",
    "\n",
    "**Think bare metal or virtual machines, like the laptops or work stations that employees use at a company**. \n",
    "\n",
    "Many also have some kind of **Cloud integration allowing them to manage resources in Cloud environments like Amazon EC2, Microsoft Azure, or the Google Cloud platform**, and the list doesn't stop there. There are some platform specific tools, like **SCCM and Group Policy for Windows**. "
   ]
  },
  {
   "cell_type": "code",
   "execution_count": null,
   "metadata": {},
   "outputs": [],
   "source": []
  }
 ],
 "metadata": {
  "kernelspec": {
   "display_name": "Python 3",
   "language": "python",
   "name": "python3"
  },
  "language_info": {
   "codemirror_mode": {
    "name": "ipython",
    "version": 3
   },
   "file_extension": ".py",
   "mimetype": "text/x-python",
   "name": "python",
   "nbconvert_exporter": "python",
   "pygments_lexer": "ipython3",
   "version": "3.7.4"
  }
 },
 "nbformat": 4,
 "nbformat_minor": 2
}
