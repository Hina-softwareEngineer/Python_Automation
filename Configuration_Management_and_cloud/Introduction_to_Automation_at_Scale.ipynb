{
 "cells": [
  {
   "cell_type": "markdown",
   "metadata": {},
   "source": [
    "## Automating with Configuration Management\n",
    "\n",
    "**SRE is focused on the reliability and maintainability of large systems. We apply tons of automation techniques to manage them**. This let's teams with only a handful of engineers have a big impact, scaling our support as our service grows. We're small, but mighty. My job includes a lot of different tasks. Sometimes I spend my time collaborating with partner teams on the reliability aspects of a cool new feature, like scheduling emails to send at a later time on G-mail. Other days, I write software, creating tools that help automate how we manage the service. When I'm not doing that, I might do research or architectural design for a new project. I'm also part of the on-call rotation for the service. If problems come up when I'm on call, I'm in charge of fixing them or finding the right person to fix them if I can't. So what will we cover in this course? We'll start by looking into an automation technique called configuration management, which lets us manage the configuration of our computers at scale.\n",
    "\n",
    "\n",
    " I discovered I was interested in IT and technology as a teenager. So when I decided to enlist in the Navy right after high school, I signed up to be an Information Systems Technician there. I served in the Navy for four years supporting IT and networks resources around the world. After leaving the Navy, I went to college and then joined Google in the IT support department. The transition from working in a very structured environment like the military to a place like Google was initially a bit hard to wrap my head around. I had to become much more comfortable in dealing with ambiguity in the problem spaces that I was working in, which meant learning to trust my own sense of judgment and prioritization. All along the way, I kept learning new skills and growing as a person and an engineer.\n",
    "\n",
    "\n",
    "## What is Scale?\n",
    "\n",
    "So what do we mean when we talk about scale? Being able to scale what we do means that we can keep achieving larger impacts with the same amount of effort when a system scales.\n",
    "\n",
    "A scalable system is a flexible one. \n",
    "\n",
    "To figure out how scalable your current setup is, you can ask yourself questions like will \n",
    "1. adding more servers increase the capacity of the service? \n",
    "2. How are new servers prepared, installed, and configured? \n",
    "3. How quickly can you set up new computers to get them ready to be used? \n",
    "4. Could you deploy a hundred servers with the same IT team that you have today? Or \n",
    "5. would you need to hire more people to get it done faster? \n",
    "6. Would all the deployed servers be configured exactly the same way? \n",
    "\n",
    "Scaling isn't just about website serving content of course. If your company is rapidly hiring a lot of new employees, you'll need to have an onboarding process that can scale as needed.\n",
    "\n",
    "Automation is an essential tool for keeping up with the infrastructure needs of a growing business. By using the right automation tools, we can get a lot more done in the same amount of time."
   ]
  }
 ],
 "metadata": {
  "kernelspec": {
   "display_name": "Python 3",
   "language": "python",
   "name": "python3"
  },
  "language_info": {
   "codemirror_mode": {
    "name": "ipython",
    "version": 3
   },
   "file_extension": ".py",
   "mimetype": "text/x-python",
   "name": "python",
   "nbconvert_exporter": "python",
   "pygments_lexer": "ipython3",
   "version": "3.7.4"
  }
 },
 "nbformat": 4,
 "nbformat_minor": 2
}
