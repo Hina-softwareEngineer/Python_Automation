{
 "cells": [
  {
   "cell_type": "markdown",
   "metadata": {},
   "source": [
    "## Domain-Specific Languages\n",
    "\n",
    "Resources are the building blocks of Puppet rules, but we can do much more complex operations using Puppet's domain specific language or DSL.\n",
    "\n",
    "**A domain specific language is a programming language that's more limited in scope**.In the case of Puppet, the DSL is limited to operations related to when and how to apply configuration management rules to our devices. \n",
    "\n",
    "On top of the basic resource types that we already checked out, Puppet's DSL includes variables, conditional statements, and functions. Using them, we can apply different resources or set attributes to different values depending on some conditions. \n",
    "\n",
    "#### Facts\n",
    "\n",
    "**Facts are variables that represent the characteristics of the system. When the Puppet agent runs, it calls a program called factor which analyzes the current system, storing the information it gathers in these facts**. Once it's done, it sends the values for these facts to the server, which uses them to calculate the rules that should be applied. \n",
    "\n",
    "Puppet comes with a bunch of baked-in core facts that store useful information about the system like what the **current OS is, how much memory the computer has, whether it's a virtual machine or not or what the current IP address is**. If the information we need to make a decision isn't available through one of these facts, we can also write a script that checks for the information and turns it into our own custom fact. \n",
    "\n",
    "```\n",
    "if $facts['is_virtual']{\n",
    "    package { 'smartmontools':\n",
    "        ensure => purged,\n",
    "    }\n",
    "} else{\n",
    "    package { 'smartmontools':\n",
    "        ensure => installed,\n",
    "    }\n",
    "}\n",
    "\n",
    "```\n",
    "\n",
    "This piece of code is using the is-virtual fact together with a conditional statement to decide whether the smartmontools package should be installed or purged.This package is used for monitoring the state of hard drives using smart.\n",
    "\n",
    "\n",
    "We can see several of the characteristics of Puppets domain specific language in this block\n",
    "\n",
    "All variable names are preceded by a dollar sign in Puppet's DSL. In particular, the facts variable is what's known as a hash in the Puppet DSL, which is equivalent to a dictionary in Python.\n",
    "\n",
    "This means that we can access the different elements in the hash using their keys. In this case, we're accessing the value associated to the is virtual key. \n",
    "\n",
    "Second, we see how we can write a conditional statement using if else, enclosing each block of the conditional with curly braces. Finally, each conditional block contains a package resource. \n",
    "\n",
    "We've seen resources before, but we haven't looked at the syntax in detail.\n",
    "\n",
    "Every resource starts with the type of resource being defined. In this case, package and the contents of the resource are then enclosed in curly braces. Inside the resource definition, the first line contains the title followed by a colon.\n",
    "\n",
    "\n",
    "Any lines after that are attributes that are being set. We use equals greater than to assign values to the attributes and then each attribute ends with a comma. "
   ]
  },
  {
   "cell_type": "markdown",
   "metadata": {},
   "source": [
    "## Driving Principles of Configuration Management\n",
    "\n",
    "We say that **Puppet uses a declarative language because we declare the state that we want to achieve rather than the steps to get there**. Traditional languages like Python or C are called procedural because we write out the procedure that the computer needs to follow to reach our desired goal.\n",
    "\n",
    "when it comes to configuration management, it makes sense to simply state what the configuration should be, not what the computer should do to get there.\n",
    "\n",
    "#### Idempotent Actions\n",
    "\n",
    "Another important aspect of configuration management is that operations should be idempotent. In this context, an idempotent action can be performed over and over again without changing the system after the first time the action was performed, and with no unintended side effects. \n",
    "\n",
    "No matter how many times the agent applies the rule, the end result is that this file will have the requested contents and permissions. Idempotency is a valuable property of any piece of automation. If a script is idempotent, it means that it can fail halfway through its task and be run again without problematic consequences. \n",
    "\n",
    "If your automation is idempotent, you can add the missing disk and then have the system pick up from where it left off. \n",
    "\n",
    "Most Puppet resources provide idempotent actions, and we can rest assured that two runs of the same set of rules will lead to the same end result. An **exception to this is the exec resource, which runs commands for us**. The actions taken by the exec resource might not be idempotent since a command might modify the system each time it's executed.\n",
    "\n",
    "So **if we need to use the exec resource to run a command for us, we need to be careful to ensure that the action is idempotent**. We could do that for example by using the onlyif attribute like this. Using the onlyif attribute, we specified that this command should be executed only if the file that we want to move exists.\n",
    "\n",
    "By adding this conditional, we've taken an action that's not idempotent and turned it into an idempotent one.\n",
    "\n",
    "Another important aspect of how **configuration management works is the test and repair paradigm**. This means that actions are taken only when they are necessary to achieve a goal. Puppet will first test to see if the resource being managed like a file or a package, actually needs to be modified. I\n",
    "\n",
    "\n",
    "Finally, **another important characteristic is that Puppet is stateless, this means that there's no state being kept between runs of the agent**. Each Puppet run is independent of the previous one, and the next one. Each time the puppet agent runs, it collects the current facts. The Puppet master generates the rules based just on those facts, and then the agent applies them as necessary. \n",
    "\n"
   ]
  },
  {
   "cell_type": "markdown",
   "metadata": {},
   "source": [
    "## More Information About Configuration Management\n",
    "\n",
    "\n",
    "Check out the following links for more information:\n",
    "\n",
    "1. https://en.wikipedia.org/wiki/Domain-specific_language\n",
    "2. http://radar.oreilly.com/2015/04/the-puppet-design-philosophy.html"
   ]
  },
  {
   "cell_type": "markdown",
   "metadata": {},
   "source": [
    "## Set File Modes\n",
    "\n",
    "It then sets the \"mode\" of the file to \"0646\". This number represents the permissions the file will have.\n",
    "\n",
    "You might remember that every file and directory on a Linux system is assigned permissions for three groups of people: the owner, the group and the others.. And for each group, the permissions refer to the possibility of reading, writing and executing the file.\n",
    "\n",
    "It's common to use numbers to represent the permissions: 4 for read, 2 for write and 1 for execute. The sum of the permissions given to each of the groups is then a part of the final number. For example, a permission of 6 means read and write, a permission of 5 means read and execute, and a permission of 7 means read, write and execute.\n",
    "\n",
    "In this example, we are using 4 numbers. The first one represents any special permissions that the file has (no special permissions). The second one is the permissions for the owner, (read and write), and then come the permissions for the group (read), and finally the permissions for the others (read and write)"
   ]
  },
  {
   "cell_type": "code",
   "execution_count": null,
   "metadata": {},
   "outputs": [],
   "source": []
  }
 ],
 "metadata": {
  "kernelspec": {
   "display_name": "Python 3",
   "language": "python",
   "name": "python3"
  },
  "language_info": {
   "codemirror_mode": {
    "name": "ipython",
    "version": 3
   },
   "file_extension": ".py",
   "mimetype": "text/x-python",
   "name": "python",
   "nbconvert_exporter": "python",
   "pygments_lexer": "ipython3",
   "version": "3.7.4"
  }
 },
 "nbformat": 4,
 "nbformat_minor": 2
}
