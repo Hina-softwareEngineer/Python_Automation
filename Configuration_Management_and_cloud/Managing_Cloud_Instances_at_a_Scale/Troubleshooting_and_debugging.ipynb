{
 "cells": [
  {
   "cell_type": "markdown",
   "metadata": {},
   "source": [
    "## What to Do When You Can't Be Physically There\n",
    "\n",
    "After the latest upgrade, a bunch of your cloud VMs have stopped booting. Something went wrong, but you don't know exactly what. You can't connect to the instances or boot them in rescue mode, so what can you do? There's a bunch of options, **if you're following the infrastructure as code practices that we've talked about. You could deploy new VMs with the previous version of the system**, this would help us get back to a healthy state as quickly as possible. **On top of this, you want to understand the problem and how to fix it. To do that, you can create a snapshot of the disk image for one of the failing VMs. And then mount that disk image on a healthy machine. That way you can analyze the contents of the image and figure out what's causing the failures**. And it's not always easy to know which piece of the system is causing a failure. \n",
    "\n",
    "**Setting up a testing environment might take time and effort. So it's a good idea to do this in advance before any problem actually happens**. \n",
    "\n",
    "\n",
    "**You might remember from the troubleshooting and debugging course, that understanding logs is super important for being able to solve problems in IT**.\n",
    "\n",
    "When you run your service in the cloud, you need to learn where to find the logs. That the provider keeps and what info is available in which logs. Some cloud providers offer centralized log solutions to collect all your logs in one place. You can have all your notes, send info, warning and error messages to the log collection point"
   ]
  }
 ],
 "metadata": {
  "kernelspec": {
   "display_name": "Python 3",
   "language": "python",
   "name": "python3"
  },
  "language_info": {
   "codemirror_mode": {
    "name": "ipython",
    "version": 3
   },
   "file_extension": ".py",
   "mimetype": "text/x-python",
   "name": "python",
   "nbconvert_exporter": "python",
   "pygments_lexer": "ipython3",
   "version": "3.7.4"
  }
 },
 "nbformat": 4,
 "nbformat_minor": 2
}
