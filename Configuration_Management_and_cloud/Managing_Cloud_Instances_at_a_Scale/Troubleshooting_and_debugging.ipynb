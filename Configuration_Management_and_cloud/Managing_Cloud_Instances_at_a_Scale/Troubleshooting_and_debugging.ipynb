{
 "cells": [
  {
   "cell_type": "markdown",
   "metadata": {},
   "source": [
    "## What to Do When You Can't Be Physically There\n",
    "\n",
    "After the latest upgrade, a bunch of your cloud VMs have stopped booting. Something went wrong, but you don't know exactly what. You can't connect to the instances or boot them in rescue mode, so what can you do? There's a bunch of options, **if you're following the infrastructure as code practices that we've talked about. You could deploy new VMs with the previous version of the system**, this would help us get back to a healthy state as quickly as possible. **On top of this, you want to understand the problem and how to fix it. To do that, you can create a snapshot of the disk image for one of the failing VMs. And then mount that disk image on a healthy machine. That way you can analyze the contents of the image and figure out what's causing the failures**. And it's not always easy to know which piece of the system is causing a failure. \n",
    "\n",
    "**Setting up a testing environment might take time and effort. So it's a good idea to do this in advance before any problem actually happens**. \n",
    "\n",
    "\n",
    "**You might remember from the troubleshooting and debugging course, that understanding logs is super important for being able to solve problems in IT**.\n",
    "\n",
    "When you run your service in the cloud, you need to learn where to find the logs. That the provider keeps and what info is available in which logs. Some cloud providers offer centralized log solutions to collect all your logs in one place. You can have all your notes, send info, warning and error messages to the log collection point"
   ]
  },
  {
   "cell_type": "markdown",
   "metadata": {},
   "source": [
    "## Identifying Where the Failure Is Coming From\n",
    "\n",
    "This could help out, for example, if your service takes too much time to process incoming requests. By changing your service to more powerful machines, you might improve the overall performance. Another option that we've mentioned a bunch is doing rollbacks for the pieces that have recently changed. Having all your infrastructure stored as code in a version control system will let you access the history of the changes to each component in the system. \n",
    "\n",
    "we touched briefly upon one popular option when running things on the cloud called containers. **Containers are packaged applications that are shipped together with their libraries and dependencies**. Each application is executed in a separate container, completely independent of any other applications running on the same machine. Now, one of the neat characteristics of containerized applications is that you can deploy the same container to your local workstation to a server running on-premise or to cloud infrastructure provided by different vendors. \n",
    "\n",
    "**This can be really helpful when trying to understand if the failure is in the code or the infrastructure.** You simply deploy the container somewhere else and check if it behaves the same way. When using containers, the typical architecture is to have a lot of small containers that take care of different parts of the service. This means that the overall system can get really complex and when something breaks, it can be hard to identify where the problem is coming from. The key to solving problems in the container world is to make sure you have good logs coming in from all of the parts of the system. \n",
    "\n",
    "\n",
    "## Recovering from Failure\n",
    "\n",
    "We'll need to have good backups and a well-documented recovery plan. Backups here doesn't mean just copies of your data. **It also means backups for the different pieces of your infrastructure, including the instances that are running the service and the network that's used to connect to the service. Backups of the data your service handles are extremely important**. If you operate a service that stores any kind of data, it's critical that you implement automatic backups and that you periodically check that those backups are working correctly by performing restores.\n",
    "\n",
    "But if your service goes down for some reason, deploying all that infrastructure from scratch might take awhile. That's why many teams keep backup or a secondary instances of their services already up and running. That way, if there's a problem with the primary instance, they can simply point the load balancer or the DNS entries to the secondary instance with minimal disruption to the service.\n",
    "\n",
    "**if the connection offered by one of your ISPs goes down, you can still connect to the Internet through the other one. When you're running on Cloud, you can mostly rely on your Cloud provider having enough network redundancy**. But if you really care about your service staying up no matter what, you might want to run your service on two different Cloud vendors so that if one of the providers has a large outage, you can still rely on the other.\n",
    "\n",
    "## Reading: Debugging Problems on the Cloud\n",
    "Check out the following links for more information:\n",
    "\n",
    "- https://cloud.google.com/compute/docs/troubleshooting/troubleshooting-instances\n",
    "- https://docs.microsoft.com/en-us/azure/virtual-machines/troubleshooting/\n",
    "- https://docs.aws.amazon.com/AWSEC2/latest/UserGuide/ec2-instance-troubleshoot.htm\n"
   ]
  }
 ],
 "metadata": {
  "kernelspec": {
   "display_name": "Python 3",
   "language": "python",
   "name": "python3"
  },
  "language_info": {
   "codemirror_mode": {
    "name": "ipython",
    "version": 3
   },
   "file_extension": ".py",
   "mimetype": "text/x-python",
   "name": "python",
   "nbconvert_exporter": "python",
   "pygments_lexer": "ipython3",
   "version": "3.7.4"
  }
 },
 "nbformat": 4,
 "nbformat_minor": 2
}
