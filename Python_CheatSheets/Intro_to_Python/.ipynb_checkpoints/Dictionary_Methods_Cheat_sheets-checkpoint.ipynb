{
 "cells": [
  {
   "cell_type": "markdown",
   "metadata": {},
   "source": [
    "# Dictionary Methods Cheat Sheet\n",
    "\n",
    "## Definition\n",
    "\n",
    "x = {key1:value1, key2:value2}\n",
    "\n",
    "## Operations\n",
    "\n",
    "- len(dictionary) - Returns the number of items in the dictionary\n",
    "- for key in dictionary - Iterates over each key in the dictionary\n",
    "- for key, value in dictionary.items() - Iterates over each key,value pair in the dictionary\n",
    "- if key in dictionary - Checks whether the key is in the dictionary\n",
    "- dictionary[key] - Accesses the item with key key of the dictionary\n",
    "- dictionary[key] = value - Sets the value associated with key\n",
    "- del dictionary[key] - Removes the item with key key from the dictionary\n",
    "\n",
    "## Methods\n",
    "\n",
    "- dict.get(key, default) - Returns the element corresponding to key, or default if it's not present\n",
    "- dict.keys() - Returns a sequence containing the keys in the dictionary\n",
    "- dict.values() - Returns a sequence containing the values in the dictionary\n",
    "- dict.update(other_dictionary) - Updates the dictionary with the items coming from the other dictionary. Existing entries will be replaced; new entries will be added.\n",
    "- dict.clear() - Removes all the items of the dictionary\n",
    "\n",
    "Check out the official documentation for dictionary operations and methods."
   ]
  },
  {
   "cell_type": "code",
   "execution_count": null,
   "metadata": {},
   "outputs": [],
   "source": []
  }
 ],
 "metadata": {
  "kernelspec": {
   "display_name": "Python 3",
   "language": "python",
   "name": "python3"
  },
  "language_info": {
   "codemirror_mode": {
    "name": "ipython",
    "version": 3
   },
   "file_extension": ".py",
   "mimetype": "text/x-python",
   "name": "python",
   "nbconvert_exporter": "python",
   "pygments_lexer": "ipython3",
   "version": "3.7.4"
  }
 },
 "nbformat": 4,
 "nbformat_minor": 2
}
