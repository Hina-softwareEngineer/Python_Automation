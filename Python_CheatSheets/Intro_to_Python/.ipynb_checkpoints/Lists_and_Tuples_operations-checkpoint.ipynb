{
 "cells": [
  {
   "cell_type": "markdown",
   "metadata": {},
   "source": [
    "# Lists and Tuples Operations Cheat Sheet\n",
    "\n",
    "Lists and tuples are both sequences, so they share a number of sequence operations. But, because lists are mutable, there are also a number of methods specific just to lists. This cheat sheet gives you a run down of the common operations first, and the list-specific operations second.\n",
    "\n",
    "## Common sequence operations\n",
    "\n",
    "- len(sequence) Returns the length of the sequence\n",
    "- for element in sequence Iterates over each element in the sequence\n",
    "- if element in sequence Checks whether the element is part of the sequence\n",
    "- sequence[i] Accesses the element at index i of the sequence, starting at zero\n",
    "- sequence[i:j] Accesses a slice starting at index i, ending at index j-1. If i is omitted, it's 0 by default. If j is omitted, it's len(sequence) by default.\n",
    "- for index, element in enumerate(sequence) Iterates over both the indexes and the elements in the sequence at the same time\n",
    "\n",
    "\n",
    "Check out the official documentation for sequence operations.\n",
    "\n",
    "## List-specific operations and methods\n",
    "\n",
    "- list[i] = x Replaces the element at index i with x\n",
    "- list.append(x) Inserts x at the end of the list\n",
    "- list.insert(i, x) Inserts x at index i\n",
    "- list.pop(i) Returns the element a index i, also removing it from the list. If i is omitted, the last element is returned and removed.\n",
    "- list.remove(x) Removes the first occurrence of x in the list\n",
    "- list.sort() Sorts the items in the list\n",
    "- list.reverse() Reverses the order of items of the list\n",
    "- list.clear() Removes all the items of the list\n",
    "- list.copy() Creates a copy of the list\n",
    "- list.extend(other_list) Appends all the elements of other_list at the end of list\n",
    "\n",
    "\n",
    "Most of these methods come from the fact that lists are mutable sequences. For more info, see the official documentation for mutable sequences and the list specific documentation.\n",
    "\n",
    "## List comprehension\n",
    "- [expression for variable in sequence] Creates a new list based on the given sequence. Each element is the result of the given expression.\n",
    "- [expression for variable in sequence if condition] Creates a new list based on the given sequence. Each element is the result of the given expression; elements only get added if the condition is true."
   ]
  },
  {
   "cell_type": "code",
   "execution_count": null,
   "metadata": {},
   "outputs": [],
   "source": []
  }
 ],
 "metadata": {
  "kernelspec": {
   "display_name": "Python 3",
   "language": "python",
   "name": "python3"
  },
  "language_info": {
   "codemirror_mode": {
    "name": "ipython",
    "version": 3
   },
   "file_extension": ".py",
   "mimetype": "text/x-python",
   "name": "python",
   "nbconvert_exporter": "python",
   "pygments_lexer": "ipython3",
   "version": "3.7.4"
  }
 },
 "nbformat": 4,
 "nbformat_minor": 2
}
