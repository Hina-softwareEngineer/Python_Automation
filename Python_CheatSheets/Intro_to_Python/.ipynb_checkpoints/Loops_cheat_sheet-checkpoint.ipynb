{
 "cells": [
  {
   "cell_type": "markdown",
   "metadata": {},
   "source": [
    "# Loops Cheat Sheet\n",
    "Check out below for a run down of the syntax for while loops and for loops.\n",
    "\n",
    "## While Loops\n",
    "A while loop executes the body of the loop while the condition remains True.\n",
    "\n",
    "##### Syntax:\n",
    "\n",
    "while condition:\n",
    "    body\n",
    "    \n",
    "> Things to watch out for!\n",
    "\n",
    "Failure to initialize variables. Make sure all the variables used in the loop’s condition  are initialized before the loop.\n",
    "\n",
    "Unintended infinite loops. Make sure that the body of the loop modifies the variables used in the condition, so that the loop will eventually end for all possible values of the variables.\n",
    "Typical use:\n",
    "\n",
    "While loops are mostly used when there’s an unknown number of operations to be performed, and a condition needs to be checked at each iteration.\n",
    "\n",
    "## For Loops\n",
    "A for loop iterates over a sequence of elements, executing the body of the loop for each element in the sequence.\n",
    "\n",
    "#### Syntax:\n",
    "\n",
    "for variable in sequence\n",
    "    body\n",
    "    \n",
    "### The range() function:\n",
    "\n",
    "range() generates a sequence of integer numbers. It can take one, two, or three parameters:\n",
    "\n",
    "- range(n): 0, 1, 2, ... n-1\n",
    "- range(x,y): x, x+1, x+2, ... y-1\n",
    "- range(p,q,r): p, p+r, p+2r, p+3r, ... q-1 (if it's a valid increment)\n",
    "\n",
    "##### Common pitfalls:\n",
    "\n",
    "- Forgetting that the upper limit of a range() isn’t included.\n",
    "- Iterating over non-sequences. Integer numbers aren’t iterable. Strings are iterable letter by letter, but that might not be what you want.\n",
    "\n",
    "\n",
    "**Typical use:**\n",
    "\n",
    "For loops are mostly used when there's a pre-defined sequence or range of numbers to iterate.\n",
    "\n",
    "**Break & Continue**\n",
    "You can interrupt both while and for loops using the break keyword. We normally do this to interrupt a cycle due to a separate condition.\n",
    "\n",
    "You can use the continue keyword to skip the current iteration and continue with the next one. This is typically used to jump ahead when some of the elements of the sequence aren’t relevant.\n",
    "\n",
    "If you want to learn more, check out this wiki page on for loops."
   ]
  },
  {
   "cell_type": "markdown",
   "metadata": {},
   "source": [
    "## Additional Recursion Sources\n",
    "\n",
    "In the past videos, we visited the basic concepts of recursive functions.\n",
    "\n",
    "A **recursive** function must include a recursive case and base case. The recursive case calls the function again, with a different value. The base case returns a value without calling the same function.\n",
    "\n",
    "A recursive function will usually have this structure:\n",
    "```    \n",
    "    def recursive_function(parameters):\n",
    "    if base_case_condition(parameters):\n",
    "        return base_case_value\n",
    "    recursive_function(modified_parameters)\n",
    "```    \n",
    "For more information on recursion, check out these resources:\n",
    "\n",
    "- Wikipedia Recursion page\n",
    "- See what happens when you Search Google for Recursion\n"
   ]
  },
  {
   "cell_type": "code",
   "execution_count": null,
   "metadata": {},
   "outputs": [],
   "source": []
  }
 ],
 "metadata": {
  "kernelspec": {
   "display_name": "Python 3",
   "language": "python",
   "name": "python3"
  },
  "language_info": {
   "codemirror_mode": {
    "name": "ipython",
    "version": 3
   },
   "file_extension": ".py",
   "mimetype": "text/x-python",
   "name": "python",
   "nbconvert_exporter": "python",
   "pygments_lexer": "ipython3",
   "version": "3.7.4"
  }
 },
 "nbformat": 4,
 "nbformat_minor": 2
}
