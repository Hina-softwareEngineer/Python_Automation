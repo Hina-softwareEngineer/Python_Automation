{
 "cells": [
  {
   "cell_type": "markdown",
   "metadata": {},
   "source": [
    "We can create and define our classes in Python similar to how we define functions. We start with the class keyword, followed by the name of our class and a colon. Python style guidelines recommend class names to start with a capital letter. After the class definition line is the class body, indented to the right. Inside the class body, we can define attributes for the class.\n",
    "\n",
    "Let's take our Apple class example:\n",
    "\n",
    "```\n",
    "     class Apple:\n",
    "     color = \"\"\n",
    "     flavor = \"\"\n",
    "```\n",
    "\n",
    "We can create a new instance of our new class by assigning it to a variable. This is done by calling the class name as if it were a function. We can set the attributes of our class instance by accessing them using dot notation. Dot notation can be used to set or retrieve object attributes, as well as call methods associated with the class.\n",
    "\n",
    "```\n",
    "    jonagold = Apple()\n",
    "    jonagold.color = \"red\"\n",
    "    jonagold.flavor = \"sweet\"\n",
    "```\n",
    "\n",
    "We created an Apple instance called jonagold, and set the color and flavor attributes for this Apple object. We can create another instance of an Apple and set different attributes to differentiate between two different varieties of apples.\n",
    "\n",
    "```\n",
    "    olden = Apple()\n",
    "    golden.color = \"Yellow\"\n",
    "    golden.flavor = \"Soft\"\n",
    "\n",
    "```\n",
    "\n",
    "We now have another Apple object called golden that also has color and flavor attributes. But these attributes have different values.\n",
    "\n"
   ]
  },
  {
   "cell_type": "code",
   "execution_count": null,
   "metadata": {},
   "outputs": [],
   "source": []
  }
 ],
 "metadata": {
  "kernelspec": {
   "display_name": "Python 3",
   "language": "python",
   "name": "python3"
  },
  "language_info": {
   "codemirror_mode": {
    "name": "ipython",
    "version": 3
   },
   "file_extension": ".py",
   "mimetype": "text/x-python",
   "name": "python",
   "nbconvert_exporter": "python",
   "pygments_lexer": "ipython3",
   "version": "3.7.4"
  }
 },
 "nbformat": 4,
 "nbformat_minor": 2
}
