{
 "cells": [
  {
   "cell_type": "markdown",
   "metadata": {},
   "source": [
    "# String Reference Cheat Sheet\n",
    "\n",
    "In Python, there are a lot of things you can do with strings. In this cheat sheet, you’ll find the most common string operations and string methods.\n",
    "\n",
    "## String operations\n",
    "- len(string) Returns the length of the string\n",
    "- for character in string Iterates over each character in the string\n",
    "- if substring in string Checks whether the substring is part of the string\n",
    "- string[i] Accesses the character at index i of the string, starting at zero\n",
    "- string[i:j] Accesses the substring starting at index i, ending at index j-1. If i is omitted, it's 0 by default. If j is omitted, it's len(string) by default.\n",
    "## String methods\n",
    "\n",
    "- string.lower() / string.upper() Returns a copy of the string with all lower / upper case characters\n",
    "- string.lstrip() / string.rstrip() / string.strip() Returns a copy of the string without left / right / left or right whitespace\n",
    "- string.count(substring) Returns the number of times substring is present in the string\n",
    "- string.isnumeric() Returns True if there are only numeric characters in the string. If not, returns False.\n",
    "- string.isalpha() Returns True if there are only alphabetic characters in the string. If not, returns False.\n",
    "- string.split() / string.split(delimiter) Returns a list of substrings that were separated by whitespace / delimiter\n",
    "- string.replace(old, new) Returns a new string where all occurrences of old have been replaced by new.\n",
    "- delimiter.join(list of strings) Returns a new string with all the strings joined by the delimiter\n",
    "\n",
    "\n",
    "Check out the official documentation for all available String methods."
   ]
  },
  {
   "cell_type": "code",
   "execution_count": null,
   "metadata": {},
   "outputs": [],
   "source": []
  }
 ],
 "metadata": {
  "kernelspec": {
   "display_name": "Python 3",
   "language": "python",
   "name": "python3"
  },
  "language_info": {
   "codemirror_mode": {
    "name": "ipython",
    "version": 3
   },
   "file_extension": ".py",
   "mimetype": "text/x-python",
   "name": "python",
   "nbconvert_exporter": "python",
   "pygments_lexer": "ipython3",
   "version": "3.7.4"
  }
 },
 "nbformat": 4,
 "nbformat_minor": 2
}
