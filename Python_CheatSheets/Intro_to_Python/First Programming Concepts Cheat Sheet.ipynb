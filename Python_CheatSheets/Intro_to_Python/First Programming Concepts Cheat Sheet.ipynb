{
 "cells": [
  {
   "cell_type": "markdown",
   "metadata": {},
   "source": [
    "# First Progarmming Concepts Cheat Sheet"
   ]
  },
  {
   "cell_type": "markdown",
   "metadata": {},
   "source": [
    "## Functions and Keywords\n",
    "Functions and keywords are the building blocks of a language’s syntax.\n",
    "\n",
    "**Functions** are pieces of code that perform a unit of work. In the examples we've seen so far, we've only encountered the print() function, which prints a message to the screen. We'll learn about a lot of other functions in later lessons but, if you're too curious to wait until then, you can discover all the functions available here.\n",
    "\n",
    "**Keywords** are reserved words that are used to construct instructions. We briefly encountered for and in in our first Python example, and we'll use a bunch of other keywords as we go through the course. For reference, these are all the reserved keywords:\n",
    "\n",
    "- False\tclass\tfinally\t   is\treturn\n",
    "- None\tcontinue\tfor \tlambda\t try\n",
    "- True\tdef\t   from\t  nonlocal\twhile\n",
    "- and\t del\tglobal\t not\t with\n",
    "- as\telif\tif\tor\tyield\n",
    "- assert\telse\timport\tpass\t\n",
    "- break\texcept\tin\traise\n",
    "\n",
    "You don't need to learn this list; we'll dive into each keyword as we encounter them. In the meantime, you can see examples of keyword usage here.\n",
    "\n",
    "**Arithmetic operators**\n",
    "Python can operate with numbers using the usual mathematical operators, and some special operators, too. These are all of them (we'll explore the last two in later videos).\n",
    "\n",
    "- a + b = Adds a and b\n",
    "- a - b = Subtracts b from a\n",
    "- a * b = Multiplies a and b\n",
    "- a / b = Divides a by b\n",
    "- a ** b = Elevates a to the power of b. For non integer values of b, this becomes a root (i.e. a**(1/2) is the square root of a)\n",
    "- a // b = The integer part of the integer division of a by b\n",
    "- a % b = The remainder part of the integer division of a by b\n"
   ]
  },
  {
   "cell_type": "code",
   "execution_count": null,
   "metadata": {},
   "outputs": [],
   "source": []
  }
 ],
 "metadata": {
  "kernelspec": {
   "display_name": "Python 3",
   "language": "python",
   "name": "python3"
  },
  "language_info": {
   "codemirror_mode": {
    "name": "ipython",
    "version": 3
   },
   "file_extension": ".py",
   "mimetype": "text/x-python",
   "name": "python",
   "nbconvert_exporter": "python",
   "pygments_lexer": "ipython3",
   "version": "3.7.4"
  }
 },
 "nbformat": 4,
 "nbformat_minor": 2
}
