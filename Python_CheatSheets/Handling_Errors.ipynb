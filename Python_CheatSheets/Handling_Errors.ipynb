{
 "cells": [
  {
   "cell_type": "markdown",
   "metadata": {},
   "source": [
    "Raise allows you to throw an exception at any time.\n",
    "\n",
    "- https://docs.python.org/3/tutorial/errors.html#raising-exceptions\n",
    "\n",
    "\n",
    "Assert enables you to verify if a certain condition is met and throw an exception if it isn’t.\n",
    "\n",
    "- https://docs.python.org/3/reference/simple_stmts.html#the-assert-statementhttps://stackoverflow.com/questions/5142418/what-is-the-use-of-assert-in-python\n",
    "\n",
    "\n",
    "The standard library documentation is kind of unclear. Basically `assert <something false>` will raise AssertionError, which the caller may need to handle.\n",
    "\n",
    "In the try clause, all statements are executed until an exception is encountered.\n",
    "\n",
    "- https://docs.python.org/3/tutorial/errors.html#handling-exceptions\n",
    "\n",
    "\n",
    "Except is used to catch and handle the exception(s) that are encountered in the try clause.\n",
    "\n",
    "- https://docs.python.org/3/library/exceptions.html#bltin-exceptions\n",
    "\n",
    "\n",
    "Other interesting Exception handling readings:\n",
    "\n",
    "https://doughellmann.com/blog/2009/06/19/python-exception-handling-techniques/"
   ]
  },
  {
   "cell_type": "code",
   "execution_count": null,
   "metadata": {},
   "outputs": [],
   "source": []
  }
 ],
 "metadata": {
  "kernelspec": {
   "display_name": "Python 3",
   "language": "python",
   "name": "python3"
  },
  "language_info": {
   "codemirror_mode": {
    "name": "ipython",
    "version": 3
   },
   "file_extension": ".py",
   "mimetype": "text/x-python",
   "name": "python",
   "nbconvert_exporter": "python",
   "pygments_lexer": "ipython3",
   "version": "3.7.4"
  }
 },
 "nbformat": 4,
 "nbformat_minor": 2
}
