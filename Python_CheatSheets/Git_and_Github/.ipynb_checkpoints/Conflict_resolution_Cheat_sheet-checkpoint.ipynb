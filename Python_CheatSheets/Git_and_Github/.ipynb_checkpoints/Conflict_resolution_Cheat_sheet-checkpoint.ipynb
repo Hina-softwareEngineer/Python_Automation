{
 "cells": [
  {
   "cell_type": "markdown",
   "metadata": {},
   "source": [
    "Merge conflicts are not uncommon when working in a team of developers, or on Open Source Software. Fortunately, GitHub has some good documentation on how to handle them when they happen:\n",
    "\n",
    "- https://help.github.com/en/github/collaborating-with-issues-and-pull-requests/about-merge-conflicts\n",
    "- https://help.github.com/en/github/collaborating-with-issues-and-pull-requests/resolving-a-merge-conflict-using-the-command-line\n",
    "\n",
    "You can also use git rebase branchname to change the base of the current branch to be branchname\n",
    "\n",
    "The git rebase command is a lot more powerful.  Check out this link for more information."
   ]
  },
  {
   "cell_type": "code",
   "execution_count": null,
   "metadata": {},
   "outputs": [],
   "source": []
  }
 ],
 "metadata": {
  "kernelspec": {
   "display_name": "Python 3",
   "language": "python",
   "name": "python3"
  },
  "language_info": {
   "codemirror_mode": {
    "name": "ipython",
    "version": 3
   },
   "file_extension": ".py",
   "mimetype": "text/x-python",
   "name": "python",
   "nbconvert_exporter": "python",
   "pygments_lexer": "ipython3",
   "version": "3.7.4"
  }
 },
 "nbformat": 4,
 "nbformat_minor": 2
}
