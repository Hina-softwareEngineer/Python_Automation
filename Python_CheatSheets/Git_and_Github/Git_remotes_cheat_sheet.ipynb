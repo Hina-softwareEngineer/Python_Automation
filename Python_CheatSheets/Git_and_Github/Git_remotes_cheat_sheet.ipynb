{
 "cells": [
  {
   "cell_type": "markdown",
   "metadata": {},
   "source": [
    "|         Command        \t|                                      Explanation & Links                                     \t|\n",
    "|:----------------------:\t|:--------------------------------------------------------------------------------------------:\t|\n",
    "|       git remote       \t|                                      Lists remote repos                                      \t|\n",
    "|      git remote -v     \t|                                  List remote repos verbously                                 \t|\n",
    "| git remote show <name> \t|                                Describes a single remote repo                                \t|\n",
    "| git remote update      \t| Fetches the most up-to-date objects                                                          \t|\n",
    "| git fetch              \t| Downloads specific objects                                                                   \t|\n",
    "| git branch -r          \t| Lists remote branches; can be combined with other branch arguments to manage remote branches \t|\n",
    "    \n",
    "    "
   ]
  },
  {
   "cell_type": "code",
   "execution_count": null,
   "metadata": {},
   "outputs": [],
   "source": []
  }
 ],
 "metadata": {
  "kernelspec": {
   "display_name": "Python 3",
   "language": "python",
   "name": "python3"
  },
  "language_info": {
   "codemirror_mode": {
    "name": "ipython",
    "version": 3
   },
   "file_extension": ".py",
   "mimetype": "text/x-python",
   "name": "python",
   "nbconvert_exporter": "python",
   "pygments_lexer": "ipython3",
   "version": "3.7.4"
  }
 },
 "nbformat": 4,
 "nbformat_minor": 2
}
