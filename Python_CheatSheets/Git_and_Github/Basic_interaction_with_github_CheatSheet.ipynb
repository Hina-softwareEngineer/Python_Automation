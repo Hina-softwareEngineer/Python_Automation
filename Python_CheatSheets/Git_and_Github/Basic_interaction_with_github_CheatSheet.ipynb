{
 "cells": [
  {
   "cell_type": "markdown",
   "metadata": {},
   "source": [
    "There are various remote repository hosting sites:\n",
    "\n",
    "- GitHub\n",
    "- BitBucket\n",
    "- Gitlab.\n",
    "\n",
    "Follow the workflow at https://github.com/join to set up a free account, username, and password. After that, [these steps](https://help.github.com/en/github/getting-started-with-github/create-a-repo) will help you create a brand new repository on GitHub.\n",
    "\n",
    "\n",
    "Some useful commands for getting started:\n",
    "\n",
    "\n",
    "|    Command    \t|                           Explanation & Link                           \t|\n",
    "|:-------------:\t|:----------------------------------------------------------------------:\t|\n",
    "| git clone URL \t|  Git clone is used to clone a remote repository into a local workspace \t|\n",
    "|    git push   \t| Git push is used to push commits from your local repo to a remote repo \t|\n",
    "|    git pull   \t|  Git pull is used to fetch the newest updates from a remote repository \t|\n",
    "\n",
    "\n",
    "This can be useful for keeping your local workspace up to date.\n",
    "\n",
    "- https://help.github.com/en/articles/caching-your-github-password-in-git\n",
    "- https://help.github.com/en/articles/generating-an-ssh-key  "
   ]
  },
  {
   "cell_type": "code",
   "execution_count": null,
   "metadata": {},
   "outputs": [],
   "source": []
  }
 ],
 "metadata": {
  "kernelspec": {
   "display_name": "Python 3",
   "language": "python",
   "name": "python3"
  },
  "language_info": {
   "codemirror_mode": {
    "name": "ipython",
    "version": 3
   },
   "file_extension": ".py",
   "mimetype": "text/x-python",
   "name": "python",
   "nbconvert_exporter": "python",
   "pygments_lexer": "ipython3",
   "version": "3.7.4"
  }
 },
 "nbformat": 4,
 "nbformat_minor": 2
}
