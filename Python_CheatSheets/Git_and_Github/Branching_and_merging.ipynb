{
 "cells": [
  {
   "cell_type": "markdown",
   "metadata": {},
   "source": [
    "|          Command          \t|                                               Explanation & Link                                              \t|\n",
    "|:-------------------------:\t|:-------------------------------------------------------------------------------------------------------------:\t|\n",
    "|         git branch        \t|                                            Used to manage branches                                            \t|\n",
    "|     git branch <name>     \t|                                               Creates the branch                                              \t|\n",
    "|    git branch -d <name>   \t|                                               Deletes the branch                                              \t|\n",
    "|    git branch -D <name>   \t|                                          Forcibly deletes the branch                                          \t|\n",
    "|   git checkout <branch>   \t|                                             Switches to a branch.                                             \t|\n",
    "|  git checkout -b <branch> \t|                                    Creates a new branch and switches to it.                                   \t|\n",
    "|     git merge <branch>    \t|                                         Merge joins branches together.                                        \t|\n",
    "|     git merge --abort     \t| If there are merge conflicts (meaning files are incompatible), --abort can be used to abort the merge action. \t|\n",
    "| git log --graph --oneline \t| This shows a summarized view of the commit history for a repo.                                                \t|"
   ]
  },
  {
   "cell_type": "code",
   "execution_count": null,
   "metadata": {},
   "outputs": [],
   "source": []
  }
 ],
 "metadata": {
  "kernelspec": {
   "display_name": "Python 3",
   "language": "python",
   "name": "python3"
  },
  "language_info": {
   "codemirror_mode": {
    "name": "ipython",
    "version": 3
   },
   "file_extension": ".py",
   "mimetype": "text/x-python",
   "name": "python",
   "nbconvert_exporter": "python",
   "pygments_lexer": "ipython3",
   "version": "3.7.4"
  }
 },
 "nbformat": 4,
 "nbformat_minor": 2
}
