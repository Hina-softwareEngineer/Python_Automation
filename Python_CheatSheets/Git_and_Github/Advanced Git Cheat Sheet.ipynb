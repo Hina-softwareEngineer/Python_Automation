{
 "cells": [
  {
   "cell_type": "markdown",
   "metadata": {},
   "source": [
    "|      Command      \t|                                    Explanation & Link                                   \t|\n",
    "|:-----------------:\t|:---------------------------------------------------------------------------------------:\t|\n",
    "|   git commit -a   \t|                                Stages files automatically                               \t|\n",
    "|     git log -p    \t|                                   Produces patch text                                   \t|\n",
    "|      git show     \t|                                  Shows various objects                                  \t|\n",
    "|      git diff     \t| Is similar to the Linux `diff` command, and can show the differences in various commits \t|\n",
    "| git diff --staged \t|    An alias to --cached, this will show all staged files compared to the named commit   \t|\n",
    "|     git add -p    \t|        Allows a user to interactively review patches to add to the current commit       \t|\n",
    "|       git mv      \t|                   Similar to the Linux `mv` command, this moves a file                  \t|\n",
    "|       git rm      \t|            Similar to the Linux `rm` command, this deletes, or removes a file           \t|\n",
    "\n",
    "\n",
    "There are many useful git cheatsheets online as well. Please take some time to research and study a few, such as [this one](https://github.github.com/training-kit/downloads/github-git-cheat-sheet.pdf).\n",
    "\n",
    ".gitignore files\n",
    ".gitignore files are used to tell the git tool to intentionally ignore some files in a given Git repository. For example, this can be useful for configuration files or metadata files that a user may not want to check into the master branch. Check out more at: https://git-scm.com/docs/gitignore.\n",
    "\n",
    "A few common examples of file patterns to exclude can be found [here](https://gist.github.com/octocat/9257657)."
   ]
  },
  {
   "cell_type": "code",
   "execution_count": null,
   "metadata": {},
   "outputs": [],
   "source": []
  }
 ],
 "metadata": {
  "kernelspec": {
   "display_name": "Python 3",
   "language": "python",
   "name": "python3"
  },
  "language_info": {
   "codemirror_mode": {
    "name": "ipython",
    "version": 3
   },
   "file_extension": ".py",
   "mimetype": "text/x-python",
   "name": "python",
   "nbconvert_exporter": "python",
   "pygments_lexer": "ipython3",
   "version": "3.7.4"
  }
 },
 "nbformat": 4,
 "nbformat_minor": 2
}
