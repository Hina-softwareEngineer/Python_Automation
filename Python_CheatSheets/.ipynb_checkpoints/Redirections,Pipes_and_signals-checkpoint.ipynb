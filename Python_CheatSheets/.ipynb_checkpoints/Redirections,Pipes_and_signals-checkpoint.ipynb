{
 "cells": [
  {
   "cell_type": "markdown",
   "metadata": {},
   "source": [
    "These are the redirectors that we can use to take control of the streams of our programs\n",
    "\n",
    "- command > file: redirects standard output, overwrites file\n",
    "- command >> file: redirects standard output, appends to file\n",
    "- command < file: redirects standard input from file\n",
    "- command 2> file: redirects standard error to file\n",
    "- command1 | command2: connects the output of command1 to the input of command2\n",
    "\n",
    "**Operating with processes**\n",
    "\n",
    "These are some commands that are useful to know in Linux when interacting with processes. Not all of them are explained in videos, so feel free to investigate them on your own.\n",
    "\n",
    "- ps: lists the processes executing in the current terminal for the current user\n",
    "- ps ax: lists all processes currently executing for all users\n",
    "- ps e: shows the environment for the processes listed\n",
    "- kill PID: sends the SIGINT signal to the process identified by PID\n",
    "- fg: causes a job that was stopped or in the background to return to the foreground\n",
    "- bg: causes a job that was stopped to go to the background\n",
    "- jobs: lists the jobs currently running or stopped\n",
    "- top: shows the processes currently using the most CPU time (press \"q\" to quit)"
   ]
  },
  {
   "cell_type": "code",
   "execution_count": null,
   "metadata": {},
   "outputs": [],
   "source": []
  }
 ],
 "metadata": {
  "kernelspec": {
   "display_name": "Python 3",
   "language": "python",
   "name": "python3"
  },
  "language_info": {
   "codemirror_mode": {
    "name": "ipython",
    "version": 3
   },
   "file_extension": ".py",
   "mimetype": "text/x-python",
   "name": "python",
   "nbconvert_exporter": "python",
   "pygments_lexer": "ipython3",
   "version": "3.7.4"
  }
 },
 "nbformat": 4,
 "nbformat_minor": 2
}
