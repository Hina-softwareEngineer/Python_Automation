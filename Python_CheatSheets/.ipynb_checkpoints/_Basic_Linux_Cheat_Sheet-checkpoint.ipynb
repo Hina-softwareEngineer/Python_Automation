{
 "cells": [
  {
   "cell_type": "markdown",
   "metadata": {},
   "source": [
    "This list includes a bunch of different commands that are useful to know when working with Linux. Not all of these commands are covered in the videos, so feel free to investigate them on your own.\n",
    "\n",
    "## Managing files and directories\n",
    "\n",
    "- cd directory: changes the current working directory to the specified one\n",
    "- pwd: prints the current working directory\n",
    "- ls: lists the contents of the current directory\n",
    "- ls directory: lists the contents of the received directory\n",
    "- ls -l: lists the additional information for the contents of the directory\n",
    "- ls -a: lists all files, including those hidden\n",
    "- ls -la: applies both the -l and the -a flags\n",
    "- mkdir directory: creates the directory with the received name\n",
    "- rmdir directory: deletes the directory with the received name (if empty)\n",
    "- cp old_name new_name: copies old_name into new_name\n",
    "- mv old_name new_name: moves old_name into new_name\n",
    "- touch file_name: creates an empty file or updates the modified time if it exists\n",
    "- chmod modifiers files: changes the permissions for the files according to the provided modifiers; we've seen +x to make the file executable\n",
    "- chown user files: changes the owner of the files to the given user\n",
    "- chgrp group files: changes the group of the files to the given group\n",
    "\n",
    "## Operating with the content of files\n",
    "\n",
    "- cat file: shows the content of the file through standard output\n",
    "- wc file: counts the amount of characters, words, and lines in the given file; can also count the same values of whatever it receives via stdin\n",
    "- file file: prints the type of the given file, as recognized by the operating system\n",
    "- head file: shows the first 10 lines of the given file\n",
    "- tail file: shows the last 10 lines of the given file\n",
    "- less file: scrolls through the contents of the given file (press \"q\" to quit)\n",
    "- sort file: sorts the lines of the file alphabetically\n",
    "- cut -dseparator -ffields file: for each line in the given file, splits the line according to the given separator and prints the given fields (starting from 1)\n",
    "\n",
    "## Additional commands\n",
    "\n",
    "- echo \"message\": prints the message to standard output\n",
    "- date: prints the current date\n",
    "- who: prints the list of users currently logged into the computer\n",
    "- man command: shows the manual page of the given command; manual pages contain a lot of information explaining how to use each command (press \"q\" to quit)\n",
    "- uptime: shows how long the computer has been running\n",
    "- free: shows the amount of unused memory on the current system\n"
   ]
  },
  {
   "cell_type": "code",
   "execution_count": null,
   "metadata": {},
   "outputs": [],
   "source": []
  }
 ],
 "metadata": {
  "kernelspec": {
   "display_name": "Python 3",
   "language": "python",
   "name": "python3"
  },
  "language_info": {
   "codemirror_mode": {
    "name": "ipython",
    "version": 3
   },
   "file_extension": ".py",
   "mimetype": "text/x-python",
   "name": "python",
   "nbconvert_exporter": "python",
   "pygments_lexer": "ipython3",
   "version": "3.7.4"
  }
 },
 "nbformat": 4,
 "nbformat_minor": 2
}
