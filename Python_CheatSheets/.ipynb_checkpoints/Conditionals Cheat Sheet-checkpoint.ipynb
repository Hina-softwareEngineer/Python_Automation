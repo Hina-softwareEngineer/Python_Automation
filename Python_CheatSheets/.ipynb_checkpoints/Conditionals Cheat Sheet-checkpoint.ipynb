{
 "cells": [
  {
   "cell_type": "markdown",
   "metadata": {},
   "source": [
    "## Conditionals Cheat Sheet"
   ]
  },
  {
   "cell_type": "markdown",
   "metadata": {},
   "source": [
    "**Comparison operators**\n",
    "\n",
    "- a == b: a is equal to b\n",
    "- a != b: a is different than b\n",
    "- a < b: a is smaller than b\n",
    "- a <= b: a is smaller or equal to b\n",
    "- a > b: a is bigger than b\n",
    "- a >= b: a is bigger or equal to b\n",
    "\n",
    "**Logical operators**\n",
    "\n",
    "- a and b: True if both a and b are True. False otherwise.\n",
    "- a or b: True if either a or b or both are True. False if both are False.\n",
    "- not a: True if a is False, False if a is True.\n",
    "\n",
    "**Branching blocks**\n",
    "\n",
    "In Python, we branch our code using if, else and elif. This is the branching syntax:\n",
    "\n",
    ">`if condition1:\n",
    "\tif-block\n",
    "elif condition2:\n",
    "\telif-block\n",
    "else:\n",
    "\telse-block`\n",
    "    \n",
    "Remember: The if-block will be executed if condition1 is True. The elif-block will be executed if condition1 is False and condition2 is True. The else block will be executed when all the specified conditions are false."
   ]
  },
  {
   "cell_type": "code",
   "execution_count": null,
   "metadata": {},
   "outputs": [],
   "source": []
  }
 ],
 "metadata": {
  "kernelspec": {
   "display_name": "Python 3",
   "language": "python",
   "name": "python3"
  },
  "language_info": {
   "codemirror_mode": {
    "name": "ipython",
    "version": 3
   },
   "file_extension": ".py",
   "mimetype": "text/x-python",
   "name": "python",
   "nbconvert_exporter": "python",
   "pygments_lexer": "ipython3",
   "version": "3.7.4"
  }
 },
 "nbformat": 4,
 "nbformat_minor": 2
}
