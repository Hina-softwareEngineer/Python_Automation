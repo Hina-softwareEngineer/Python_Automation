{
 "cells": [
  {
   "cell_type": "markdown",
   "metadata": {},
   "source": [
    "Frankly, the unit testing library for Python is fairly well documented, but it can be a bit of a dry read. Instead, we suggest covering the core module concepts, and then reading in more detail later.\n",
    "\n",
    "Best of Unit Testing Standard Library Module\n",
    "\n",
    "Understand a Basic Example:\n",
    "\n",
    "- https://docs.python.org/3/library/unittest.html#basic-example\n",
    "\n",
    "Understand how to run the tests using the Command Line:\n",
    "\n",
    "- https://docs.python.org/3/library/unittest.html#command-line-interface\n",
    "\n",
    "Understand various Unit Test Design Patterns:\n",
    "\n",
    "- https://docs.python.org/3/library/unittest.html#organizing-test-code\n",
    "\n",
    "Understand the uses of setUp, tearDown; setUpModule and tearDownModule\n",
    "\n",
    "**Understand basic assertions:**\n",
    "\n",
    "| Method                    |      Checks that     | New in |\n",
    "|---------------------------|:--------------------:|-------:|\n",
    "| assertEqual(a, b)         |        a == b        |        |\n",
    "| assertNotEqual(a, b)      |        a != b        |        |\n",
    "| assertTrue(x)             |    bool(x) is True   |        |\n",
    "| assertFalse(x)            | bool(x) is False     |        |\n",
    "| assertIs(a, b)            | a is b               | 3.1    |\n",
    "| assertIsNot(a, b)         | a is not b           | 3.1    |\n",
    "| assertIsNone(x)           | x is None            | 3.1    |\n",
    "| assertIsNotNone(x)        | x is not None        | 3.1    |\n",
    "| assertIn(a, b)            | a in b               | 3.1    |\n",
    "| assertNotIn(a, b)         | a not in b           | 3.1    |\n",
    "| assertIsInstance(a, b)    | isinstance(a, b)     | 3.2    |\n",
    "| assertNotIsInstance(a, b) | not isinstance(a, b) | 3.2    |\n",
    "\n",
    "\n",
    "\n",
    "Understand more specific assertions such as assertRaises\n",
    "\n",
    "- https://docs.python.org/3/library/unittest.html#unittest.TestCase.assertRaises\n"
   ]
  },
  {
   "cell_type": "code",
   "execution_count": null,
   "metadata": {},
   "outputs": [],
   "source": []
  }
 ],
 "metadata": {
  "kernelspec": {
   "display_name": "Python 3",
   "language": "python",
   "name": "python3"
  },
  "language_info": {
   "codemirror_mode": {
    "name": "ipython",
    "version": 3
   },
   "file_extension": ".py",
   "mimetype": "text/x-python",
   "name": "python",
   "nbconvert_exporter": "python",
   "pygments_lexer": "ipython3",
   "version": "3.7.4"
  }
 },
 "nbformat": 4,
 "nbformat_minor": 2
}
