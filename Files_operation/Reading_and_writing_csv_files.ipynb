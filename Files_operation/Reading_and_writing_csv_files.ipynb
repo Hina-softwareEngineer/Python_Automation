{
 "cells": [
  {
   "cell_type": "markdown",
   "metadata": {},
   "source": [
    "# CSV Files\n",
    "\n",
    "df command: prints the currently used disk space in a human readable format."
   ]
  },
  {
   "cell_type": "markdown",
   "metadata": {},
   "source": [
    "## Reading CSV files"
   ]
  },
  {
   "cell_type": "code",
   "execution_count": null,
   "metadata": {},
   "outputs": [],
   "source": [
    "import csv\n",
    "\n",
    "f=open('csv_file.txt')\n",
    "csv_f=csv.reader(f)\n",
    "\n",
    "for row in csv_f:\n",
    "    name,phone,role=row    # row[0] is the first row\n",
    "    print(\"Name: {}, Phone: {}, Role: {}\".format(name,phone,role))"
   ]
  },
  {
   "cell_type": "markdown",
   "metadata": {},
   "source": [
    "## Generating CSV"
   ]
  },
  {
   "cell_type": "code",
   "execution_count": null,
   "metadata": {},
   "outputs": [],
   "source": [
    "hosts=[[\"workstation.local\",\"192.168.25.46\"],['websrver.cloud','10.2.34.567']]\n",
    "\n",
    "with open('hosts.csv','w') as hosts_csv:\n",
    "    writer=csv.writer(hosts_csv)\n",
    "    writer.writerows(hosts) \n",
    "    \n",
    "# writerow : to write one single row\n",
    "# writerows : to write multiple rows\n"
   ]
  },
  {
   "cell_type": "markdown",
   "metadata": {},
   "source": [
    "## Reading and writing CSV files with dictionaries\n",
    "\n",
    "> Dictreader() translates each row of data into csv file into dictionary.\n",
    "\n",
    "So we Can Access data using column names instead of positions\n",
    "\n",
    "> Dictwriter() is use in the same as dictreader() and write into files from dictionary"
   ]
  },
  {
   "cell_type": "code",
   "execution_count": null,
   "metadata": {},
   "outputs": [],
   "source": [
    "with open('software.csv') as software:\n",
    "    reader=csv.DictReader(software)\n",
    "    for row in reader:\n",
    "        print((\"{} has {} users\").format(row['name'],row[\"users\"]))"
   ]
  },
  {
   "cell_type": "markdown",
   "metadata": {},
   "source": [
    "we'll also need to pass a list of the keys that we want to be stored in the file when creating the writer. Let's see this in action. First we need a list of dictionaries with the data that we want to store.\n",
    "\n",
    "### DictReader() allows us to convert the data in a CSV file into a standard dictionary. DictWriter() \\ allows us to write data from a dictionary into a CSV file."
   ]
  },
  {
   "cell_type": "code",
   "execution_count": null,
   "metadata": {},
   "outputs": [],
   "source": [
    "users=[{'name':'Sol Mansi','username':'solm','department':'IT infrastructure'},{'name':'Lio Nelson','username':'lion','department':'User Experience Research'},{'name':'Charlie Grey','username':'greyc','department':'Development'}]\n",
    "\n",
    "keys=['name','username','department']\n",
    "\n",
    "with open('by_department.csv','w')as by_department:\n",
    "    writer=csv.DictWriter(by_department, fieldnames=keys)\n",
    "    writer.writeheader()\n",
    "    write.writerows(users)"
   ]
  },
  {
   "cell_type": "markdown",
   "metadata": {},
   "source": [
    "### Q1: We're working with a list of flowers and some information about each one. The create_file function writes this information to a CSV file. The contents_of_file function reads this file into records and returns the information in a nicely formatted block. Fill in the gaps of the contents_of_file function to turn the data in the CSV file into a dictionary using DictReader."
   ]
  },
  {
   "cell_type": "code",
   "execution_count": null,
   "metadata": {},
   "outputs": [],
   "source": [
    "import os\n",
    "import csv\n",
    "\n",
    "# Create a file with data in it\n",
    "def create_file(filename):\n",
    "    with open(filename, \"w\") as file:\n",
    "        file.write(\"name,color,type\\n\")\n",
    "        file.write(\"carnation,pink,annual\\n\")\n",
    "        file.write(\"daffodil,yellow,perennial\\n\")\n",
    "        file.write(\"iris,blue,perennial\\n\")\n",
    "        file.write(\"poinsettia,red,perennial\\n\")\n",
    "        file.write(\"sunflower,yellow,annual\\n\")\n",
    "\n",
    "# Read the file contents and format the information about each row\n",
    "def contents_of_file(filename):\n",
    "    return_string = \"\"\n",
    "\n",
    "      # Call the function to create the file \n",
    "    create_file(filename)\n",
    "\n",
    "  # Open the file\n",
    "    with open(filename,'r') as csv_file:\n",
    "        reading=csv.DictReader(csv_file)\n",
    "    # Read the rows of the file into a dictionary\n",
    "    # Process each item of the dictionary\n",
    "        for row in reading:\n",
    "            return_string += \"a {} {} is {}\\n\".format(row[\"color\"], row[\"name\"], row[\"type\"])\n",
    "    return return_string\n",
    "\n",
    "#Call the function\n",
    "print(contents_of_file(\"flowers.csv\"))"
   ]
  },
  {
   "cell_type": "markdown",
   "metadata": {},
   "source": [
    "### Q2: Using the CSV file of flowers again, fill in the gaps of the contents_of_file function to process the data without turning it into a dictionary. How do you skip over the header record with the field names?"
   ]
  },
  {
   "cell_type": "code",
   "execution_count": null,
   "metadata": {},
   "outputs": [],
   "source": [
    "import os\n",
    "import csv\n",
    "\n",
    "# Create a file with data in it\n",
    "def create_file(filename):\n",
    "    with open(filename, \"w\") as file:\n",
    "        file.write(\"name,color,type1\\n\")\n",
    "        file.write(\"carnation,pink,annual\\n\")\n",
    "        file.write(\"daffodil,yellow,perennial\\n\")\n",
    "        file.write(\"iris,blue,perennial\\n\")\n",
    "        file.write(\"poinsettia,red,perennial\\n\")\n",
    "        file.write(\"sunflower,yellow,annual\\n\")\n",
    "\n",
    "# Read the file contents and format the information about each row\n",
    "def contents_of_file(filename):\n",
    "    return_string = \"\"\n",
    "\n",
    "  # Call the function to create the file \n",
    "    create_file(filename)\n",
    "\n",
    "  # Open the file\n",
    "    file=open(filename)\n",
    "    # Read the rows of the file\n",
    "    rows = csv.reader(file)\n",
    "    # Process each row\n",
    "    header=next(rows)                    # To skip header row\n",
    "    for row in rows:\n",
    "        name,color,type1 = row\n",
    "      # Format the return string for data rows only\n",
    "        return_string += \"a {} {} is {}\\n\".format(name,color,type1)\n",
    "    return return_string\n",
    "\n",
    "#Call the function\n",
    "print(contents_of_file(\"flowers.csv\"))"
   ]
  }
 ],
 "metadata": {
  "kernelspec": {
   "display_name": "Python 3",
   "language": "python",
   "name": "python3"
  },
  "language_info": {
   "codemirror_mode": {
    "name": "ipython",
    "version": 3
   },
   "file_extension": ".py",
   "mimetype": "text/x-python",
   "name": "python",
   "nbconvert_exporter": "python",
   "pygments_lexer": "ipython3",
   "version": "3.7.4"
  }
 },
 "nbformat": 4,
 "nbformat_minor": 2
}
