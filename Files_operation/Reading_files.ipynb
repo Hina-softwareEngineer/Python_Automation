{
 "cells": [
  {
   "cell_type": "code",
   "execution_count": 5,
   "metadata": {},
   "outputs": [
    {
     "name": "stdout",
     "output_type": "stream",
     "text": [
      "#!/use/bin/env python3\n",
      "\n",
      "hello \n",
      "import shutil\n",
      "import psutil\n",
      "\n",
      "def check_disk_usage(disk):\n",
      "\tdu=shutil.disk_usage(disk)\n",
      "\tfree=du.free/du.total*100\n",
      "\treturn free>20\n",
      "\n",
      "def check_cpu_usage():\n",
      "\tusage=psutil.cpu_percent(1)\n",
      "\treturn usage<75\n",
      "\n",
      "if not check_disk_usage('/') or not check_cpu_usage():\n",
      "\tprint(\"Error!\")\n",
      "else:\n",
      "\tprint(\"Everything is OK\")\n",
      "\n",
      "\n",
      "#chmod +x health_check.py\n"
     ]
    }
   ],
   "source": [
    "with open(\"file.txt\") as file:\n",
    "    for line in file:\n",
    "        print(line.upper())\n",
    "        \n",
    "\n",
    "with open(\"file.txt\") as file:\n",
    "    for line in file:\n",
    "        print(line.strip().upper())\n",
    "        \n",
    "file=open(\"../google.py\")\n",
    "lines=file.readlines()# or file.readline() or file.read()\n",
    "file.close()\n",
    "\n",
    "lines.sort()\n",
    "print(lines)"
   ]
  },
  {
   "cell_type": "code",
   "execution_count": null,
   "metadata": {},
   "outputs": [],
   "source": [
    "with open(\"novel.txt\",\"w\") as file:     # w is mode \n",
    "    file.write(\"It was a dark and stormy night.\")\n",
    "    \n",
    "# r means read-only mode\n",
    "# w means write-only mode.\n",
    "# a means append mode\n",
    "# r+ means read-write mode.\n",
    "# The above method returns number of character write on a file.\n",
    "\n"
   ]
  },
  {
   "cell_type": "markdown",
   "metadata": {},
   "source": [
    "## Working with Files"
   ]
  },
  {
   "cell_type": "code",
   "execution_count": null,
   "metadata": {},
   "outputs": [],
   "source": [
    "\n",
    "import os\n",
    "os.remove('novel.txt')\n",
    "\n",
    "os.rename('oldName.txt','newName.txt')\n",
    "\n",
    "\n",
    "# Checking file exists\n",
    "os.path.exists('file.txt')\n",
    "# above line return true or False\n"
   ]
  },
  {
   "cell_type": "markdown",
   "metadata": {},
   "source": [
    "## More File Information"
   ]
  },
  {
   "cell_type": "code",
   "execution_count": null,
   "metadata": {},
   "outputs": [],
   "source": [
    "# Give file size\n",
    "os.path.getsize(\"file.txt\")\n",
    "# Check when the file was last modified\n",
    "# Give unix Timestamp when the file will generate first time\n",
    "# from 1st Jan 1970 because before this date no file is created \n",
    "os.path.getmtime(\"file.txt\")\n",
    "\n",
    "# to make it easier to read seconds\n",
    "import datetime\n",
    "timestamp=os.path.getmtime(\"file.txt\")\n",
    "datetime.datetime.fromtimestamp(timestamp)\n",
    "\n",
    "if os.path.isfile(file) # checks file exists or not.\n",
    "\n",
    "os.path.abspath(\"file.txt\") # returns absolute path of file."
   ]
  },
  {
   "cell_type": "markdown",
   "metadata": {},
   "source": [
    "## Directories"
   ]
  },
  {
   "cell_type": "code",
   "execution_count": 6,
   "metadata": {},
   "outputs": [
    {
     "ename": "SyntaxError",
     "evalue": "unexpected EOF while parsing (<ipython-input-6-5b90fe1d0cc7>, line 16)",
     "output_type": "error",
     "traceback": [
      "\u001b[0;36m  File \u001b[0;32m\"<ipython-input-6-5b90fe1d0cc7>\"\u001b[0;36m, line \u001b[0;32m16\u001b[0m\n\u001b[0;31m    for name in os.listdir(dir):\u001b[0m\n\u001b[0m                                ^\u001b[0m\n\u001b[0;31mSyntaxError\u001b[0m\u001b[0;31m:\u001b[0m unexpected EOF while parsing\n"
     ]
    }
   ],
   "source": [
    "#getcwd method tells which current directory is in .\n",
    "# tells current directory\n",
    "print(os.getcwd())\n",
    "#mkdir commands use to make directory.\n",
    "print(os.mkdir(\"new-dir\"))\n",
    "# change directory using to change directories.\n",
    "print(os.chdir(\"new-dir\"))\n",
    "# rmdir to remove directory. It works only if directory is empty\n",
    "os.rmdir('new-dir')\n",
    "# we need to del all files \n",
    "\n",
    "# list all files and sub directories\n",
    "os.listdir(\"website\")# website is main dir\n",
    "\n",
    "dir=\"website\"\n",
    "for name in os.listdir(dir):\n",
    "    fullname=os.path.join(dir,name)\n",
    "    if os.path.isdir(fullname):\n",
    "        print(\"{} is a directory\".format(fullname))\n",
    "    else:\n",
    "        print(\"{} is a file\".format(fullname))"
   ]
  },
  {
   "cell_type": "markdown",
   "metadata": {},
   "source": [
    "The create_python_script function creates a new python script in the current working directory, adds the line of comments to it declared by the 'comments' variable, and returns the size of the new file. Fill in the gaps to create a script called \"program.py\"."
   ]
  },
  {
   "cell_type": "code",
   "execution_count": null,
   "metadata": {},
   "outputs": [],
   "source": [
    "import os\n",
    "def create_python_script(filename):\n",
    "    comments = \"# Start of a new Python program\"\n",
    "      with open(filename,'w') as file:\n",
    "        file.write(comments)\n",
    "      filesize = os.path.getsize(filename)\n",
    "      return(filesize)\n",
    "\n",
    "print(create_python_script(\"program.py\"))"
   ]
  },
  {
   "cell_type": "markdown",
   "metadata": {},
   "source": [
    "The new_directory function creates a new directory inside the current working directory, then creates a new empty file inside the new directory, and returns the list of files in that directory. Complete the function to create a file \"script.py\" in the directory \"PythonPrograms\"."
   ]
  },
  {
   "cell_type": "code",
   "execution_count": null,
   "metadata": {},
   "outputs": [],
   "source": [
    "import os\n",
    "\n",
    "def new_directory(directory, filename):\n",
    "  # Before creating a new directory, check to see if it already exists\n",
    "    if os.path.exists(directory) is False:\n",
    "        os.mkdir(directory)\n",
    "  # Create the new file inside of the new directory\n",
    "    with open(os.path.join(directory,filename),\"w\") as file:\n",
    "        pass\n",
    "  # # Return the list of files in the new directory\n",
    "    return os.listdir(directory)"
   ]
  }
 ],
 "metadata": {
  "kernelspec": {
   "display_name": "Python 3",
   "language": "python",
   "name": "python3"
  },
  "language_info": {
   "codemirror_mode": {
    "name": "ipython",
    "version": 3
   },
   "file_extension": ".py",
   "mimetype": "text/x-python",
   "name": "python",
   "nbconvert_exporter": "python",
   "pygments_lexer": "ipython3",
   "version": "3.7.4"
  }
 },
 "nbformat": 4,
 "nbformat_minor": 2
}
