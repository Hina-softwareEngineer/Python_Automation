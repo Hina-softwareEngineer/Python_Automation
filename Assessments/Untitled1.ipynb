{
 "cells": [
  {
   "cell_type": "code",
   "execution_count": null,
   "metadata": {},
   "outputs": [],
   "source": [
    "Blossom Gill,blossom@abc.edu,\n",
    "Hayes Delgado,nonummy@abc.edu\n",
    "Petra Jones,ac@abc.edu\n",
    "Oleg Noel,noel@abc.edu\n",
    "Ahmed Miller,ahmed.miller@abc.edu\n",
    "Macaulay Douglas,mdouglas@abc.edu\n",
    "Aurora Grant,enim.non@abc.edu\n",
    "Madison Mcintosh,mcintosh@abc.edu\n",
    "Montana Powell,montanap@abc.edu\n",
    "Rogan Robinson,rr.robinson@abc.edu\n",
    "Simon Rivera,sri@abc.edu\n",
    "Benedict Pacheco,bpacheco@abc.edu\n",
    "Maisie Hendrix,mai.hendrix@abc.edu\n",
    "Xaviera Gould,xlg@abc.edu\n",
    "Oren Rollins,oren@abc.edu\n",
    "Flavia Santiago,flavia@abc.edu\n",
    "Jackson Owens,jacksonowens@abc.edu\n",
    "Britanni Humphrey,britanni@abc.edu\n",
    "Kirk Nixon,kirknixon@abc.edu\n",
    "Bree Campbell,breee@abc.edu\n"
   ]
  }
 ],
 "metadata": {
  "kernelspec": {
   "display_name": "Python 3",
   "language": "python",
   "name": "python3"
  },
  "language_info": {
   "codemirror_mode": {
    "name": "ipython",
    "version": 3
   },
   "file_extension": ".py",
   "mimetype": "text/x-python",
   "name": "python",
   "nbconvert_exporter": "python",
   "pygments_lexer": "ipython3",
   "version": "3.7.4"
  }
 },
 "nbformat": 4,
 "nbformat_minor": 2
}
