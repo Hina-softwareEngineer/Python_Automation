{
 "cells": [
  {
   "cell_type": "markdown",
   "metadata": {},
   "source": [
    "## Skipping staging Area\n",
    "\n",
    "**git commit dash** a is just a shortcut for git add followed by git commit but that's not exactly true. \n",
    " \n",
    "Instead, **git commit -a** is a shortcut to stage any changes to tracked files and commit them in one step"
   ]
  },
  {
   "cell_type": "markdown",
   "metadata": {},
   "source": [
    "## Getting more info about our changes\n",
    "\n",
    "To do this with **git log**, we can use the **-p** flag. The p comes from patch, because using this flag gives us the patch that was created. \n",
    "\n",
    "\n",
    "git log is the **--stat** flag. This will cause git log to show some stats about the changes in the commit, like which files were changed and how many lines were added or removed. \n",
    "\n",
    "It's only natural that by the time you get to the commit step you don't really remember everything you changed. To help us keep track git gives us the **git diff** command.\n",
    "\n",
    "Something else we can do to review changes before adding them is to use the **-p** flag with the **git add** command.\n",
    "When we use this flag, git will show us the change being added and ask us if we want to stage it or not.\n",
    "\n",
    "If we call git diff again, it won't show any differences, since **git diff shows only unstaged changes by default**. Instead, we can call **git diff -- staged** to see the changes that are staged but not committed."
   ]
  },
  {
   "cell_type": "markdown",
   "metadata": {},
   "source": [
    "## Deleting and Renaming files\n",
    "\n",
    " You can remove files from your repository with the **git rm** command, which will stop the file from being tracked by git and remove it from the git directory.\n",
    " \n",
    " You can use the **git mv** command to rename files in the repository\n",
    " \n",
    "**The git mv command works in a similar way to the mv command on Linux and so can be used for both moving and renaming**. If our repository included more directories in it, we can use the same git mv command to move files between directories.\n",
    " \n",
    "To do this, we can use the gitignore file.\n",
    "Inside this file, we'll specify rules to tell git which files to skip for the current repo.\n"
   ]
  }
 ],
 "metadata": {
  "kernelspec": {
   "display_name": "Python 3",
   "language": "python",
   "name": "python3"
  },
  "language_info": {
   "codemirror_mode": {
    "name": "ipython",
    "version": 3
   },
   "file_extension": ".py",
   "mimetype": "text/x-python",
   "name": "python",
   "nbconvert_exporter": "python",
   "pygments_lexer": "ipython3",
   "version": "3.7.4"
  }
 },
 "nbformat": 4,
 "nbformat_minor": 2
}
