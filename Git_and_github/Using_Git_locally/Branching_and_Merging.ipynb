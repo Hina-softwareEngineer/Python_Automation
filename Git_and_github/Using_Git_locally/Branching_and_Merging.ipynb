{
 "cells": [
  {
   "cell_type": "markdown",
   "metadata": {},
   "source": [
    "## What is branch\n",
    "\n",
    "Master is a default branch made by git."
   ]
  },
  {
   "cell_type": "markdown",
   "metadata": {},
   "source": [
    "## Creating new branches\n",
    "\n",
    "git branch # checks on which branch we are\n",
    "\n",
    "create a new branch\n",
    "- git branch new-branch-name\n",
    "\n",
    "To move on a new branch\n",
    "- git checkout new-branch-name\n",
    "\n",
    "Create and move to a new branch\n",
    "- git checkout -b branch-name\n"
   ]
  },
  {
   "cell_type": "markdown",
   "metadata": {},
   "source": [
    "## Working with branches\n",
    "\n",
    "ls -l show files.\n",
    "git checkout master switch to master.\n",
    "\n",
    "To delete a edit branch after merging \n",
    "- git branch -d new-branch"
   ]
  },
  {
   "cell_type": "markdown",
   "metadata": {},
   "source": [
    "## Merging\n",
    "\n",
    "To merge into master\n",
    "- git merge new-branch\n",
    "\n",
    "Git uses two different algorithms to perform a merge, fast-forward and three-way merge. The merge we just performed is an example of a fast-forward merge. This kind of merge occurs when all the commits in the checked out branch are also in the branch that's being merged.\n",
    "\n",
    "On the other hand, a three-way merge is performed when the history of the merging branches has diverged in some way, and there isn't a nice linear path to combine them via fast-forwarding.\n"
   ]
  },
  {
   "cell_type": "markdown",
   "metadata": {},
   "source": [
    "## Merge Conflicts\n",
    "\n",
    "git merge new-branch\n",
    "\n",
    "git status\n",
    "\n",
    "open file in text editor\n",
    "\n",
    "remove the annotations by git and keeping files\n",
    "\n",
    "git add file-name\n",
    "\n",
    "git status\n",
    "\n",
    "git commit # branch has been merged.\n",
    "\n",
    "- To see descriptive info about merge branch\n",
    "\n",
    "   git log --graph --oneline\n",
    "   \n",
    "git mer"
   ]
  },
  {
   "cell_type": "code",
   "execution_count": null,
   "metadata": {},
   "outputs": [],
   "source": []
  }
 ],
 "metadata": {
  "kernelspec": {
   "display_name": "Python 3",
   "language": "python",
   "name": "python3"
  },
  "language_info": {
   "codemirror_mode": {
    "name": "ipython",
    "version": 3
   },
   "file_extension": ".py",
   "mimetype": "text/x-python",
   "name": "python",
   "nbconvert_exporter": "python",
   "pygments_lexer": "ipython3",
   "version": "3.7.4"
  }
 },
 "nbformat": 4,
 "nbformat_minor": 2
}
