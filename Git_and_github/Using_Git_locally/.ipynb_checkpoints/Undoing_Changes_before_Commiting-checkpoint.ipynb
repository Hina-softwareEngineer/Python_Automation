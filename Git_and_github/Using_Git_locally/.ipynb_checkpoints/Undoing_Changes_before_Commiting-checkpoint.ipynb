{
 "cells": [
  {
   "cell_type": "markdown",
   "metadata": {},
   "source": [
    "- change a file back to its earlier committed state by using the:\n",
    "\n",
    "**git checkout** command followed by the name of the file you want to revert\n",
    "\n",
    "- If you need to check out individual changes instead of the whole file, you can do that using the **dash p** flag. \n",
    "\n",
    "- If we realize we've added something to the staging area that we didn't actually want to commit, \n",
    "\n",
    "we can unstage our changes by using the **git reset** command.\n",
    "\n",
    "- You can use git reset **dash p** to get git to ask you which specific changes you want to reset"
   ]
  },
  {
   "cell_type": "markdown",
   "metadata": {},
   "source": [
    "## Amending Commits\n",
    "\n",
    "When we run **git commit --amend**, git will take whatever is currently in our staging area and run the git commit workflow to overwrite the previous commit"
   ]
  },
  {
   "cell_type": "markdown",
   "metadata": {},
   "source": [
    "## RollBacks\n",
    "\n",
    "**Git revert** doesn't just mean undo. Instead, it creates a commit that contains the inverse of all the changes made in the bad commit in order to cancel them out\n",
    "\n",
    "**git log** using **dash P** and dash two as parameters\n",
    "\n",
    " look at that specific commit using **git show**, which we mentioned in an earlier video.\n",
    " \n",
    " "
   ]
  },
  {
   "cell_type": "code",
   "execution_count": null,
   "metadata": {},
   "outputs": [],
   "source": []
  }
 ],
 "metadata": {
  "kernelspec": {
   "display_name": "Python 3",
   "language": "python",
   "name": "python3"
  },
  "language_info": {
   "codemirror_mode": {
    "name": "ipython",
    "version": 3
   },
   "file_extension": ".py",
   "mimetype": "text/x-python",
   "name": "python",
   "nbconvert_exporter": "python",
   "pygments_lexer": "ipython3",
   "version": "3.7.4"
  }
 },
 "nbformat": 4,
 "nbformat_minor": 2
}
