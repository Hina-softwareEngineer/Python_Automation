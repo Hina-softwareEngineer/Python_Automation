{
 "cells": [
  {
   "cell_type": "markdown",
   "metadata": {},
   "source": [
    "## What is remote\n",
    "\n",
    "## Working with remotes\n",
    "\n",
    "- git remote -v to check url or fetching and pushing repo\n",
    "- git remote show origin ** for more info **\n",
    "\n",
    "**git branch -r** are the remote branches\n",
    "\n",
    "Whenever we're operating with remotes, Git uses remote branches to keep copies of the data that's stored in the remote repository. We could have a look at the remote branches that our Git repo is currently tracking by running git branch -r.\n",
    "\n",
    "**git status** now gives us additional information. It tells us that our branch is up to date with the origin/master branch, which means that the master branch in the remote repository called origin, has the same commits as our local master branch.\n",
    "\n",
    "## Fetching New Changes\n",
    "\n",
    "git log origin/master\n",
    "git fetch\n",
    "git merge origin/master\n",
    "\n",
    "git pull\n",
    "## Updating the local Repository\n",
    "\n",
    "git checkout repo-name \n",
    "It creates a local repo same as remote repo anc copy the contents of remote repo to local repo.\n"
   ]
  },
  {
   "cell_type": "code",
   "execution_count": null,
   "metadata": {},
   "outputs": [],
   "source": []
  }
 ],
 "metadata": {
  "kernelspec": {
   "display_name": "Python 3",
   "language": "python",
   "name": "python3"
  },
  "language_info": {
   "codemirror_mode": {
    "name": "ipython",
    "version": 3
   },
   "file_extension": ".py",
   "mimetype": "text/x-python",
   "name": "python",
   "nbconvert_exporter": "python",
   "pygments_lexer": "ipython3",
   "version": "3.7.4"
  }
 },
 "nbformat": 4,
 "nbformat_minor": 2
}
