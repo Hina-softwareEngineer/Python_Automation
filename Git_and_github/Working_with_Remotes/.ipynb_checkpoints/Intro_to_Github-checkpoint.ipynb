{
 "cells": [
  {
   "cell_type": "markdown",
   "metadata": {},
   "source": [
    "## What is Github?\n",
    "\n",
    "Git is a distributed version control system. Distributed means that each developer has a copy of the whole repository on their local machine.\n",
    "But we can host one of these copies on a server and then use it as a remote repository for the other copies. \n",
    "\n",
    "**GitHub** is a web-based Git repository hosting service. On top of the version control functionality of Git, GitHub includes extra features like bug tracking, wikis, and task management.\n",
    "\n"
   ]
  },
  {
   "cell_type": "markdown",
   "metadata": {},
   "source": [
    "## Basic interaction with github\n",
    "\n",
    "**git clone repo-url** create local copy of repo\n",
    "**git push** used to push repo on remote"
   ]
  }
 ],
 "metadata": {
  "kernelspec": {
   "display_name": "Python 3",
   "language": "python",
   "name": "python3"
  },
  "language_info": {
   "codemirror_mode": {
    "name": "ipython",
    "version": 3
   },
   "file_extension": ".py",
   "mimetype": "text/x-python",
   "name": "python",
   "nbconvert_exporter": "python",
   "pygments_lexer": "ipython3",
   "version": "3.7.4"
  }
 },
 "nbformat": 4,
 "nbformat_minor": 2
}
