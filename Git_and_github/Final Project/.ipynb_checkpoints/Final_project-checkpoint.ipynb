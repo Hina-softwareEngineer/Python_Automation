{
 "cells": [
  {
   "cell_type": "code",
   "execution_count": 23,
   "metadata": {},
   "outputs": [
    {
     "name": "stdout",
     "output_type": "stream",
     "text": [
      "True\n",
      "False\n",
      "True\n",
      "False\n"
     ]
    }
   ],
   "source": [
    "import re\n",
    "\n",
    "def validate_user(username, minlen):\n",
    "    \"\"\"Checks if the recieved username matches the required conditions\"\"\"\n",
    "\n",
    "    if type(username) != str:\n",
    "        raise TypeError('username must be a string')\n",
    "    if minlen < 1:\n",
    "        raise ValueError(\"minlen must be at least 1\")\n",
    "        \n",
    "    # Usernames can't be shorter that minlen\n",
    "    if len(username) < minlen:\n",
    "        return False\n",
    "    # Usernames can only use letters, numbers, dots and underscores\n",
    "    if not re.match('^[a-z0-9._]*$', username):\n",
    "        return False\n",
    "    # Username can't begin with a number\n",
    "    if username[0].isnumeric():\n",
    "        return False\n",
    "    if re.match('^[a-z]',username):\n",
    "        return True\n",
    "    return False\n",
    "\n",
    "print(validate_user(\"blue.kale\", 3))\n",
    "print(validate_user(\".blue.kale\", 3))\n",
    "print(validate_user(\"red_quinoa\", 4))\n",
    "print(validate_user(\"_red_quinoa\", 4))"
   ]
  },
  {
   "cell_type": "code",
   "execution_count": null,
   "metadata": {},
   "outputs": [],
   "source": []
  },
  {
   "cell_type": "code",
   "execution_count": null,
   "metadata": {},
   "outputs": [],
   "source": []
  }
 ],
 "metadata": {
  "kernelspec": {
   "display_name": "Python 3",
   "language": "python",
   "name": "python3"
  },
  "language_info": {
   "codemirror_mode": {
    "name": "ipython",
    "version": 3
   },
   "file_extension": ".py",
   "mimetype": "text/x-python",
   "name": "python",
   "nbconvert_exporter": "python",
   "pygments_lexer": "ipython3",
   "version": "3.7.4"
  }
 },
 "nbformat": 4,
 "nbformat_minor": 2
}
