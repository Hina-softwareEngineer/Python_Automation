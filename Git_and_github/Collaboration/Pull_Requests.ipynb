{
 "cells": [
  {
   "cell_type": "markdown",
   "metadata": {},
   "source": [
    "## Simple Pull request\n",
    "\n",
    "**But what exactly is a fork? Forking is a way of creating a copy of the given repository so that it belongs to our user.**\n",
    "\n",
    "**A pull request is a commit or series of commits that you send to the owner of the repository so that they incorporate it into their tree**"
   ]
  },
  {
   "cell_type": "markdown",
   "metadata": {},
   "source": [
    "## Typical Pull Request Work Flow\n",
    "\n",
    "\n",
    "## Updating and Existing Pull Request\n",
    "\n",
    "## Squashing Changes\n",
    "\n",
    "The project maintainers ask us to create a single commit that includes both changes and a more detailed description than the one we submitted. We can do that by using the interactive version of the **rebase command called rebase-i**, as the parameter to the command will pass the master branch. So we'll call **git rebase-i master**.\n",
    "\n",
    "When we call an interactive rebase, a text editor opens with a list of all the selected commits from the oldest to the most recent. By changing the first word of each line, we can select what we want to do with the commits. The default action here is **pick which takes the commits and rebases them against the branch we selected.**\n",
    "\n",
    "We have two options for combining commits, **squash and fix up**. In both cases, the contents of the selected commit are merged into the previous commit in the list. The difference is what happens with the commit messages. When we choose **squash**, the commit messages are added together and an editor opens up to let us make any necessary changes. When we choose **fix up**, the commit message for that commit is discarded.\n",
    "\n",
    "**change the pick command in the second line to squash it into the first one**, then we'll save and exit the editor as usual.\n",
    "\n",
    "git log --graph --one line --all for all branches, and -4\n",
    "\n",
    "we don't want to create a merge. Instead, we want to replace the old commits with the new one. To do this, we will call **git push -f to force git to push the current snapshot into the repo as is.** \n",
    "\n",
    "## Git Fork and Pull request Cheat Sheet\n",
    "\n",
    "Check out the following link for more information:\n",
    "\n",
    "https://help.github.com/en/articles/about-pull-request-merges"
   ]
  },
  {
   "cell_type": "code",
   "execution_count": null,
   "metadata": {},
   "outputs": [],
   "source": []
  }
 ],
 "metadata": {
  "kernelspec": {
   "display_name": "Python 3",
   "language": "python",
   "name": "python3"
  },
  "language_info": {
   "codemirror_mode": {
    "name": "ipython",
    "version": 3
   },
   "file_extension": ".py",
   "mimetype": "text/x-python",
   "name": "python",
   "nbconvert_exporter": "python",
   "pygments_lexer": "ipython3",
   "version": "3.7.4"
  }
 },
 "nbformat": 4,
 "nbformat_minor": 2
}
