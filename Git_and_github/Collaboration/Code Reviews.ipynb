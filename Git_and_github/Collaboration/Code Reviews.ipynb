{
 "cells": [
  {
   "cell_type": "markdown",
   "metadata": {},
   "source": [
    "## Code Reviews\n",
    "\n",
    "Doing a code review means going through someone else's code, documentation or configuration and checking that it all makes sense and follows the expected patterns.\n",
    "\n",
    "## Code Review WorkFlow\n",
    "\n",
    " These comments are usually prefixed, saying that it's a Nit. Whatever it is, it's important that you take the time to understand what the comment is and what you need to do to address it. \n",
    "\n",
    "## More info on code reviews\n",
    "\n",
    "Check out the following links for more information:\n",
    "\n",
    "- http://google.github.io/styleguide/\n",
    "- https://help.github.com/en/articles/about-pull-request-reviews\n",
    "- https://medium.com/osedea/the-perfect-code-review-process-845e6ba5c31\n",
    "- https://smartbear.com/learn/code-review/what-is-code-review/"
   ]
  },
  {
   "cell_type": "code",
   "execution_count": null,
   "metadata": {},
   "outputs": [],
   "source": []
  }
 ],
 "metadata": {
  "kernelspec": {
   "display_name": "Python 3",
   "language": "python",
   "name": "python3"
  },
  "language_info": {
   "codemirror_mode": {
    "name": "ipython",
    "version": 3
   },
   "file_extension": ".py",
   "mimetype": "text/x-python",
   "name": "python",
   "nbconvert_exporter": "python",
   "pygments_lexer": "ipython3",
   "version": "3.7.4"
  }
 },
 "nbformat": 4,
 "nbformat_minor": 2
}
