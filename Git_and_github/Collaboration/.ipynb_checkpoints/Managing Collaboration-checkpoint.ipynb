{
 "cells": [
  {
   "cell_type": "markdown",
   "metadata": {},
   "source": [
    "## Tracking Issues\n",
    "\n",
    " If you're a project maintainer, it's important that you are reply promptly to pull requests and don't let them stagnate.\n",
    " \n",
    "  Another thing to remember when you maintain a project especially if it's an open source project that volunteers are contributing to is that it's important that you understand any changes you accept.\n",
    "  \n",
    "  When it comes to coordinating who does what and when, a common strategy for active software projects is to use an issue tracker.\n",
    "  \n",
    "  \n",
    "## Tracking Issues\n",
    "\n",
    "An issue tracker tells us the tasks that need to be done, the state they're in and who's working on them. \n",
    "\n",
    "There's a popular bug tracker called **Bugzilla**, which is used by quite a few open source projects. \n",
    "\n",
    "So, if you're hosting your project there, it can be very handy to track work on your project.\n",
    "\n",
    " If you're fixing an issue through a pull request, it's possible to automatically close the issue directly once the code is merged. To do this, you need to include a string like closes:#4 in your commit message or as a part of the description of your pull request.\n",
    " \n",
    " ## Continuous Integration\n",
    " \n",
    " We can write automated tests to test the code for us and then use a continuous integration or CI system to run those tests automatically. A continuous integration system will build and test our code every time there's a change. \n",
    " \n",
    "  Once we have our code automatically built and tested, the next automation step is continuous deployment which is sometimes called continuous delivery or CD. Continuous deployment means the new code is deployed often. The goal is to avoid roll outs with a lot of changes between two versions of a project and instead do incremental updates with only a few changes at a time. This allows errors to be caught and fixed early. \n",
    "  \n",
    "  One popular option is Jenkins which can be used to automate lots of different types of projects. Some repository hosting services like GitLab provide their own infrastructure for doing continuous integration. GitHub doesn't offer an integrated solution. Instead, the popular alternative is to use Travis which communicates with GitHub and can access the information from GitHub projects to know which integrations to run. \n",
    "  \n",
    "  \n",
    "The first one is a concept of pipelines. Pipelines specify the steps that need to run to get the result you want.\n",
    "\n",
    "Another concept that turns up when doing CICD is artifacts. This is the name used to describe any files that are generated as part of the pipelin.\n",
    "\n",
    "\n",
    "So two things to remember, first, make sure the authorized entities for the test servers are not the same entities authorized to deploy on the production servers. That way, if there's any kind of compromise in the pipeline, your production server is not affected.\n",
    "\n",
    "Second, always have a plan to recover your access in case your pipeline gets compromised. If you want to set up Travis for your GitHub project, you can do that by logging into the Travis website at www.travis-ci.com using your GitHub account then enable the projects that you want to continuously integrate.\n",
    "\n",
    "\n",
    "## Additional Tools\n",
    "\n",
    "Check out the following links for more information:\n",
    "\n",
    "- https://arp242.net/diy.html \n",
    "- https://help.github.com/en/articles/closing-issues-using-keywords\n",
    "- https://help.github.com/en/articles/setting-guidelines-for-repository-contributors \n",
    "- https://www.infoworld.com/article/3271126/what-is-cicd-continuous-integration-and-continuous-delivery-explained.html\n",
    "- https://stackify.com/what-is-cicd-whats-important-and-how-to-get-it-right/\n",
    "- https://docs.travis-ci.com/user/tutorial/\n",
    "- https://docs.travis-ci.com/user/build-stages/"
   ]
  },
  {
   "cell_type": "code",
   "execution_count": null,
   "metadata": {},
   "outputs": [],
   "source": []
  }
 ],
 "metadata": {
  "kernelspec": {
   "display_name": "Python 3",
   "language": "python",
   "name": "python3"
  },
  "language_info": {
   "codemirror_mode": {
    "name": "ipython",
    "version": 3
   },
   "file_extension": ".py",
   "mimetype": "text/x-python",
   "name": "python",
   "nbconvert_exporter": "python",
   "pygments_lexer": "ipython3",
   "version": "3.7.4"
  }
 },
 "nbformat": 4,
 "nbformat_minor": 2
}
