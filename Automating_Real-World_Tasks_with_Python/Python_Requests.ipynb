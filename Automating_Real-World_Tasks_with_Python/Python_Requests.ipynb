{
 "cells": [
  {
   "cell_type": "markdown",
   "metadata": {},
   "source": [
    "## The Python Requests Library\n",
    "\n",
    " we've seen how we can serialize the data that we have in our programs and turn it into a format that we can store on disk. Once the data is stored, another process can open up those files, de-serialize them, and go from there.\n",
    "\n",
    "This works, but only if the other process has access to the same filesystem you used to store your data. What if you wanted to send a message to another computer on another network? HTTP to the rescue!\n",
    "\n",
    "Remember that HTTP (HyperText Transfer Protocol) is the protocol of the world-wide web. When you visit a webpage with your web browser, the browser is making a series of HTTP requests to web servers somewhere out on the Internet. Those servers will answer with HTTP responses. This is also how we’re going to send and receive messages with web applications from our code.\n",
    "\n",
    "The Python Requests library makes it super easy to write programs that send and receive HTTP. Instead of having to understand the HTTP protocol in great detail, you can just make very simple HTTP connections using Python objects, and then send and receive messages using the methods of those objects. Let's look at an example:\n",
    "\n",
    "That's it! That was a basic request for a web page! We used the Requests library to make a HTTP GET request for a specific URL, or Uniform Resource Locator. The URL tells the Requests library the name of the resource (www.google.com) and what protocol to use to get the resource (https://). The result we get is an object of type requests.Response.\n",
    "\n",
    "Alright, now what did the web server respond with? Let's take a look at the first 300 characters of the Response.text:\n",
    "\n",
    "Now, it might be hard for you to read the HTML (HyperText Markup Language) that was returned in this response, but your web browser knows just how to turn that into a familiar-looking web page.\n",
    "\n",
    "Even with this simple example, the Requests module has done a whole lot of work for us! We didn't have to write any code to find the web server, make a network connection, construct an HTTP message, wait for a response, or decode the response. Not that HTML can't be messy enough on its own, but let's look at the first bytes of the raw message that we received from the server.\n",
    "\n",
    "What's all that? The response was compressed with gzip, so it had to be decompressed before we could even read the text of the HTML. One more thing that the Requests library handled for us!\n",
    "\n",
    "The requests.Response object also contains the exact request that was created for us. We can check out the headers stored in our object to see that the Requests module told the web server that it was okay to compress the content\n",
    "\n",
    "And then the server told us that the content had actually been compressed."
   ]
  },
  {
   "cell_type": "code",
   "execution_count": null,
   "metadata": {},
   "outputs": [],
   "source": [
    "import requests\n",
    "response = requests.get('https://www.google.com')\n",
    "\n",
    "\n",
    "print(response.text[:300])\n",
    "\n",
    "response = requests.get('https://www.google.com', stream=True)\n",
    "print(response.raw.read()[:100])\n",
    "\n",
    "response.request.headers['Accept-Encoding']\n",
    "\n",
    "response.headers['Content-Encoding']"
   ]
  }
 ],
 "metadata": {
  "kernelspec": {
   "display_name": "Python 3",
   "language": "python",
   "name": "python3"
  },
  "language_info": {
   "codemirror_mode": {
    "name": "ipython",
    "version": 3
   },
   "file_extension": ".py",
   "mimetype": "text/x-python",
   "name": "python",
   "nbconvert_exporter": "python",
   "pygments_lexer": "ipython3",
   "version": "3.7.4"
  }
 },
 "nbformat": 4,
 "nbformat_minor": 2
}
