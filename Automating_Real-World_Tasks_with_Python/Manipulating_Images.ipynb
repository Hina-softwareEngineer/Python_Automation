{
 "cells": [
  {
   "cell_type": "markdown",
   "metadata": {},
   "source": [
    "## How to Use PIL for Working With Images\n",
    "\n",
    "When using PIL, we typically create Image objects that hold the data associated with the images that we want to process. On these objects, we operate by calling different methods that either return a new image object or modify the data in the image, and then end up saving the result in a different file.\n",
    "\n",
    "For example, if we wanted to resize an image and save the new image with a new name, we could do it with:"
   ]
  },
  {
   "cell_type": "code",
   "execution_count": null,
   "metadata": {},
   "outputs": [],
   "source": [
    "# resize image with save with new name\n",
    "\n",
    "from PIL import Image\n",
    "im = Image(\"example.jpg\")\n",
    "new_im = im.resize((640,480))\n",
    "new_im.save(\"example_resized.jpg\")\n",
    "\n",
    "# for rotate a image\n",
    "\n",
    "from PIL import Image\n",
    "im = Image(\"example.jpg\")\n",
    "new_im = im.rotate(90)\n",
    "new_im.save(\"example_rotated.jpg\")\n",
    "\n",
    "# rotate, resize and save with new name\n",
    "\n",
    "from PIL import Image\n",
    "im = Image(\"example.jpg\")\n",
    "im.rotate(180).resize((640,480)).save(\"flipped_and_resized.jpg\")\n"
   ]
  }
 ],
 "metadata": {
  "kernelspec": {
   "display_name": "Python 3",
   "language": "python",
   "name": "python3"
  },
  "language_info": {
   "codemirror_mode": {
    "name": "ipython",
    "version": 3
   },
   "file_extension": ".py",
   "mimetype": "text/x-python",
   "name": "python",
   "nbconvert_exporter": "python",
   "pygments_lexer": "ipython3",
   "version": "3.7.4"
  }
 },
 "nbformat": 4,
 "nbformat_minor": 2
}
