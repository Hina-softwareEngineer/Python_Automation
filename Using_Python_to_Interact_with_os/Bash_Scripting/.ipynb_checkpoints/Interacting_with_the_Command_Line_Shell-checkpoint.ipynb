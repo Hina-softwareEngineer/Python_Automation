{
 "cells": [
  {
   "cell_type": "markdown",
   "metadata": {},
   "source": [
    "## Basic Linux Commands\n",
    "\n",
    "mkdir   #### made a directory<br>\n",
    "\n",
    "cd      #### change directory\n",
    "\n",
    "pwd     #### print the current directory\n",
    "\n",
    "cp ../spider.txt .   ####.. shows reverses a parent directory(previous dir and absolute path) while lst dot \n",
    "reverses the current directory\n",
    "\n",
    "touch      #### creates an empty file\n",
    "\n",
    "cat      #### shows the content of files\n",
    "\n",
    "ls -l #### shows the contents of directory, we got alot of information\n",
    "\n",
    "ls -la    #### shows hidden files\n",
    "\n",
    "mv myfile.txt empty.file    #### move/rename  a file\n",
    "\n",
    "cp spider.txt yetanotherfile.txt  ####copy a file\n",
    "\n",
    "rm *   #### delete all files in directory.\n",
    "\n",
    "cd ..   #### to move to previous directory\n",
    "\n",
    "rmdir     #### to delete directory"
   ]
  },
  {
   "cell_type": "markdown",
   "metadata": {},
   "source": [
    "## Redirecting Streams\n",
    "\n",
    "**Redirection**\n",
    "\n",
    "The process of sending a stream to diffferent destination\n",
    "Usnig '>' commands\n",
    "\n",
    "e.g: cat stdout_file.py > new_file.py\n",
    "    cat new_file.py\n",
    "    \n",
    "**Append**\n",
    "\n",
    "./stdout_example.py >> new_file.txt\n",
    "\n",
    "**redirected of standard input**\n",
    "\n",
    ".streams_errr.py < new_file.txt\n",
    "\n",
    "**File Descriptor**\n",
    "\n",
    "Redirecting error output to separate file\n",
    "./streams_err.py < new_file.txt 2>error_file.txt"
   ]
  },
  {
   "cell_type": "markdown",
   "metadata": {},
   "source": [
    "## Pipe and Pipelines\n",
    "\n",
    "Pipings\n",
    "\n",
    "Using pipes, you can connect multiple scripts, commands, or other programs together into a data processing pipeline. Pipes connect the output of one program to the input of another. This means we can pass data between programs, taking the output of one and making it the input of the next.\n",
    "\n",
    "ls -l | less\n",
    "\n",
    "cat spider.txt | tr ' ' '\\n' | sort | uniq -c | sort -nr | head\n",
    "\n",
    "\n",
    "We're first using cat to get the contents of our spider.txt file.\n",
    "\n",
    "Those contents are then sent to a command called tr, which gets its name from the word translate. \n",
    "It takes the characters in the first parameter, in this case, it's a space and then transform them into a character in the second parameter. In this case, it's a newline character. So basically, what we're doing is putting each word in its own separate line.\n",
    "\n",
    "Hurrah for organization. Next, we pass results to the sort command through a pipe.\n",
    "This command sorts results alphabetically. \n",
    "\n",
    "The sorted results are then passed to the unique command, which displays each match once, and by using a -c flag, it prefixes each unique line with a number of times it occurred. \n",
    "\n",
    "This output is passed via pipe to the sort command once more, this time, with the -nr flag, which sorts results numerically and in reverse order, from most to least hits. \n",
    "\n",
    "The output is finally passed to the head command, which prints the first 10 lines to stdl.\n",
    "\n",
    "\n",
    "\n",
    "we're iterating over the contents of the **sys.stdin** file. Remember, that when we iterate a file object, we go through it line by line. For each of the lines of a file, we first use the strip method to remove the newline character at the end, then capitalize method to make the first character of the line uppercase, and then we print it out to standard output."
   ]
  },
  {
   "cell_type": "markdown",
   "metadata": {},
   "source": [
    "## Signalling Processes\n",
    "\n",
    "we might have a program that starts a background process and wants it to terminate after a timeout. One way of communicating this is through the pipelines we learned .\n",
    "\n",
    "Another way of communicating is through the use of signals. Signals are tokens delivered to running processes to indicate a desired action. Using signals, we can tell a program that we want it to pause or terminate.\n",
    "\n",
    "For example, let's execute the ping command in our terminal.\n",
    "The ping command is now running, sending ICMP packets to machine over the network once per second. And it will keep running forever unless we interrupt it. To do that, we can use the Ctrl-C combination.\n",
    "\n",
    "**Ctrl-C** is the process received a signal indicating that we wanted it to stop. When that signal's received, the process does whatever it needs to finish cleanly. The signal that control see sense is called SIGINT. It's just one of many signals that we can send.\n",
    "\n",
    "Another keyboard combination that we can use to send a signal is **Ctrl-Z**. The signal that we sent is called SIGSTOP.This time the process didn't finish properly. We get a message saying that it's stopped. The signal that we sent is called SIGSTOP. This signal causes the program to stop running without actually terminating. But don't worry, we can make it run again by executing fg. \n",
    "The **fg** command makes our program run once more and will keep going until we interrupt it either with Ctrl-C, Ctrl-Z, or some other signal.\n",
    "\n",
    "To send other signals, we can use the command called **Kill, yikes**. By default, **Kill will send a signal called SIGTERM** that tells the program to terminate. Since Kill is a separate program, we need to run it on a separate terminal. And we also need to know the process identifier or PID of the process that we want to send the signal to. To find out the PID that we want to send the signal to, we'll use the ps command which list the currently running processes. \n",
    "\n",
    "we'll call **ps ax**, which lists all the running processes in the current computer. And then we'll use the **grep** command to only keep lines that contain the name of the process that we're looking for."
   ]
  }
 ],
 "metadata": {
  "kernelspec": {
   "display_name": "Python 3",
   "language": "python",
   "name": "python3"
  },
  "language_info": {
   "codemirror_mode": {
    "name": "ipython",
    "version": 3
   },
   "file_extension": ".py",
   "mimetype": "text/x-python",
   "name": "python",
   "nbconvert_exporter": "python",
   "pygments_lexer": "ipython3",
   "version": "3.7.4"
  }
 },
 "nbformat": 4,
 "nbformat_minor": 2
}
