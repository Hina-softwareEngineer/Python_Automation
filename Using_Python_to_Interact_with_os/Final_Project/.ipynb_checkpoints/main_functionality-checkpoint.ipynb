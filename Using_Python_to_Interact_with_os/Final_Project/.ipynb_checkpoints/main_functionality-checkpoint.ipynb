{
 "cells": [
  {
   "cell_type": "code",
   "execution_count": 2,
   "metadata": {},
   "outputs": [],
   "source": [
    "import re\n",
    "import csv\n",
    "import operator\n",
    "import sys"
   ]
  },
  {
   "cell_type": "code",
   "execution_count": 54,
   "metadata": {},
   "outputs": [],
   "source": [
    "per_user={}\n",
    "errors={}\n",
    "pattern=r\" ([A-Z]+) ([A-Za-z \\']*).+\\(([a-z\\.]*)\\)\"\n",
    "\n",
    "with open('syslog.log') as file:\n",
    "    for line in file:\n",
    "        result=(re.search(pattern,line))\n",
    "        if result[1]=='ERROR':\n",
    "            if result[3] in per_user:\n",
    "                per_user[result[3]]['ERROR']+=1\n",
    "            else:\n",
    "                per_user[result[3]]={'INFO': 0 , 'ERROR':1}\n",
    "                \n",
    "            if result[2] in errors:\n",
    "                errors[result[2]]+=1\n",
    "            else:\n",
    "                errors[result[2]]=1\n",
    "            \n",
    "        elif result[1]=='INFO':\n",
    "            if result[3] not in per_user:\n",
    "                per_user[result[3]]={'ERROR': 0 , 'INFO':1}     \n",
    "            else:\n",
    "                per_user[result[3]]['INFO']+=1\n",
    "                \n",
    "                \n",
    "\n",
    "sorted_errors=sorted(errors.items(), key=operator.itemgetter(1), reverse=True)\n",
    "sorted_username=sorted(per_user.items(), key=operator.itemgetter(0))\n",
    "\n",
    "sorted_errors.insert(0, ('ERROR', 'COUNT'))\n",
    "\n",
    "with open('error_message.csv','w') as error:\n",
    "    writer=csv.writer(error)\n",
    "    writer.writerows(sorted_errors)\n",
    "    \n",
    "with open('user_statistics.csv','w') as user:\n",
    "    user.write('USERNAME,ERROR,INFO\\n')\n",
    "    for line in sorted_username:\n",
    "        user.write(str(line[0])+','+str(line[1]['ERROR'])+','+str(line[1]['INFO'])+'\\n')"
   ]
  },
  {
   "cell_type": "code",
   "execution_count": null,
   "metadata": {},
   "outputs": [],
   "source": []
  }
 ],
 "metadata": {
  "kernelspec": {
   "display_name": "Python 3",
   "language": "python",
   "name": "python3"
  },
  "language_info": {
   "codemirror_mode": {
    "name": "ipython",
    "version": 3
   },
   "file_extension": ".py",
   "mimetype": "text/x-python",
   "name": "python",
   "nbconvert_exporter": "python",
   "pygments_lexer": "ipython3",
   "version": "3.7.4"
  }
 },
 "nbformat": 4,
 "nbformat_minor": 2
}
