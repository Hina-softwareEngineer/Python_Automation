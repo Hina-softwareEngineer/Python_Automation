{
 "cells": [
  {
   "cell_type": "markdown",
   "metadata": {},
   "source": [
    "## Unit Tests\n",
    "\n",
    "The most common type is a unit test. Unit tests are used to verify that small isolated parts of a program are correct. Unit tests are generally written alongside the code to test the behavior of individual pieces or units like functions or methods. Unit tests help assure the developer that each piece of code does what it's meant to do. An important characteristic of a unit test is isolation. Unit test should only test the unit of code they target, the function or method that's being tested.\n",
    "\n",
    "when testing a function or method, we want to make sure that we're focusing on checking that the code in that function or method behaves correctly. We don't want our test to fail for external reasons. Unrelated note, our tests should never modify the production environment. This is a live environment that runs a software that users interact with. When developing test, if for any reason we do need to interact with some other software, we'll normally do that in a test environment, where we'll have control over how it behaves. It's our house, our rules. "
   ]
  },
  {
   "cell_type": "code",
   "execution_count": null,
   "metadata": {},
   "outputs": [],
   "source": [
    "## Writing Unit Tests in Python"
   ]
  },
  {
   "cell_type": "code",
   "execution_count": 2,
   "metadata": {},
   "outputs": [],
   "source": [
    "## rearrange.py\n",
    "\n",
    "import re\n",
    "\n",
    "def rearrange_name(name):\n",
    "    result=re.search(r\"^([\\w .]*),([\\w .]*)$\",name)\n",
    "    if name is None:      # to solve edge case\n",
    "        return name   # additional test case solve by replacing \"\" by name variable\n",
    "    return \"{} {}\".format(result[2], result[1])\n",
    "\n",
    "## rearrange_test.py\n",
    "\n",
    "from rearrange import rearrange_name\n",
    "import unittest # provided by python for testing\n",
    "\n",
    "class TestRearrange(unittest.TestCase):\n",
    "    def test_basic(self):\n",
    "        testcase=\"Lovelace, Ada\"\n",
    "        expected=\"Ada Lovelace\"\n",
    "        self.assertEqual(rearrange_name(testcase),expected)\n",
    "        \n",
    "    def test_empty(self):\n",
    "        testcase=\"\"\n",
    "        expected=\"\"\n",
    "        self.assertEqual(rearrange_name(testcase),expected)\n",
    "        \n",
    "        \n",
    "    ###additional testcase###\n",
    "    def test_double_name(self):   \n",
    "        testcase='Hopper, Grace M.'\n",
    "        expected=\"Grace M. Hopper\"\n",
    "        self.assertEqual(rearrange_name(testcase),expected)\n",
    "        \n",
    "    def test_one_name(self):\n",
    "        testcase=\"Voltaire\"\n",
    "        expected=\"Voltaire\"\n",
    "        self.assertEqual(rearrange_name(testcase),expected)\n",
    "        \n",
    "        \n",
    "        \n",
    "unittest.main()"
   ]
  },
  {
   "cell_type": "markdown",
   "metadata": {},
   "source": [
    "## Edge Cases\n",
    "\n",
    "And we see that it failed with a type error saying that none is not subscriptable. Interesting, we've just discovered an edge case. **Edge cases are inputs to our code that produce unexpected results, and are found at the extreme ends of the ranges of input we imagine our programs will typically work with**. Edge cases usually need special handling in scripts in order for the code to continue to behave correctly. I\n",
    "\n",
    "sometimes you might actually want your program to crash with an error rather than to go on as if nothing happened. Remember that it's bad for automation to fail silently.**Other kinds of edge cases usually include things like passing zero to a function that expects a number, or negative numbers, or extremely large numbers**. These types of conditions are good to consider when writing your test, since they can cause your code to crash or behave in unexpected ways."
   ]
  },
  {
   "cell_type": "markdown",
   "metadata": {},
   "source": [
    "## Additional Test Cases"
   ]
  },
  {
   "cell_type": "code",
   "execution_count": null,
   "metadata": {},
   "outputs": [],
   "source": []
  }
 ],
 "metadata": {
  "kernelspec": {
   "display_name": "Python 3",
   "language": "python",
   "name": "python3"
  },
  "language_info": {
   "codemirror_mode": {
    "name": "ipython",
    "version": 3
   },
   "file_extension": ".py",
   "mimetype": "text/x-python",
   "name": "python",
   "nbconvert_exporter": "python",
   "pygments_lexer": "ipython3",
   "version": "3.7.4"
  }
 },
 "nbformat": 4,
 "nbformat_minor": 2
}
