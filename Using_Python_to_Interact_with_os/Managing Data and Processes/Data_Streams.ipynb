{
 "cells": [
  {
   "cell_type": "markdown",
   "metadata": {},
   "source": [
    "## Reading Data Interactively\n",
    "\n",
    "- **input() function**"
   ]
  },
  {
   "cell_type": "markdown",
   "metadata": {},
   "source": [
    "## Standard Streams"
   ]
  },
  {
   "cell_type": "markdown",
   "metadata": {},
   "source": [
    "I/O streams are used in both program and terminal\n",
    "\n",
    "- **STDIN**\n",
    "- **STDOUT**\n",
    "- **STDERR**\n",
    "\n",
    "These are the ways to recieve and send information in scripts"
   ]
  },
  {
   "cell_type": "markdown",
   "metadata": {},
   "source": [
    "## Environment Variables\n",
    "\n",
    "A shell is a command line interface used to interact with your operating system. \n",
    "\n",
    "The most commonly used shell on Linux is called Bash. \n",
    "\n",
    "Other popular shells are Zsh and Fish, while they operate in similar ways, for this and upcoming videos, when we talk about the Linux shell, we mean Bash.\n",
    "\n",
    "Our Python programs get executed inside a shell command-line environment. The variable set in that environment which are called you guessed it environment variables are another source of information that we can use in our scripts\n",
    "\n",
    "- type \"env\" in command Line/ Terminal\n",
    "\n",
    "- type **echo $PATH** in Terminal\n",
    "\n",
    "Echo is a command that we use to print texts and Linux shell\n",
    "\n",
    "So to access environment variables, we use the Environ dictionary provided by the OS module. \n",
    "\n",
    "In this case, we're using a dictionary method that we haven't used before. \n",
    "\n",
    "The getMethod is a bit similar to how we've been accessing dictionary values up until now.\n",
    "\n"
   ]
  },
  {
   "cell_type": "code",
   "execution_count": 1,
   "metadata": {},
   "outputs": [
    {
     "name": "stdout",
     "output_type": "stream",
     "text": [
      "HOME: /home/hina\n",
      "SHELL: /bin/bash\n",
      "FRUIT: \n"
     ]
    }
   ],
   "source": [
    "import os\n",
    "\n",
    "print(\"HOME: \"+os.environ.get(\"HOME\",\"\"))\n",
    "\n",
    "print(\"SHELL: \"+os.environ.get(\"SHELL\",\"\"))\n",
    "\n",
    "print(\"FRUIT: \"+os.environ.get(\"FRUIT\",\"\"))"
   ]
  },
  {
   "cell_type": "markdown",
   "metadata": {},
   "source": [
    "When we retrieve a value from a dictionary using the key as in OS.environ[fruit] and the key isn't present, we get an error. If we use a getMethod instead, we can specify what value should be returned if the key isn't present. \n",
    "\n",
    "In other words, the getMethod allows us to specify a default value when the key that we're looking for isn't in the dictionary. "
   ]
  },
  {
   "cell_type": "code",
   "execution_count": null,
   "metadata": {},
   "outputs": [],
   "source": [
    "export FRUIT=Pineapple"
   ]
  },
  {
   "cell_type": "markdown",
   "metadata": {},
   "source": [
    "the export keyword tells a shell that we want the value we set to be seen by any commands that we call. \n",
    "\n",
    "Now, If we again run prints command of FRUIT we get FRUIT: Pineapple"
   ]
  },
  {
   "cell_type": "code",
   "execution_count": null,
   "metadata": {},
   "outputs": [],
   "source": [
    "## COMMAND-LINE ARGUMETNS AND EXIT STATUS"
   ]
  },
  {
   "cell_type": "code",
   "execution_count": 2,
   "metadata": {},
   "outputs": [
    {
     "name": "stdout",
     "output_type": "stream",
     "text": [
      "['/home/hina/anaconda3/lib/python3.7/site-packages/ipykernel_launcher.py', '-f', '/home/hina/.local/share/jupyter/runtime/kernel-400a4675-f729-4ccc-9c6f-231921473c00.json']\n"
     ]
    }
   ],
   "source": [
    "# cat parameters.py\n",
    "\n",
    "import sys\n",
    "print(sys.argv)"
   ]
  },
  {
   "cell_type": "markdown",
   "metadata": {},
   "source": [
    "The command-line arguments are stored in sys module.\n",
    "\n",
    "These are the parameters which is passed to program when it just started\n",
    "\n",
    "./parameters.py\n",
    "It prints [parameters.py]\n",
    "\n",
    "./parameters.py one two three\n",
    "It prints [./parameters.py, one, two,three]\n",
    "\n",
    "### Terminals code\n",
    "wc variables.py     // It exists\n",
    "7 0 94 \n",
    "\n",
    "echo $?   It returns 0\n",
    "\n",
    "wc notpresent.py    // not exists\n",
    "\n",
    "echo$?     It returns 1"
   ]
  },
  {
   "cell_type": "markdown",
   "metadata": {},
   "source": [
    "The exit status is a value returned by a program to the shell. \n",
    "\n",
    "Knowing if a command finish successfully or not is helpful information which can be used by a program that's calling a command\n",
    "\n",
    "To check the exit status of a program, we can use a special variable that lets us see what the exit status of the last executed command was. \n",
    "\n",
    "The variable is the question mark variable. \n",
    "\n",
    "So to see the contents we use dollar sign question mark. \n",
    "\n",
    "Let's try this out using the WC command, which counts the number of lines words and characters in a file\n",
    "\n",
    "**the WC command and it printed the values of lines, words and characters for our Python script. **\n",
    "\n",
    "***sys.argv[1], sys.exit(1)**"
   ]
  },
  {
   "cell_type": "code",
   "execution_count": null,
   "metadata": {},
   "outputs": [],
   "source": []
  }
 ],
 "metadata": {
  "kernelspec": {
   "display_name": "Python 3",
   "language": "python",
   "name": "python3"
  },
  "language_info": {
   "codemirror_mode": {
    "name": "ipython",
    "version": 3
   },
   "file_extension": ".py",
   "mimetype": "text/x-python",
   "name": "python",
   "nbconvert_exporter": "python",
   "pygments_lexer": "ipython3",
   "version": "3.7.4"
  }
 },
 "nbformat": 4,
 "nbformat_minor": 2
}
