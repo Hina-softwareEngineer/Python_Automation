{
 "cells": [
  {
   "cell_type": "markdown",
   "metadata": {},
   "source": [
    "## Capturing Groups"
   ]
  },
  {
   "cell_type": "code",
   "execution_count": 55,
   "metadata": {},
   "outputs": [
    {
     "name": "stdout",
     "output_type": "stream",
     "text": [
      "<re.Match object; span=(0, 13), match='Lovelace, Ada'>\n"
     ]
    }
   ],
   "source": [
    "import re\n",
    "result=re.search(r\"^(\\w*), (\\w*)$\",\"Lovelace, Ada\")\n",
    "print(result)"
   ]
  },
  {
   "cell_type": "code",
   "execution_count": 56,
   "metadata": {},
   "outputs": [
    {
     "name": "stdout",
     "output_type": "stream",
     "text": [
      "('Lovelace', 'Ada')\n",
      "Lovelace, Ada\n",
      "Lovelace\n",
      "Ada\n"
     ]
    }
   ],
   "source": [
    "# groups\n",
    "\n",
    "print(result.groups())\n",
    "print(result[0])\n",
    "print(result[1])\n",
    "print(result[2])"
   ]
  },
  {
   "cell_type": "code",
   "execution_count": 57,
   "metadata": {},
   "outputs": [
    {
     "name": "stdout",
     "output_type": "stream",
     "text": [
      "Khaidm HIna\n"
     ]
    }
   ],
   "source": [
    "def rearrange_name(name):\n",
    "    result=re.search(r\"^([\\w .-]*), ([\\w .-]*)$\",name)\n",
    "    if result is None:\n",
    "        return name\n",
    "    return \"{} {}\".format(result[2],result[1])\n",
    "\n",
    "print(rearrange_name(\"HIna, Khaidm\"))"
   ]
  },
  {
   "cell_type": "markdown",
   "metadata": {},
   "source": [
    "## More on repetition Qualifiers"
   ]
  },
  {
   "cell_type": "code",
   "execution_count": 58,
   "metadata": {},
   "outputs": [
    {
     "name": "stdout",
     "output_type": "stream",
     "text": [
      "<re.Match object; span=(2, 7), match='ghost'>\n",
      "['ghost', 'scary', 'appea']\n",
      "['ghost', 'scary']\n",
      "['ghost', 'scary', 'appeared']\n",
      "['ghost', 'scary', 'appeared']\n",
      "['st', 'scary']\n"
     ]
    }
   ],
   "source": [
    "print(re.search(r\"[A-Za-z]{5}\",\"a ghost\"))\n",
    "print(re.findall(r\"[A-Za-z]{5}\",\"a ghost scary appeared\"))\n",
    "\n",
    "#  /b which is used to find length at the beginning and end.\n",
    "\n",
    "print(re.findall(r\"\\b[A-Za-z]{5}\\b\",\"a ghost scary appeared\"))\n",
    "print(re.findall(r\"\\w{5,10}\",\"a ghost scary appeared\"))\n",
    "print(re.findall(r\"\\w{5,}\",\"a ghost scary appeared\"))\n",
    "print(re.findall(r\"s\\w{,10}\",\"a ghost scary appeared\"))"
   ]
  },
  {
   "cell_type": "markdown",
   "metadata": {},
   "source": [
    "## Extracting a PID using REgexes in Python"
   ]
  },
  {
   "cell_type": "code",
   "execution_count": 59,
   "metadata": {},
   "outputs": [
    {
     "name": "stdout",
     "output_type": "stream",
     "text": [
      "[12345] (ERROR)\n",
      "None\n",
      "None\n",
      "[67890] (RUNNING)\n"
     ]
    }
   ],
   "source": [
    "import re\n",
    "def extract_pid(log_line):\n",
    "    regex = r\"(\\[(\\d+)\\]): ([A-Z]*)\"\n",
    "    result = re.search(regex, log_line)\n",
    "    if result is None:\n",
    "        return None\n",
    "    return \"{} ({})\".format(result[1],result[3])\n",
    "\n",
    "print(extract_pid(\"July 31 07:51:48 mycomputer bad_process[12345]: ERROR Performing package upgrade\")) # 12345 (ERROR)\n",
    "print(extract_pid(\"99 elephants in a [cage]\")) # None\n",
    "print(extract_pid(\"A string that also has numbers [34567] but no uppercase message\")) # None\n",
    "print(extract_pid(\"July 31 08:08:08 mycomputer new_process[67890]: RUNNING Performing backup\")) # 67890 (RUNNING)"
   ]
  },
  {
   "cell_type": "markdown",
   "metadata": {},
   "source": [
    "## Splitting and Replacing\n",
    "\n",
    "#### Parenthisis play a vital rule. It is use to group and other example is given below"
   ]
  },
  {
   "cell_type": "code",
   "execution_count": 60,
   "metadata": {},
   "outputs": [
    {
     "data": {
      "text/plain": [
       "['One sentence', '.', ' another one', '?', ' last', '!', '']"
      ]
     },
     "execution_count": 60,
     "metadata": {},
     "output_type": "execute_result"
    }
   ],
   "source": [
    "re.split(r\"[.?!]\",\"One sentence. another one? last!\")\n",
    "re.split(r\"([.?!])\",\"One sentence. another one? last!\")"
   ]
  },
  {
   "cell_type": "markdown",
   "metadata": {},
   "source": [
    "## Sub "
   ]
  },
  {
   "cell_type": "code",
   "execution_count": 61,
   "metadata": {},
   "outputs": [
    {
     "data": {
      "text/plain": [
       "'Recieved email for [REDACTED]'"
      ]
     },
     "execution_count": 61,
     "metadata": {},
     "output_type": "execute_result"
    }
   ],
   "source": [
    "re.sub(r\"[\\w.%+-]+@[\\w.-]+\",\"[REDACTED]\",\"Recieved email for go_nusts95@gmail.com\")"
   ]
  },
  {
   "cell_type": "code",
   "execution_count": 62,
   "metadata": {},
   "outputs": [
    {
     "name": "stdout",
     "output_type": "stream",
     "text": [
      "My number is (212) 345-9999.\n",
      "Please call (888) 555-1234\n",
      "123-123-12345\n",
      "Phone number of Buckingham Palace is +44 303 123 7300\n"
     ]
    }
   ],
   "source": [
    "import re\n",
    "def convert_phone_number(phone):\n",
    "    result = re.sub(r\"\\b(\\d{3})-(\\d{3})-(\\d{4})\\b\",r\"(\\1) \\2-\\3\",phone)\n",
    "    return result\n",
    "\n",
    "print(convert_phone_number(\"My number is 212-345-9999.\")) # My number is (212) 345-9999.\n",
    "print(convert_phone_number(\"Please call 888-555-1234\")) # Please call (888) 555-1234\n",
    "print(convert_phone_number(\"123-123-12345\")) # 123-123-12345\n",
    "print(convert_phone_number(\"Phone number of Buckingham Palace is +44 303 123 7300\")) # Phone number of Buckingham Pa"
   ]
  },
  {
   "cell_type": "markdown",
   "metadata": {},
   "source": [
    "#### We're working with a CSV file, which contains employee information. Each record has a name field, followed by a phone number field, and a role field. The phone number field contains U.S. phone numbers, and needs to be modified to the international format, with \"+1-\" in front of the phone number. Fill in the regular expression, using groups, to use the transform_record function to do that."
   ]
  },
  {
   "cell_type": "code",
   "execution_count": 63,
   "metadata": {},
   "outputs": [
    {
     "name": "stdout",
     "output_type": "stream",
     "text": [
      "Sabrina Green,+1-802-867-5309,System Administrator\n",
      "Eli Jones,+1-684-3481127,IT specialist\n",
      "Melody Daniels,+1-846-687-7436,Programmer\n",
      "Charlie Rivera,+1-698-746-3357,Web Developer\n"
     ]
    }
   ],
   "source": [
    "import re\n",
    "def transform_record(record):\n",
    "    new_record = re.sub(r\"\\,(\\d{3})\",r\",+1-\\1\",record)\n",
    "    return new_record\n",
    "\n",
    "print(transform_record(\"Sabrina Green,802-867-5309,System Administrator\")) \n",
    "# Sabrina Green,+1-802-867-5309,System Administrator\n",
    "\n",
    "print(transform_record(\"Eli Jones,684-3481127,IT specialist\")) \n",
    "# Eli Jones,+1-684-3481127,IT specialist\n",
    "\n",
    "print(transform_record(\"Melody Daniels,846-687-7436,Programmer\")) \n",
    "# Melody Daniels,+1-846-687-7436,Programmer\n",
    "\n",
    "print(transform_record(\"Charlie Rivera,698-746-3357,Web Developer\")) \n",
    "# Charlie Rivera,+1-698-746-3357,Web Developer"
   ]
  },
  {
   "cell_type": "markdown",
   "metadata": {},
   "source": [
    "#### The multi_vowel_words function returns all words with 3 or more consecutive vowels (a, e, i, o, u). Fill in the regular expression to do that."
   ]
  },
  {
   "cell_type": "code",
   "execution_count": 64,
   "metadata": {},
   "outputs": [
    {
     "name": "stdout",
     "output_type": "stream",
     "text": [
      "['beautiful']\n",
      "['Obviously', 'queen', 'courageous', 'gracious']\n",
      "['rambunctious', 'quietly', 'delicious']\n",
      "['queue']\n",
      "[]\n"
     ]
    }
   ],
   "source": [
    "import re\n",
    "def multi_vowel_words(text):\n",
    "    pattern = r\"(\\w+[aeiou]{3,}\\w+)\"\n",
    "    result = re.findall(pattern, text)\n",
    "    return result\n",
    "\n",
    "print(multi_vowel_words(\"Life is beautiful\")) \n",
    "# ['beautiful']\n",
    "\n",
    "print(multi_vowel_words(\"Obviously, the queen is courageous and gracious.\")) \n",
    "# ['Obviously', 'queen', 'courageous', 'gracious']\n",
    "\n",
    "print(multi_vowel_words(\"The rambunctious children had to sit quietly and await their delicious dinner.\")) \n",
    "# ['rambunctious', 'quietly', 'delicious']\n",
    "\n",
    "print(multi_vowel_words(\"The order of a data queue is First In First Out (FIFO)\")) \n",
    "# ['queue']\n",
    "\n",
    "print(multi_vowel_words(\"Hello world!\")) \n",
    "# []"
   ]
  }
 ],
 "metadata": {
  "kernelspec": {
   "display_name": "Python 3",
   "language": "python",
   "name": "python3"
  },
  "language_info": {
   "codemirror_mode": {
    "name": "ipython",
    "version": 3
   },
   "file_extension": ".py",
   "mimetype": "text/x-python",
   "name": "python",
   "nbconvert_exporter": "python",
   "pygments_lexer": "ipython3",
   "version": "3.7.4"
  }
 },
 "nbformat": 4,
 "nbformat_minor": 2
}
